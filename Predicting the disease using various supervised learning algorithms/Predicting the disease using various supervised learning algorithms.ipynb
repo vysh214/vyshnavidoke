{
 "cells": [
  {
   "cell_type": "code",
   "execution_count": 1,
   "id": "6653ec48",
   "metadata": {},
   "outputs": [
    {
     "data": {
      "text/plain": [
       "'C:\\\\Users\\\\Admin\\\\Downloads'"
      ]
     },
     "execution_count": 1,
     "metadata": {},
     "output_type": "execute_result"
    }
   ],
   "source": [
    "pwd"
   ]
  },
  {
   "cell_type": "markdown",
   "id": "3759b660",
   "metadata": {},
   "source": [
    "# Predicting the Kidney disease using various supervised learning algorithms"
   ]
  },
  {
   "cell_type": "code",
   "execution_count": 1,
   "id": "a56f4a71",
   "metadata": {},
   "outputs": [],
   "source": [
    "import pandas as pd "
   ]
  },
  {
   "cell_type": "code",
   "execution_count": 2,
   "id": "c8e371be",
   "metadata": {},
   "outputs": [
    {
     "data": {
      "text/html": [
       "<div>\n",
       "<style scoped>\n",
       "    .dataframe tbody tr th:only-of-type {\n",
       "        vertical-align: middle;\n",
       "    }\n",
       "\n",
       "    .dataframe tbody tr th {\n",
       "        vertical-align: top;\n",
       "    }\n",
       "\n",
       "    .dataframe thead th {\n",
       "        text-align: right;\n",
       "    }\n",
       "</style>\n",
       "<table border=\"1\" class=\"dataframe\">\n",
       "  <thead>\n",
       "    <tr style=\"text-align: right;\">\n",
       "      <th></th>\n",
       "      <th>id</th>\n",
       "      <th>age</th>\n",
       "      <th>bp</th>\n",
       "      <th>sg</th>\n",
       "      <th>al</th>\n",
       "      <th>su</th>\n",
       "      <th>rbc</th>\n",
       "      <th>pc</th>\n",
       "      <th>pcc</th>\n",
       "      <th>ba</th>\n",
       "      <th>...</th>\n",
       "      <th>pcv</th>\n",
       "      <th>wc</th>\n",
       "      <th>rc</th>\n",
       "      <th>htn</th>\n",
       "      <th>dm</th>\n",
       "      <th>cad</th>\n",
       "      <th>appet</th>\n",
       "      <th>pe</th>\n",
       "      <th>ane</th>\n",
       "      <th>classification</th>\n",
       "    </tr>\n",
       "  </thead>\n",
       "  <tbody>\n",
       "    <tr>\n",
       "      <th>0</th>\n",
       "      <td>0</td>\n",
       "      <td>48.0</td>\n",
       "      <td>80.0</td>\n",
       "      <td>1.020</td>\n",
       "      <td>1.0</td>\n",
       "      <td>0.0</td>\n",
       "      <td>NaN</td>\n",
       "      <td>normal</td>\n",
       "      <td>notpresent</td>\n",
       "      <td>notpresent</td>\n",
       "      <td>...</td>\n",
       "      <td>44</td>\n",
       "      <td>7800</td>\n",
       "      <td>5.2</td>\n",
       "      <td>yes</td>\n",
       "      <td>yes</td>\n",
       "      <td>no</td>\n",
       "      <td>good</td>\n",
       "      <td>no</td>\n",
       "      <td>no</td>\n",
       "      <td>ckd</td>\n",
       "    </tr>\n",
       "    <tr>\n",
       "      <th>1</th>\n",
       "      <td>1</td>\n",
       "      <td>7.0</td>\n",
       "      <td>50.0</td>\n",
       "      <td>1.020</td>\n",
       "      <td>4.0</td>\n",
       "      <td>0.0</td>\n",
       "      <td>NaN</td>\n",
       "      <td>normal</td>\n",
       "      <td>notpresent</td>\n",
       "      <td>notpresent</td>\n",
       "      <td>...</td>\n",
       "      <td>38</td>\n",
       "      <td>6000</td>\n",
       "      <td>NaN</td>\n",
       "      <td>no</td>\n",
       "      <td>no</td>\n",
       "      <td>no</td>\n",
       "      <td>good</td>\n",
       "      <td>no</td>\n",
       "      <td>no</td>\n",
       "      <td>ckd</td>\n",
       "    </tr>\n",
       "    <tr>\n",
       "      <th>2</th>\n",
       "      <td>2</td>\n",
       "      <td>62.0</td>\n",
       "      <td>80.0</td>\n",
       "      <td>1.010</td>\n",
       "      <td>2.0</td>\n",
       "      <td>3.0</td>\n",
       "      <td>normal</td>\n",
       "      <td>normal</td>\n",
       "      <td>notpresent</td>\n",
       "      <td>notpresent</td>\n",
       "      <td>...</td>\n",
       "      <td>31</td>\n",
       "      <td>7500</td>\n",
       "      <td>NaN</td>\n",
       "      <td>no</td>\n",
       "      <td>yes</td>\n",
       "      <td>no</td>\n",
       "      <td>poor</td>\n",
       "      <td>no</td>\n",
       "      <td>yes</td>\n",
       "      <td>ckd</td>\n",
       "    </tr>\n",
       "    <tr>\n",
       "      <th>3</th>\n",
       "      <td>3</td>\n",
       "      <td>48.0</td>\n",
       "      <td>70.0</td>\n",
       "      <td>1.005</td>\n",
       "      <td>4.0</td>\n",
       "      <td>0.0</td>\n",
       "      <td>normal</td>\n",
       "      <td>abnormal</td>\n",
       "      <td>present</td>\n",
       "      <td>notpresent</td>\n",
       "      <td>...</td>\n",
       "      <td>32</td>\n",
       "      <td>6700</td>\n",
       "      <td>3.9</td>\n",
       "      <td>yes</td>\n",
       "      <td>no</td>\n",
       "      <td>no</td>\n",
       "      <td>poor</td>\n",
       "      <td>yes</td>\n",
       "      <td>yes</td>\n",
       "      <td>ckd</td>\n",
       "    </tr>\n",
       "    <tr>\n",
       "      <th>4</th>\n",
       "      <td>4</td>\n",
       "      <td>51.0</td>\n",
       "      <td>80.0</td>\n",
       "      <td>1.010</td>\n",
       "      <td>2.0</td>\n",
       "      <td>0.0</td>\n",
       "      <td>normal</td>\n",
       "      <td>normal</td>\n",
       "      <td>notpresent</td>\n",
       "      <td>notpresent</td>\n",
       "      <td>...</td>\n",
       "      <td>35</td>\n",
       "      <td>7300</td>\n",
       "      <td>4.6</td>\n",
       "      <td>no</td>\n",
       "      <td>no</td>\n",
       "      <td>no</td>\n",
       "      <td>good</td>\n",
       "      <td>no</td>\n",
       "      <td>no</td>\n",
       "      <td>ckd</td>\n",
       "    </tr>\n",
       "    <tr>\n",
       "      <th>5</th>\n",
       "      <td>5</td>\n",
       "      <td>60.0</td>\n",
       "      <td>90.0</td>\n",
       "      <td>1.015</td>\n",
       "      <td>3.0</td>\n",
       "      <td>0.0</td>\n",
       "      <td>NaN</td>\n",
       "      <td>NaN</td>\n",
       "      <td>notpresent</td>\n",
       "      <td>notpresent</td>\n",
       "      <td>...</td>\n",
       "      <td>39</td>\n",
       "      <td>7800</td>\n",
       "      <td>4.4</td>\n",
       "      <td>yes</td>\n",
       "      <td>yes</td>\n",
       "      <td>no</td>\n",
       "      <td>good</td>\n",
       "      <td>yes</td>\n",
       "      <td>no</td>\n",
       "      <td>ckd</td>\n",
       "    </tr>\n",
       "    <tr>\n",
       "      <th>6</th>\n",
       "      <td>6</td>\n",
       "      <td>68.0</td>\n",
       "      <td>70.0</td>\n",
       "      <td>1.010</td>\n",
       "      <td>0.0</td>\n",
       "      <td>0.0</td>\n",
       "      <td>NaN</td>\n",
       "      <td>normal</td>\n",
       "      <td>notpresent</td>\n",
       "      <td>notpresent</td>\n",
       "      <td>...</td>\n",
       "      <td>36</td>\n",
       "      <td>NaN</td>\n",
       "      <td>NaN</td>\n",
       "      <td>no</td>\n",
       "      <td>no</td>\n",
       "      <td>no</td>\n",
       "      <td>good</td>\n",
       "      <td>no</td>\n",
       "      <td>no</td>\n",
       "      <td>ckd</td>\n",
       "    </tr>\n",
       "    <tr>\n",
       "      <th>7</th>\n",
       "      <td>7</td>\n",
       "      <td>24.0</td>\n",
       "      <td>NaN</td>\n",
       "      <td>1.015</td>\n",
       "      <td>2.0</td>\n",
       "      <td>4.0</td>\n",
       "      <td>normal</td>\n",
       "      <td>abnormal</td>\n",
       "      <td>notpresent</td>\n",
       "      <td>notpresent</td>\n",
       "      <td>...</td>\n",
       "      <td>44</td>\n",
       "      <td>6900</td>\n",
       "      <td>5</td>\n",
       "      <td>no</td>\n",
       "      <td>yes</td>\n",
       "      <td>no</td>\n",
       "      <td>good</td>\n",
       "      <td>yes</td>\n",
       "      <td>no</td>\n",
       "      <td>ckd</td>\n",
       "    </tr>\n",
       "    <tr>\n",
       "      <th>8</th>\n",
       "      <td>8</td>\n",
       "      <td>52.0</td>\n",
       "      <td>100.0</td>\n",
       "      <td>1.015</td>\n",
       "      <td>3.0</td>\n",
       "      <td>0.0</td>\n",
       "      <td>normal</td>\n",
       "      <td>abnormal</td>\n",
       "      <td>present</td>\n",
       "      <td>notpresent</td>\n",
       "      <td>...</td>\n",
       "      <td>33</td>\n",
       "      <td>9600</td>\n",
       "      <td>4</td>\n",
       "      <td>yes</td>\n",
       "      <td>yes</td>\n",
       "      <td>no</td>\n",
       "      <td>good</td>\n",
       "      <td>no</td>\n",
       "      <td>yes</td>\n",
       "      <td>ckd</td>\n",
       "    </tr>\n",
       "    <tr>\n",
       "      <th>9</th>\n",
       "      <td>9</td>\n",
       "      <td>53.0</td>\n",
       "      <td>90.0</td>\n",
       "      <td>1.020</td>\n",
       "      <td>2.0</td>\n",
       "      <td>0.0</td>\n",
       "      <td>abnormal</td>\n",
       "      <td>abnormal</td>\n",
       "      <td>present</td>\n",
       "      <td>notpresent</td>\n",
       "      <td>...</td>\n",
       "      <td>29</td>\n",
       "      <td>12100</td>\n",
       "      <td>3.7</td>\n",
       "      <td>yes</td>\n",
       "      <td>yes</td>\n",
       "      <td>no</td>\n",
       "      <td>poor</td>\n",
       "      <td>no</td>\n",
       "      <td>yes</td>\n",
       "      <td>ckd</td>\n",
       "    </tr>\n",
       "  </tbody>\n",
       "</table>\n",
       "<p>10 rows × 26 columns</p>\n",
       "</div>"
      ],
      "text/plain": [
       "   id   age     bp     sg   al   su       rbc        pc         pcc  \\\n",
       "0   0  48.0   80.0  1.020  1.0  0.0       NaN    normal  notpresent   \n",
       "1   1   7.0   50.0  1.020  4.0  0.0       NaN    normal  notpresent   \n",
       "2   2  62.0   80.0  1.010  2.0  3.0    normal    normal  notpresent   \n",
       "3   3  48.0   70.0  1.005  4.0  0.0    normal  abnormal     present   \n",
       "4   4  51.0   80.0  1.010  2.0  0.0    normal    normal  notpresent   \n",
       "5   5  60.0   90.0  1.015  3.0  0.0       NaN       NaN  notpresent   \n",
       "6   6  68.0   70.0  1.010  0.0  0.0       NaN    normal  notpresent   \n",
       "7   7  24.0    NaN  1.015  2.0  4.0    normal  abnormal  notpresent   \n",
       "8   8  52.0  100.0  1.015  3.0  0.0    normal  abnormal     present   \n",
       "9   9  53.0   90.0  1.020  2.0  0.0  abnormal  abnormal     present   \n",
       "\n",
       "           ba  ...  pcv     wc   rc  htn   dm  cad appet   pe  ane  \\\n",
       "0  notpresent  ...   44   7800  5.2  yes  yes   no  good   no   no   \n",
       "1  notpresent  ...   38   6000  NaN   no   no   no  good   no   no   \n",
       "2  notpresent  ...   31   7500  NaN   no  yes   no  poor   no  yes   \n",
       "3  notpresent  ...   32   6700  3.9  yes   no   no  poor  yes  yes   \n",
       "4  notpresent  ...   35   7300  4.6   no   no   no  good   no   no   \n",
       "5  notpresent  ...   39   7800  4.4  yes  yes   no  good  yes   no   \n",
       "6  notpresent  ...   36    NaN  NaN   no   no   no  good   no   no   \n",
       "7  notpresent  ...   44   6900    5   no  yes   no  good  yes   no   \n",
       "8  notpresent  ...   33   9600    4  yes  yes   no  good   no  yes   \n",
       "9  notpresent  ...   29  12100  3.7  yes  yes   no  poor   no  yes   \n",
       "\n",
       "  classification  \n",
       "0            ckd  \n",
       "1            ckd  \n",
       "2            ckd  \n",
       "3            ckd  \n",
       "4            ckd  \n",
       "5            ckd  \n",
       "6            ckd  \n",
       "7            ckd  \n",
       "8            ckd  \n",
       "9            ckd  \n",
       "\n",
       "[10 rows x 26 columns]"
      ]
     },
     "execution_count": 2,
     "metadata": {},
     "output_type": "execute_result"
    }
   ],
   "source": [
    "df = pd.read_csv(\"kidney_disease.csv\")\n",
    "# take a look at the dataset\n",
    "df.head(10)"
   ]
  },
  {
   "cell_type": "code",
   "execution_count": 3,
   "id": "eead9789",
   "metadata": {},
   "outputs": [
    {
     "data": {
      "text/plain": [
       "id                  0\n",
       "age                 9\n",
       "bp                 12\n",
       "sg                 47\n",
       "al                 46\n",
       "su                 49\n",
       "rbc               152\n",
       "pc                 65\n",
       "pcc                 4\n",
       "ba                  4\n",
       "bgr                44\n",
       "bu                 19\n",
       "sc                 17\n",
       "sod                87\n",
       "pot                88\n",
       "hemo               52\n",
       "pcv                70\n",
       "wc                105\n",
       "rc                130\n",
       "htn                 2\n",
       "dm                  2\n",
       "cad                 2\n",
       "appet               1\n",
       "pe                  1\n",
       "ane                 1\n",
       "classification      0\n",
       "dtype: int64"
      ]
     },
     "execution_count": 3,
     "metadata": {},
     "output_type": "execute_result"
    }
   ],
   "source": [
    "df.isnull().sum()"
   ]
  },
  {
   "cell_type": "code",
   "execution_count": 4,
   "id": "367f77bd",
   "metadata": {},
   "outputs": [],
   "source": [
    "df[\"classification\"] = df[\"classification\"].replace(\"ckd\\t\", \"ckd\")"
   ]
  },
  {
   "cell_type": "code",
   "execution_count": 5,
   "id": "b5df9f60",
   "metadata": {},
   "outputs": [
    {
     "data": {
      "text/plain": [
       "ckd       250\n",
       "notckd    150\n",
       "Name: classification, dtype: int64"
      ]
     },
     "execution_count": 5,
     "metadata": {},
     "output_type": "execute_result"
    }
   ],
   "source": [
    "df[\"classification\"].value_counts()"
   ]
  },
  {
   "cell_type": "code",
   "execution_count": 6,
   "id": "06cfc4e9",
   "metadata": {},
   "outputs": [],
   "source": [
    "df[\"bp\"] = df[\"bp\"].fillna(df[\"bp\"].mean())\n",
    "df[\"age\"] = df[\"age\"].fillna(df[\"age\"].mean())\n",
    "df[\"sg\"] = df[\"sg\"].fillna(df[\"sg\"].mean())\n",
    "df[\"al\"] = df[\"al\"].fillna(df[\"al\"].mean())\n",
    "df[\"su\"] = df[\"su\"].fillna(df[\"su\"].mean())\n",
    "df[\"bgr\"] = df[\"bgr\"].fillna(df[\"bgr\"].mean())\n",
    "df[\"bu\"] = df[\"bu\"].fillna(df[\"bu\"].mean())\n",
    "df[\"sc\"] = df[\"sc\"].fillna(df[\"sc\"].mean())\n",
    "df[\"sod\"] = df[\"sod\"].fillna(df[\"sod\"].mean())\n",
    "df[\"pot\"] = df[\"pot\"].fillna(df[\"pot\"].mean())\n",
    "df[\"hemo\"] = df[\"hemo\"].fillna(df[\"hemo\"].mean())"
   ]
  },
  {
   "cell_type": "code",
   "execution_count": 7,
   "id": "92fbd678",
   "metadata": {},
   "outputs": [],
   "source": [
    "rbc_mode = df[\"rbc\"].mode()[0]\n",
    "df[\"rbc\"] = df[\"rbc\"].fillna(rbc_mode)\n",
    "pc_mode = df[\"pc\"].mode()[0]\n",
    "df[\"pc\"] = df[\"pc\"].fillna(pc_mode)\n",
    "pcc_mode = df[\"pcc\"].mode()[0]\n",
    "df[\"pcc\"] = df[\"pcc\"].fillna(pcc_mode)\n",
    "ba_mode = df[\"ba\"].mode()[0]\n",
    "df[\"ba\"] = df[\"ba\"].fillna(ba_mode)\n",
    "pcv_mode = df[\"pcv\"].mode()[0]\n",
    "df[\"pcv\"] = df[\"pcv\"].fillna(pcv_mode)\n",
    "wc_mode = df[\"wc\"].mode()[0]\n",
    "df[\"wc\"] = df[\"wc\"].fillna(wc_mode)\n",
    "rc_mode = df[\"rc\"].mode()[0]\n",
    "df[\"rc\"] = df[\"rc\"].fillna(rc_mode)\n",
    "htn_mode = df[\"htn\"].mode()[0]\n",
    "df[\"htn\"] = df[\"htn\"].fillna(htn_mode)\n",
    "dm_mode = df[\"dm\"].mode()[0]\n",
    "df[\"dm\"] = df[\"dm\"].fillna(dm_mode)\n",
    "cad_mode = df[\"cad\"].mode()[0]\n",
    "df[\"cad\"] = df[\"cad\"].fillna(cad_mode)\n",
    "appet_mode = df[\"appet\"].mode()[0]\n",
    "df[\"appet\"] = df[\"appet\"].fillna(appet_mode)\n",
    "pe_mode = df[\"pe\"].mode()[0]\n",
    "df[\"pe\"] = df[\"pe\"].fillna(pe_mode)\n",
    "ane_mode = df[\"ane\"].mode()[0]\n",
    "df[\"ane\"] = df[\"ane\"].fillna(ane_mode)"
   ]
  },
  {
   "cell_type": "code",
   "execution_count": 8,
   "id": "994aca26",
   "metadata": {},
   "outputs": [
    {
     "data": {
      "text/plain": [
       "id                0\n",
       "age               0\n",
       "bp                0\n",
       "sg                0\n",
       "al                0\n",
       "su                0\n",
       "rbc               0\n",
       "pc                0\n",
       "pcc               0\n",
       "ba                0\n",
       "bgr               0\n",
       "bu                0\n",
       "sc                0\n",
       "sod               0\n",
       "pot               0\n",
       "hemo              0\n",
       "pcv               0\n",
       "wc                0\n",
       "rc                0\n",
       "htn               0\n",
       "dm                0\n",
       "cad               0\n",
       "appet             0\n",
       "pe                0\n",
       "ane               0\n",
       "classification    0\n",
       "dtype: int64"
      ]
     },
     "execution_count": 8,
     "metadata": {},
     "output_type": "execute_result"
    }
   ],
   "source": [
    "df.isnull().sum()"
   ]
  },
  {
   "cell_type": "code",
   "execution_count": 9,
   "id": "8e721a6d",
   "metadata": {},
   "outputs": [
    {
     "data": {
      "text/plain": [
       "id                  int64\n",
       "age               float64\n",
       "bp                float64\n",
       "sg                float64\n",
       "al                float64\n",
       "su                float64\n",
       "rbc                object\n",
       "pc                 object\n",
       "pcc                object\n",
       "ba                 object\n",
       "bgr               float64\n",
       "bu                float64\n",
       "sc                float64\n",
       "sod               float64\n",
       "pot               float64\n",
       "hemo              float64\n",
       "pcv                object\n",
       "wc                 object\n",
       "rc                 object\n",
       "htn                object\n",
       "dm                 object\n",
       "cad                object\n",
       "appet              object\n",
       "pe                 object\n",
       "ane                object\n",
       "classification     object\n",
       "dtype: object"
      ]
     },
     "execution_count": 9,
     "metadata": {},
     "output_type": "execute_result"
    }
   ],
   "source": [
    "df.dtypes"
   ]
  },
  {
   "cell_type": "code",
   "execution_count": 10,
   "id": "0a545bea",
   "metadata": {},
   "outputs": [],
   "source": [
    "from sklearn.preprocessing import LabelEncoder\n",
    "cat_features = [i for i in df.columns if df.dtypes[i] == \"object\"]\n",
    "le = LabelEncoder()\n",
    "df[cat_features] = df[cat_features].apply(le.fit_transform)"
   ]
  },
  {
   "cell_type": "code",
   "execution_count": 11,
   "id": "54a217c2",
   "metadata": {},
   "outputs": [
    {
     "name": "stdout",
     "output_type": "stream",
     "text": [
      "      age    bp     sg   al   su  rbc  pc  pcc  ba         bgr  ...  hemo  \\\n",
      "0    48.0  80.0  1.020  1.0  0.0    1   1    0   0  121.000000  ...  15.4   \n",
      "1     7.0  50.0  1.020  4.0  0.0    1   1    0   0  148.036517  ...  11.3   \n",
      "2    62.0  80.0  1.010  2.0  3.0    1   1    0   0  423.000000  ...   9.6   \n",
      "3    48.0  70.0  1.005  4.0  0.0    1   0    1   0  117.000000  ...  11.2   \n",
      "4    51.0  80.0  1.010  2.0  0.0    1   1    0   0  106.000000  ...  11.6   \n",
      "..    ...   ...    ...  ...  ...  ...  ..  ...  ..         ...  ...   ...   \n",
      "395  55.0  80.0  1.020  0.0  0.0    1   1    0   0  140.000000  ...  15.7   \n",
      "396  42.0  70.0  1.025  0.0  0.0    1   1    0   0   75.000000  ...  16.5   \n",
      "397  12.0  80.0  1.020  0.0  0.0    1   1    0   0  100.000000  ...  15.8   \n",
      "398  17.0  60.0  1.025  0.0  0.0    1   1    0   0  114.000000  ...  14.2   \n",
      "399  58.0  80.0  1.025  0.0  0.0    1   1    0   0  131.000000  ...  15.8   \n",
      "\n",
      "     pcv  wc  rc  htn  dm  cad  appet  pe  ane  \n",
      "0     32  72  31    1   4    1      0   0    0  \n",
      "1     26  56  31    0   3    1      0   0    0  \n",
      "2     19  70  31    0   4    1      1   0    1  \n",
      "3     20  62  18    1   3    1      1   1    1  \n",
      "4     23  68  25    0   3    1      0   0    0  \n",
      "..   ...  ..  ..  ...  ..  ...    ...  ..  ...  \n",
      "395   35  62  28    0   3    1      0   0    0  \n",
      "396   42  72  41    0   3    1      0   0    0  \n",
      "397   37  61  33    0   3    1      0   0    0  \n",
      "398   39  67  38    0   3    1      0   0    0  \n",
      "399   41  63  40    0   3    1      0   0    0  \n",
      "\n",
      "[400 rows x 24 columns]\n",
      "0      0\n",
      "1      0\n",
      "2      0\n",
      "3      0\n",
      "4      0\n",
      "      ..\n",
      "395    1\n",
      "396    1\n",
      "397    1\n",
      "398    1\n",
      "399    1\n",
      "Name: classification, Length: 400, dtype: int32\n"
     ]
    }
   ],
   "source": [
    "X = df[[\"age\",\"bp\",\"sg\",\"al\",\"su\",\"rbc\",\"pc\",\"pcc\",\"ba\",\"bgr\",\"bu\",\"sc\",\"sod\",\"pot\",\"hemo\",\"pcv\",\"wc\",\"rc\",\"htn\",\"dm\",\"cad\",\"appet\",\"pe\",\"ane\"]]\n",
    "y = df[\"classification\"]\n",
    "print(X)\n",
    "print(y)"
   ]
  },
  {
   "cell_type": "markdown",
   "id": "51ba23a6",
   "metadata": {},
   "source": [
    "# Logistic Rgeression"
   ]
  },
  {
   "cell_type": "code",
   "execution_count": 12,
   "id": "9e8d3a8d",
   "metadata": {},
   "outputs": [],
   "source": [
    "from sklearn.linear_model import LogisticRegression\n",
    "from sklearn.model_selection import train_test_split\n",
    "X_train,X_test,y_train,y_test = train_test_split(X,y,test_size=0.25,random_state=0)"
   ]
  },
  {
   "cell_type": "code",
   "execution_count": 13,
   "id": "31335e36",
   "metadata": {},
   "outputs": [],
   "source": [
    "logistic_regression= LogisticRegression() "
   ]
  },
  {
   "cell_type": "code",
   "execution_count": 14,
   "id": "f16a9711",
   "metadata": {},
   "outputs": [
    {
     "name": "stderr",
     "output_type": "stream",
     "text": [
      "C:\\Users\\Admin\\anaconda3\\lib\\site-packages\\sklearn\\linear_model\\_logistic.py:763: ConvergenceWarning: lbfgs failed to converge (status=1):\n",
      "STOP: TOTAL NO. of ITERATIONS REACHED LIMIT.\n",
      "\n",
      "Increase the number of iterations (max_iter) or scale the data as shown in:\n",
      "    https://scikit-learn.org/stable/modules/preprocessing.html\n",
      "Please also refer to the documentation for alternative solver options:\n",
      "    https://scikit-learn.org/stable/modules/linear_model.html#logistic-regression\n",
      "  n_iter_i = _check_optimize_result(\n"
     ]
    },
    {
     "data": {
      "text/plain": [
       "LogisticRegression()"
      ]
     },
     "execution_count": 14,
     "metadata": {},
     "output_type": "execute_result"
    }
   ],
   "source": [
    "logistic_regression.fit(X_train,y_train) "
   ]
  },
  {
   "cell_type": "code",
   "execution_count": 15,
   "id": "a5727dac",
   "metadata": {},
   "outputs": [
    {
     "data": {
      "text/plain": [
       "array([0, 1, 0, 0, 0, 0, 0, 1, 0, 0, 0, 0, 0, 1, 0, 0, 1, 0, 0, 0, 0, 1,\n",
       "       0, 1, 0, 1, 0, 0, 1, 1, 0, 1, 1, 0, 1, 0, 0, 0, 0, 1, 0, 1, 0, 0,\n",
       "       1, 0, 1, 1, 0, 0, 0, 0, 1, 0, 1, 1, 0, 0, 0, 0, 0, 1, 0, 1, 0, 1,\n",
       "       0, 0, 0, 1, 0, 1, 0, 0, 0, 0, 1, 1, 1, 1, 1, 0, 0, 0, 1, 0, 0, 1,\n",
       "       1, 1, 1, 1, 0, 0, 0, 0, 0, 1, 1, 1])"
      ]
     },
     "execution_count": 15,
     "metadata": {},
     "output_type": "execute_result"
    }
   ],
   "source": [
    "y_pred=logistic_regression.predict(X_test)\n",
    "y_pred"
   ]
  },
  {
   "cell_type": "code",
   "execution_count": 16,
   "id": "3f235688",
   "metadata": {},
   "outputs": [
    {
     "name": "stdout",
     "output_type": "stream",
     "text": [
      "accuracy of the model: 97.0\n"
     ]
    }
   ],
   "source": [
    "from sklearn.metrics import accuracy_score\n",
    "\n",
    "print('accuracy of the model:', accuracy_score(y_test, y_pred)*100)"
   ]
  },
  {
   "cell_type": "code",
   "execution_count": 17,
   "id": "bec42ba8",
   "metadata": {},
   "outputs": [
    {
     "name": "stdout",
     "output_type": "stream",
     "text": [
      "[[60  2]\n",
      " [ 1 37]]\n"
     ]
    }
   ],
   "source": [
    "from sklearn import metrics\n",
    "cnf_matrix = metrics.confusion_matrix(y_test, y_pred)\n",
    "print(cnf_matrix)"
   ]
  },
  {
   "cell_type": "markdown",
   "id": "9ec9fdb7",
   "metadata": {},
   "source": [
    "# KNN"
   ]
  },
  {
   "cell_type": "code",
   "execution_count": 18,
   "id": "48c22fc6",
   "metadata": {},
   "outputs": [
    {
     "data": {
      "text/plain": [
       "KNeighborsClassifier(n_neighbors=7)"
      ]
     },
     "execution_count": 18,
     "metadata": {},
     "output_type": "execute_result"
    }
   ],
   "source": [
    "from sklearn.neighbors import KNeighborsClassifier\n",
    "model = KNeighborsClassifier(n_neighbors=7) \n",
    "# Train the model using the training sets \n",
    "model.fit(X,y) "
   ]
  },
  {
   "cell_type": "code",
   "execution_count": 19,
   "id": "41ed2595",
   "metadata": {},
   "outputs": [],
   "source": [
    "y1_pred= model.predict(X_test) "
   ]
  },
  {
   "cell_type": "code",
   "execution_count": 20,
   "id": "d8ed5b14",
   "metadata": {},
   "outputs": [
    {
     "data": {
      "text/plain": [
       "0.91"
      ]
     },
     "execution_count": 20,
     "metadata": {},
     "output_type": "execute_result"
    }
   ],
   "source": [
    "from sklearn.metrics import accuracy_score\n",
    "\n",
    "acc = accuracy_score(y_test,y1_pred)\n",
    "acc"
   ]
  },
  {
   "cell_type": "code",
   "execution_count": 21,
   "id": "eba242cf",
   "metadata": {},
   "outputs": [
    {
     "name": "stdout",
     "output_type": "stream",
     "text": [
      "[[54  8]\n",
      " [ 1 37]]\n"
     ]
    }
   ],
   "source": [
    "from sklearn import metrics\n",
    "cnf_matrix = metrics.confusion_matrix(y_test, y1_pred)\n",
    "print(cnf_matrix)"
   ]
  },
  {
   "cell_type": "markdown",
   "id": "8321ab44",
   "metadata": {},
   "source": [
    "# SVM"
   ]
  },
  {
   "cell_type": "code",
   "execution_count": 22,
   "id": "7f32da30",
   "metadata": {},
   "outputs": [],
   "source": [
    "from sklearn.model_selection import train_test_split \n",
    "X1_train, X1_test, y1_train, y1_test = train_test_split(X, y, test_size=0.2, random_state=0)"
   ]
  },
  {
   "cell_type": "code",
   "execution_count": 23,
   "id": "66652866",
   "metadata": {},
   "outputs": [
    {
     "data": {
      "text/plain": [
       "SVC()"
      ]
     },
     "execution_count": 23,
     "metadata": {},
     "output_type": "execute_result"
    }
   ],
   "source": [
    "from sklearn import svm\n",
    "#Step-5 : Building SVM Model\n",
    "# Create SVM classifer object \n",
    "clf = svm.SVC() # Linear Kernel\n",
    "#Linear Kernel A linear kernel can be used as normal dot product any two given observations. \n",
    "#The product between two vectors is the sum of the multiplication of each pair of input values.\n",
    "\n",
    "#Train the model using the training sets, fit your model on train set using fit()\n",
    "clf.fit(X1_train, y1_train)"
   ]
  },
  {
   "cell_type": "code",
   "execution_count": 24,
   "id": "fd882d86",
   "metadata": {},
   "outputs": [],
   "source": [
    "y2_pred = clf.predict(X1_test)"
   ]
  },
  {
   "cell_type": "code",
   "execution_count": 25,
   "id": "0004a044",
   "metadata": {},
   "outputs": [
    {
     "data": {
      "text/plain": [
       "array([0, 1, 1, 0, 0, 0, 1, 1, 0, 0, 0, 0, 0, 1, 0, 0, 1, 0, 0, 1, 0, 1,\n",
       "       0, 1, 0, 1, 0, 0, 1, 1, 0, 1, 0, 0, 0, 0, 0, 1, 0, 1, 0, 1, 0, 1,\n",
       "       1, 0, 1, 1, 0, 1, 0, 1, 1, 0, 1, 1, 0, 0, 0, 0, 0, 1, 1, 1, 0, 1,\n",
       "       0, 1, 0, 1, 0, 1, 0, 0, 0, 0, 1, 1, 1, 1])"
      ]
     },
     "execution_count": 25,
     "metadata": {},
     "output_type": "execute_result"
    }
   ],
   "source": [
    "y2_pred"
   ]
  },
  {
   "cell_type": "code",
   "execution_count": 26,
   "id": "645ca3f2",
   "metadata": {},
   "outputs": [
    {
     "name": "stdout",
     "output_type": "stream",
     "text": [
      "Accuracy: 0.875\n"
     ]
    }
   ],
   "source": [
    "print(\"Accuracy:\",metrics.accuracy_score(y1_test, y2_pred))"
   ]
  },
  {
   "cell_type": "code",
   "execution_count": 27,
   "id": "82305488",
   "metadata": {},
   "outputs": [
    {
     "name": "stdout",
     "output_type": "stream",
     "text": [
      "[[43  9]\n",
      " [ 1 27]]\n"
     ]
    }
   ],
   "source": [
    "from sklearn import metrics\n",
    "cnf_matrix = metrics.confusion_matrix(y1_test, y2_pred)\n",
    "print(cnf_matrix)"
   ]
  },
  {
   "cell_type": "markdown",
   "id": "2cb6c258",
   "metadata": {},
   "source": [
    "# Guassian naive bayes"
   ]
  },
  {
   "cell_type": "code",
   "execution_count": 28,
   "id": "84b18073",
   "metadata": {},
   "outputs": [],
   "source": [
    "from sklearn.model_selection import train_test_split\n",
    "X2_train, X2_test, y2_train, y2_test = train_test_split(X, y, test_size=0.2, random_state=1)"
   ]
  },
  {
   "cell_type": "code",
   "execution_count": 29,
   "id": "ba4cec0f",
   "metadata": {},
   "outputs": [
    {
     "data": {
      "text/plain": [
       "GaussianNB()"
      ]
     },
     "execution_count": 29,
     "metadata": {},
     "output_type": "execute_result"
    }
   ],
   "source": [
    "# training the model on training set\n",
    "from sklearn.naive_bayes import GaussianNB\n",
    "gnb = GaussianNB()\n",
    "gnb.fit(X2_train, y2_train)\n",
    " "
   ]
  },
  {
   "cell_type": "code",
   "execution_count": 30,
   "id": "9792ea58",
   "metadata": {},
   "outputs": [
    {
     "name": "stdout",
     "output_type": "stream",
     "text": [
      "Gaussian Naive Bayes model accuracy(in %): 97.0\n"
     ]
    }
   ],
   "source": [
    "y3_pred = gnb.predict(X2_test)\n",
    " \n",
    "# comparing actual response values (y_test) with predicted response values (y_pred)\n",
    "from sklearn import metrics\n",
    "print(\"Gaussian Naive Bayes model accuracy(in %):\", metrics.accuracy_score(y_test, y_pred)*100)"
   ]
  },
  {
   "cell_type": "code",
   "execution_count": 31,
   "id": "02122922",
   "metadata": {},
   "outputs": [
    {
     "name": "stdout",
     "output_type": "stream",
     "text": [
      "[[44  3]\n",
      " [ 0 33]]\n"
     ]
    }
   ],
   "source": [
    "from sklearn import metrics\n",
    "cnf_matrix = metrics.confusion_matrix(y2_test, y3_pred)\n",
    "print(cnf_matrix)"
   ]
  },
  {
   "cell_type": "markdown",
   "id": "e0a9f187",
   "metadata": {},
   "source": [
    "# Random Forest"
   ]
  },
  {
   "cell_type": "code",
   "execution_count": 32,
   "id": "2f971c2c",
   "metadata": {},
   "outputs": [],
   "source": [
    "from sklearn.model_selection import train_test_split # Import train_test_split function\n",
    "from sklearn import metrics #Import scikit-learn metrics module for accuracy calculation\n",
    "\n",
    "# Split dataset into training set and test set\n",
    "X3_train, X3_test, y3_train, y3_test = train_test_split(X, y, test_size=0.3, random_state=0) "
   ]
  },
  {
   "cell_type": "code",
   "execution_count": 33,
   "id": "33dac0a8",
   "metadata": {},
   "outputs": [],
   "source": [
    "from sklearn.ensemble import RandomForestClassifier"
   ]
  },
  {
   "cell_type": "code",
   "execution_count": 34,
   "id": "dbbd031a",
   "metadata": {},
   "outputs": [],
   "source": [
    "model = RandomForestClassifier()\n",
    "\n",
    "model = model.fit(X3_train,y3_train)\n",
    "\n",
    "#Predict the response for test dataset\n",
    "y4_pred = model.predict(X3_test)"
   ]
  },
  {
   "cell_type": "code",
   "execution_count": 35,
   "id": "0b70b717",
   "metadata": {},
   "outputs": [
    {
     "name": "stdout",
     "output_type": "stream",
     "text": [
      "Accuracy: 0.975\n"
     ]
    }
   ],
   "source": [
    "print(\"Accuracy:\",metrics.accuracy_score(y3_test, y4_pred))"
   ]
  },
  {
   "cell_type": "code",
   "execution_count": null,
   "id": "4d8a1218",
   "metadata": {},
   "outputs": [],
   "source": []
  },
  {
   "cell_type": "code",
   "execution_count": null,
   "id": "198a9f36",
   "metadata": {},
   "outputs": [],
   "source": []
  },
  {
   "cell_type": "code",
   "execution_count": null,
   "id": "ccbde310",
   "metadata": {},
   "outputs": [],
   "source": []
  },
  {
   "cell_type": "code",
   "execution_count": null,
   "id": "d0c18446",
   "metadata": {},
   "outputs": [],
   "source": []
  },
  {
   "cell_type": "code",
   "execution_count": null,
   "id": "feaa2570",
   "metadata": {},
   "outputs": [],
   "source": []
  },
  {
   "cell_type": "code",
   "execution_count": null,
   "id": "3887e089",
   "metadata": {},
   "outputs": [],
   "source": [
    "1"
   ]
  }
 ],
 "metadata": {
  "kernelspec": {
   "display_name": "Python 3",
   "language": "python",
   "name": "python3"
  },
  "language_info": {
   "codemirror_mode": {
    "name": "ipython",
    "version": 3
   },
   "file_extension": ".py",
   "mimetype": "text/x-python",
   "name": "python",
   "nbconvert_exporter": "python",
   "pygments_lexer": "ipython3",
   "version": "3.8.8"
  }
 },
 "nbformat": 4,
 "nbformat_minor": 5
}
