{
 "cells": [
  {
   "cell_type": "code",
   "execution_count": 1,
   "id": "76fe7874-7381-4b1b-ac6d-89747001b561",
   "metadata": {
    "scrolled": true
   },
   "outputs": [
    {
     "name": "stdout",
     "output_type": "stream",
     "text": [
      "Requirement already satisfied: inference-sdk in c:\\users\\sriram\\anaconda3\\lib\\site-packages (0.9.17)\n",
      "Requirement already satisfied: requests>=2.0.0 in c:\\users\\sriram\\anaconda3\\lib\\site-packages (from inference-sdk) (2.31.0)\n",
      "Requirement already satisfied: dataclasses-json>=0.6.0 in c:\\users\\sriram\\anaconda3\\lib\\site-packages (from inference-sdk) (0.6.7)\n",
      "Requirement already satisfied: opencv-python>=4.8.0.0 in c:\\users\\sriram\\anaconda3\\lib\\site-packages (from inference-sdk) (4.10.0.84)\n",
      "Requirement already satisfied: pillow>=9.0.0 in c:\\users\\sriram\\anaconda3\\lib\\site-packages (from inference-sdk) (10.3.0)\n",
      "Requirement already satisfied: supervision<1.0.0 in c:\\users\\sriram\\anaconda3\\lib\\site-packages (from inference-sdk) (0.22.0)\n",
      "Requirement already satisfied: numpy>=1.20.0 in c:\\users\\sriram\\anaconda3\\lib\\site-packages (from inference-sdk) (1.26.4)\n",
      "Requirement already satisfied: aiohttp>=3.9.0 in c:\\users\\sriram\\anaconda3\\lib\\site-packages (from inference-sdk) (3.9.5)\n",
      "Requirement already satisfied: backoff>=2.2.0 in c:\\users\\sriram\\anaconda3\\lib\\site-packages (from inference-sdk) (2.2.1)\n",
      "Requirement already satisfied: aioresponses>=0.7.6 in c:\\users\\sriram\\anaconda3\\lib\\site-packages (from inference-sdk) (0.7.6)\n",
      "Requirement already satisfied: py-cpuinfo>=9.0.0 in c:\\users\\sriram\\anaconda3\\lib\\site-packages (from inference-sdk) (9.0.0)\n",
      "Requirement already satisfied: aiosignal>=1.1.2 in c:\\users\\sriram\\anaconda3\\lib\\site-packages (from aiohttp>=3.9.0->inference-sdk) (1.2.0)\n",
      "Requirement already satisfied: attrs>=17.3.0 in c:\\users\\sriram\\anaconda3\\lib\\site-packages (from aiohttp>=3.9.0->inference-sdk) (23.1.0)\n",
      "Requirement already satisfied: frozenlist>=1.1.1 in c:\\users\\sriram\\anaconda3\\lib\\site-packages (from aiohttp>=3.9.0->inference-sdk) (1.4.0)\n",
      "Requirement already satisfied: multidict<7.0,>=4.5 in c:\\users\\sriram\\anaconda3\\lib\\site-packages (from aiohttp>=3.9.0->inference-sdk) (6.0.4)\n",
      "Requirement already satisfied: yarl<2.0,>=1.0 in c:\\users\\sriram\\anaconda3\\lib\\site-packages (from aiohttp>=3.9.0->inference-sdk) (1.9.3)\n",
      "Requirement already satisfied: marshmallow<4.0.0,>=3.18.0 in c:\\users\\sriram\\anaconda3\\lib\\site-packages (from dataclasses-json>=0.6.0->inference-sdk) (3.21.3)\n",
      "Requirement already satisfied: typing-inspect<1,>=0.4.0 in c:\\users\\sriram\\anaconda3\\lib\\site-packages (from dataclasses-json>=0.6.0->inference-sdk) (0.9.0)\n",
      "Requirement already satisfied: charset-normalizer<4,>=2 in c:\\users\\sriram\\anaconda3\\lib\\site-packages (from requests>=2.0.0->inference-sdk) (2.0.4)\n",
      "Requirement already satisfied: idna<4,>=2.5 in c:\\users\\sriram\\anaconda3\\lib\\site-packages (from requests>=2.0.0->inference-sdk) (3.7)\n",
      "Requirement already satisfied: urllib3<3,>=1.21.1 in c:\\users\\sriram\\anaconda3\\lib\\site-packages (from requests>=2.0.0->inference-sdk) (1.26.19)\n",
      "Requirement already satisfied: certifi>=2017.4.17 in c:\\users\\sriram\\anaconda3\\lib\\site-packages (from requests>=2.0.0->inference-sdk) (2024.7.4)\n",
      "Requirement already satisfied: defusedxml<0.8.0,>=0.7.1 in c:\\users\\sriram\\anaconda3\\lib\\site-packages (from supervision<1.0.0->inference-sdk) (0.7.1)\n",
      "Requirement already satisfied: matplotlib>=3.6.0 in c:\\users\\sriram\\anaconda3\\lib\\site-packages (from supervision<1.0.0->inference-sdk) (3.8.4)\n",
      "Requirement already satisfied: opencv-python-headless>=4.5.5.64 in c:\\users\\sriram\\anaconda3\\lib\\site-packages (from supervision<1.0.0->inference-sdk) (4.10.0.84)\n",
      "Requirement already satisfied: pyyaml>=5.3 in c:\\users\\sriram\\anaconda3\\lib\\site-packages (from supervision<1.0.0->inference-sdk) (6.0.1)\n",
      "Requirement already satisfied: scipy<2.0.0,>=1.10.0 in c:\\users\\sriram\\anaconda3\\lib\\site-packages (from supervision<1.0.0->inference-sdk) (1.13.1)\n",
      "Requirement already satisfied: packaging>=17.0 in c:\\users\\sriram\\anaconda3\\lib\\site-packages (from marshmallow<4.0.0,>=3.18.0->dataclasses-json>=0.6.0->inference-sdk) (23.2)\n",
      "Requirement already satisfied: contourpy>=1.0.1 in c:\\users\\sriram\\anaconda3\\lib\\site-packages (from matplotlib>=3.6.0->supervision<1.0.0->inference-sdk) (1.2.0)\n",
      "Requirement already satisfied: cycler>=0.10 in c:\\users\\sriram\\anaconda3\\lib\\site-packages (from matplotlib>=3.6.0->supervision<1.0.0->inference-sdk) (0.11.0)\n",
      "Requirement already satisfied: fonttools>=4.22.0 in c:\\users\\sriram\\anaconda3\\lib\\site-packages (from matplotlib>=3.6.0->supervision<1.0.0->inference-sdk) (4.51.0)\n",
      "Requirement already satisfied: kiwisolver>=1.3.1 in c:\\users\\sriram\\anaconda3\\lib\\site-packages (from matplotlib>=3.6.0->supervision<1.0.0->inference-sdk) (1.4.4)\n",
      "Requirement already satisfied: pyparsing>=2.3.1 in c:\\users\\sriram\\anaconda3\\lib\\site-packages (from matplotlib>=3.6.0->supervision<1.0.0->inference-sdk) (3.0.9)\n",
      "Requirement already satisfied: python-dateutil>=2.7 in c:\\users\\sriram\\anaconda3\\lib\\site-packages (from matplotlib>=3.6.0->supervision<1.0.0->inference-sdk) (2.9.0.post0)\n",
      "Requirement already satisfied: mypy-extensions>=0.3.0 in c:\\users\\sriram\\anaconda3\\lib\\site-packages (from typing-inspect<1,>=0.4.0->dataclasses-json>=0.6.0->inference-sdk) (1.0.0)\n",
      "Requirement already satisfied: typing-extensions>=3.7.4 in c:\\users\\sriram\\anaconda3\\lib\\site-packages (from typing-inspect<1,>=0.4.0->dataclasses-json>=0.6.0->inference-sdk) (4.11.0)\n",
      "Requirement already satisfied: six>=1.5 in c:\\users\\sriram\\anaconda3\\lib\\site-packages (from python-dateutil>=2.7->matplotlib>=3.6.0->supervision<1.0.0->inference-sdk) (1.16.0)\n"
     ]
    }
   ],
   "source": [
    "!pip install inference-sdk"
   ]
  },
  {
   "cell_type": "code",
   "execution_count": 2,
   "id": "320bfd94-b6ab-45e7-bcc8-0822b3b206c0",
   "metadata": {},
   "outputs": [
    {
     "name": "stdout",
     "output_type": "stream",
     "text": [
      "Requirement already satisfied: inference-cli in c:\\users\\sriram\\anaconda3\\lib\\site-packages (0.9.17)\n",
      "Requirement already satisfied: requests<=2.31.0 in c:\\users\\sriram\\anaconda3\\lib\\site-packages (from inference-cli) (2.31.0)\n",
      "Requirement already satisfied: docker==6.1.3 in c:\\users\\sriram\\anaconda3\\lib\\site-packages (from inference-cli) (6.1.3)\n",
      "Requirement already satisfied: typer==0.9.0 in c:\\users\\sriram\\anaconda3\\lib\\site-packages (from inference-cli) (0.9.0)\n",
      "Requirement already satisfied: rich<=13.5.2 in c:\\users\\sriram\\anaconda3\\lib\\site-packages (from inference-cli) (13.3.5)\n",
      "Requirement already satisfied: skypilot==0.4.1 in c:\\users\\sriram\\anaconda3\\lib\\site-packages (from inference-cli) (0.4.1)\n",
      "Requirement already satisfied: PyYAML>=6.0.0 in c:\\users\\sriram\\anaconda3\\lib\\site-packages (from inference-cli) (6.0.1)\n",
      "Requirement already satisfied: supervision>=0.17.1 in c:\\users\\sriram\\anaconda3\\lib\\site-packages (from inference-cli) (0.22.0)\n",
      "Requirement already satisfied: opencv-python>=4.6.0 in c:\\users\\sriram\\anaconda3\\lib\\site-packages (from inference-cli) (4.10.0.84)\n",
      "Requirement already satisfied: tqdm>=4.0.0 in c:\\users\\sriram\\anaconda3\\lib\\site-packages (from inference-cli) (4.66.4)\n",
      "Requirement already satisfied: GPUtil>=1.4.0 in c:\\users\\sriram\\anaconda3\\lib\\site-packages (from inference-cli) (1.4.0)\n",
      "Requirement already satisfied: py-cpuinfo>=9.0.0 in c:\\users\\sriram\\anaconda3\\lib\\site-packages (from inference-cli) (9.0.0)\n",
      "Requirement already satisfied: aiohttp>=3.9.0 in c:\\users\\sriram\\anaconda3\\lib\\site-packages (from inference-cli) (3.9.5)\n",
      "Requirement already satisfied: backoff>=2.2.0 in c:\\users\\sriram\\anaconda3\\lib\\site-packages (from inference-cli) (2.2.1)\n",
      "Requirement already satisfied: dataclasses-json>=0.6.0 in c:\\users\\sriram\\anaconda3\\lib\\site-packages (from inference-cli) (0.6.7)\n",
      "Requirement already satisfied: pillow>=9.0.0 in c:\\users\\sriram\\anaconda3\\lib\\site-packages (from inference-cli) (10.3.0)\n",
      "Requirement already satisfied: numpy>=1.20.0 in c:\\users\\sriram\\anaconda3\\lib\\site-packages (from inference-cli) (1.26.4)\n",
      "Requirement already satisfied: aioresponses>=0.7.6 in c:\\users\\sriram\\anaconda3\\lib\\site-packages (from inference-cli) (0.7.6)\n",
      "Requirement already satisfied: packaging>=14.0 in c:\\users\\sriram\\anaconda3\\lib\\site-packages (from docker==6.1.3->inference-cli) (23.2)\n",
      "Requirement already satisfied: urllib3>=1.26.0 in c:\\users\\sriram\\anaconda3\\lib\\site-packages (from docker==6.1.3->inference-cli) (1.26.19)\n",
      "Requirement already satisfied: websocket-client>=0.32.0 in c:\\users\\sriram\\anaconda3\\lib\\site-packages (from docker==6.1.3->inference-cli) (1.8.0)\n",
      "Requirement already satisfied: pywin32>=304 in c:\\users\\sriram\\anaconda3\\lib\\site-packages (from docker==6.1.3->inference-cli) (305.1)\n",
      "Requirement already satisfied: wheel in c:\\users\\sriram\\anaconda3\\lib\\site-packages (from skypilot==0.4.1->inference-cli) (0.43.0)\n",
      "Requirement already satisfied: cachetools in c:\\users\\sriram\\anaconda3\\lib\\site-packages (from skypilot==0.4.1->inference-cli) (5.3.3)\n",
      "Requirement already satisfied: click>=7.0 in c:\\users\\sriram\\anaconda3\\lib\\site-packages (from skypilot==0.4.1->inference-cli) (8.1.7)\n",
      "Requirement already satisfied: colorama<0.4.5 in c:\\users\\sriram\\anaconda3\\lib\\site-packages (from skypilot==0.4.1->inference-cli) (0.4.4)\n",
      "Requirement already satisfied: cryptography in c:\\users\\sriram\\anaconda3\\lib\\site-packages (from skypilot==0.4.1->inference-cli) (42.0.5)\n",
      "Requirement already satisfied: jinja2>=3.0 in c:\\users\\sriram\\anaconda3\\lib\\site-packages (from skypilot==0.4.1->inference-cli) (3.1.4)\n",
      "Requirement already satisfied: jsonschema in c:\\users\\sriram\\anaconda3\\lib\\site-packages (from skypilot==0.4.1->inference-cli) (4.19.2)\n",
      "Requirement already satisfied: networkx in c:\\users\\sriram\\anaconda3\\lib\\site-packages (from skypilot==0.4.1->inference-cli) (3.2.1)\n",
      "Requirement already satisfied: pandas>=1.3.0 in c:\\users\\sriram\\anaconda3\\lib\\site-packages (from skypilot==0.4.1->inference-cli) (2.2.2)\n",
      "Requirement already satisfied: pendulum in c:\\users\\sriram\\anaconda3\\lib\\site-packages (from skypilot==0.4.1->inference-cli) (3.0.0)\n",
      "Requirement already satisfied: PrettyTable>=2.0.0 in c:\\users\\sriram\\anaconda3\\lib\\site-packages (from skypilot==0.4.1->inference-cli) (3.10.2)\n",
      "Requirement already satisfied: python-dotenv in c:\\users\\sriram\\anaconda3\\lib\\site-packages (from skypilot==0.4.1->inference-cli) (0.21.0)\n",
      "Requirement already satisfied: tabulate in c:\\users\\sriram\\anaconda3\\lib\\site-packages (from skypilot==0.4.1->inference-cli) (0.9.0)\n",
      "Requirement already satisfied: typing-extensions in c:\\users\\sriram\\anaconda3\\lib\\site-packages (from skypilot==0.4.1->inference-cli) (4.11.0)\n",
      "Requirement already satisfied: filelock>=3.6.0 in c:\\users\\sriram\\anaconda3\\lib\\site-packages (from skypilot==0.4.1->inference-cli) (3.13.1)\n",
      "Requirement already satisfied: psutil in c:\\users\\sriram\\anaconda3\\lib\\site-packages (from skypilot==0.4.1->inference-cli) (5.9.0)\n",
      "Requirement already satisfied: pulp in c:\\users\\sriram\\anaconda3\\lib\\site-packages (from skypilot==0.4.1->inference-cli) (2.9.0)\n",
      "Requirement already satisfied: awscli>=1.27.10 in c:\\users\\sriram\\anaconda3\\lib\\site-packages (from skypilot==0.4.1->inference-cli) (1.33.31)\n",
      "Requirement already satisfied: botocore>=1.29.10 in c:\\users\\sriram\\anaconda3\\lib\\site-packages (from skypilot==0.4.1->inference-cli) (1.34.149)\n",
      "Requirement already satisfied: boto3>=1.26.1 in c:\\users\\sriram\\anaconda3\\lib\\site-packages (from skypilot==0.4.1->inference-cli) (1.34.149)\n",
      "Requirement already satisfied: aiosignal>=1.1.2 in c:\\users\\sriram\\anaconda3\\lib\\site-packages (from aiohttp>=3.9.0->inference-cli) (1.2.0)\n",
      "Requirement already satisfied: attrs>=17.3.0 in c:\\users\\sriram\\anaconda3\\lib\\site-packages (from aiohttp>=3.9.0->inference-cli) (23.1.0)\n",
      "Requirement already satisfied: frozenlist>=1.1.1 in c:\\users\\sriram\\anaconda3\\lib\\site-packages (from aiohttp>=3.9.0->inference-cli) (1.4.0)\n",
      "Requirement already satisfied: multidict<7.0,>=4.5 in c:\\users\\sriram\\anaconda3\\lib\\site-packages (from aiohttp>=3.9.0->inference-cli) (6.0.4)\n",
      "Requirement already satisfied: yarl<2.0,>=1.0 in c:\\users\\sriram\\anaconda3\\lib\\site-packages (from aiohttp>=3.9.0->inference-cli) (1.9.3)\n",
      "Requirement already satisfied: marshmallow<4.0.0,>=3.18.0 in c:\\users\\sriram\\anaconda3\\lib\\site-packages (from dataclasses-json>=0.6.0->inference-cli) (3.21.3)\n",
      "Requirement already satisfied: typing-inspect<1,>=0.4.0 in c:\\users\\sriram\\anaconda3\\lib\\site-packages (from dataclasses-json>=0.6.0->inference-cli) (0.9.0)\n",
      "Requirement already satisfied: charset-normalizer<4,>=2 in c:\\users\\sriram\\anaconda3\\lib\\site-packages (from requests<=2.31.0->inference-cli) (2.0.4)\n",
      "Requirement already satisfied: idna<4,>=2.5 in c:\\users\\sriram\\anaconda3\\lib\\site-packages (from requests<=2.31.0->inference-cli) (3.7)\n",
      "Requirement already satisfied: certifi>=2017.4.17 in c:\\users\\sriram\\anaconda3\\lib\\site-packages (from requests<=2.31.0->inference-cli) (2024.7.4)\n",
      "Requirement already satisfied: markdown-it-py<3.0.0,>=2.2.0 in c:\\users\\sriram\\anaconda3\\lib\\site-packages (from rich<=13.5.2->inference-cli) (2.2.0)\n",
      "Requirement already satisfied: pygments<3.0.0,>=2.13.0 in c:\\users\\sriram\\anaconda3\\lib\\site-packages (from rich<=13.5.2->inference-cli) (2.15.1)\n",
      "Requirement already satisfied: defusedxml<0.8.0,>=0.7.1 in c:\\users\\sriram\\anaconda3\\lib\\site-packages (from supervision>=0.17.1->inference-cli) (0.7.1)\n",
      "Requirement already satisfied: matplotlib>=3.6.0 in c:\\users\\sriram\\anaconda3\\lib\\site-packages (from supervision>=0.17.1->inference-cli) (3.8.4)\n",
      "Requirement already satisfied: opencv-python-headless>=4.5.5.64 in c:\\users\\sriram\\anaconda3\\lib\\site-packages (from supervision>=0.17.1->inference-cli) (4.10.0.84)\n",
      "Requirement already satisfied: scipy<2.0.0,>=1.10.0 in c:\\users\\sriram\\anaconda3\\lib\\site-packages (from supervision>=0.17.1->inference-cli) (1.13.1)\n",
      "Requirement already satisfied: docutils<0.17,>=0.10 in c:\\users\\sriram\\anaconda3\\lib\\site-packages (from awscli>=1.27.10->skypilot==0.4.1->inference-cli) (0.16)\n",
      "Requirement already satisfied: s3transfer<0.11.0,>=0.10.0 in c:\\users\\sriram\\anaconda3\\lib\\site-packages (from awscli>=1.27.10->skypilot==0.4.1->inference-cli) (0.10.2)\n",
      "Requirement already satisfied: rsa<4.8,>=3.1.2 in c:\\users\\sriram\\anaconda3\\lib\\site-packages (from awscli>=1.27.10->skypilot==0.4.1->inference-cli) (4.7.2)\n",
      "Requirement already satisfied: jmespath<2.0.0,>=0.7.1 in c:\\users\\sriram\\anaconda3\\lib\\site-packages (from botocore>=1.29.10->skypilot==0.4.1->inference-cli) (1.0.1)\n",
      "Requirement already satisfied: python-dateutil<3.0.0,>=2.1 in c:\\users\\sriram\\anaconda3\\lib\\site-packages (from botocore>=1.29.10->skypilot==0.4.1->inference-cli) (2.9.0.post0)\n",
      "Requirement already satisfied: MarkupSafe>=2.0 in c:\\users\\sriram\\anaconda3\\lib\\site-packages (from jinja2>=3.0->skypilot==0.4.1->inference-cli) (2.1.3)\n",
      "Requirement already satisfied: mdurl~=0.1 in c:\\users\\sriram\\anaconda3\\lib\\site-packages (from markdown-it-py<3.0.0,>=2.2.0->rich<=13.5.2->inference-cli) (0.1.0)\n",
      "Requirement already satisfied: contourpy>=1.0.1 in c:\\users\\sriram\\anaconda3\\lib\\site-packages (from matplotlib>=3.6.0->supervision>=0.17.1->inference-cli) (1.2.0)\n",
      "Requirement already satisfied: cycler>=0.10 in c:\\users\\sriram\\anaconda3\\lib\\site-packages (from matplotlib>=3.6.0->supervision>=0.17.1->inference-cli) (0.11.0)\n",
      "Requirement already satisfied: fonttools>=4.22.0 in c:\\users\\sriram\\anaconda3\\lib\\site-packages (from matplotlib>=3.6.0->supervision>=0.17.1->inference-cli) (4.51.0)\n",
      "Requirement already satisfied: kiwisolver>=1.3.1 in c:\\users\\sriram\\anaconda3\\lib\\site-packages (from matplotlib>=3.6.0->supervision>=0.17.1->inference-cli) (1.4.4)\n",
      "Requirement already satisfied: pyparsing>=2.3.1 in c:\\users\\sriram\\anaconda3\\lib\\site-packages (from matplotlib>=3.6.0->supervision>=0.17.1->inference-cli) (3.0.9)\n",
      "Requirement already satisfied: pytz>=2020.1 in c:\\users\\sriram\\anaconda3\\lib\\site-packages (from pandas>=1.3.0->skypilot==0.4.1->inference-cli) (2024.1)\n",
      "Requirement already satisfied: tzdata>=2022.7 in c:\\users\\sriram\\anaconda3\\lib\\site-packages (from pandas>=1.3.0->skypilot==0.4.1->inference-cli) (2023.3)\n",
      "Requirement already satisfied: wcwidth in c:\\users\\sriram\\anaconda3\\lib\\site-packages (from PrettyTable>=2.0.0->skypilot==0.4.1->inference-cli) (0.2.5)\n",
      "Requirement already satisfied: mypy-extensions>=0.3.0 in c:\\users\\sriram\\anaconda3\\lib\\site-packages (from typing-inspect<1,>=0.4.0->dataclasses-json>=0.6.0->inference-cli) (1.0.0)\n",
      "Requirement already satisfied: cffi>=1.12 in c:\\users\\sriram\\anaconda3\\lib\\site-packages (from cryptography->skypilot==0.4.1->inference-cli) (1.16.0)\n",
      "Requirement already satisfied: jsonschema-specifications>=2023.03.6 in c:\\users\\sriram\\anaconda3\\lib\\site-packages (from jsonschema->skypilot==0.4.1->inference-cli) (2023.7.1)\n",
      "Requirement already satisfied: referencing>=0.28.4 in c:\\users\\sriram\\anaconda3\\lib\\site-packages (from jsonschema->skypilot==0.4.1->inference-cli) (0.30.2)\n",
      "Requirement already satisfied: rpds-py>=0.7.1 in c:\\users\\sriram\\anaconda3\\lib\\site-packages (from jsonschema->skypilot==0.4.1->inference-cli) (0.10.6)\n",
      "Requirement already satisfied: time-machine>=2.6.0 in c:\\users\\sriram\\anaconda3\\lib\\site-packages (from pendulum->skypilot==0.4.1->inference-cli) (2.14.2)\n",
      "Requirement already satisfied: pycparser in c:\\users\\sriram\\anaconda3\\lib\\site-packages (from cffi>=1.12->cryptography->skypilot==0.4.1->inference-cli) (2.21)\n",
      "Requirement already satisfied: six>=1.5 in c:\\users\\sriram\\anaconda3\\lib\\site-packages (from python-dateutil<3.0.0,>=2.1->botocore>=1.29.10->skypilot==0.4.1->inference-cli) (1.16.0)\n",
      "Requirement already satisfied: pyasn1>=0.1.3 in c:\\users\\sriram\\anaconda3\\lib\\site-packages (from rsa<4.8,>=3.1.2->awscli>=1.27.10->skypilot==0.4.1->inference-cli) (0.4.8)\n",
      "Command failed. Cause: Error connecting to Docker daemon. Is docker installed and running? See https://www.docker.com/get-started/ for installation instructions.\n"
     ]
    },
    {
     "name": "stderr",
     "output_type": "stream",
     "text": [
      "C:\\Users\\SRIRAM\\anaconda3\\Lib\\site-packages\\paramiko\\transport.py:219: CryptographyDeprecationWarning: Blowfish has been deprecated and will be removed in a future release\n",
      "  \"class\": algorithms.Blowfish,\n"
     ]
    }
   ],
   "source": [
    "!pip install inference-cli && inference server start"
   ]
  },
  {
   "cell_type": "code",
   "execution_count": 3,
   "id": "e059518c-7cd2-4ec3-a18e-4f8610333cf0",
   "metadata": {},
   "outputs": [
    {
     "name": "stdout",
     "output_type": "stream",
     "text": [
      "Requirement already satisfied: opencv-python in c:\\users\\sriram\\anaconda3\\lib\\site-packages (4.10.0.84)\n",
      "Requirement already satisfied: numpy>=1.21.2 in c:\\users\\sriram\\anaconda3\\lib\\site-packages (from opencv-python) (1.26.4)\n"
     ]
    }
   ],
   "source": [
    "!pip install opencv-python"
   ]
  },
  {
   "cell_type": "code",
   "execution_count": 4,
   "id": "e34a866f-695a-4161-8010-44fc1a62759b",
   "metadata": {},
   "outputs": [
    {
     "name": "stdout",
     "output_type": "stream",
     "text": [
      "Requirement already satisfied: opencv-python-headless in c:\\users\\sriram\\anaconda3\\lib\\site-packages (4.10.0.84)\n",
      "Requirement already satisfied: numpy>=1.21.2 in c:\\users\\sriram\\anaconda3\\lib\\site-packages (from opencv-python-headless) (1.26.4)\n"
     ]
    }
   ],
   "source": [
    "!pip install opencv-python-headless"
   ]
  },
  {
   "cell_type": "code",
   "execution_count": 5,
   "id": "349632ea-a626-4152-9485-6653ad96aaa1",
   "metadata": {},
   "outputs": [
    {
     "name": "stdout",
     "output_type": "stream",
     "text": [
      "Requirement already satisfied: opencv-python-headless in c:\\users\\sriram\\anaconda3\\lib\\site-packages (4.10.0.84)\n",
      "Requirement already satisfied: numpy>=1.21.2 in c:\\users\\sriram\\anaconda3\\lib\\site-packages (from opencv-python-headless) (1.26.4)\n"
     ]
    }
   ],
   "source": [
    "!pip install opencv-python-headless"
   ]
  },
  {
   "cell_type": "code",
   "execution_count": 6,
   "id": "ba247bf8-e415-4f46-8cb6-6c7581d404d9",
   "metadata": {},
   "outputs": [
    {
     "name": "stdout",
     "output_type": "stream",
     "text": [
      "Requirement already satisfied: opencv-contrib-python in c:\\users\\sriram\\anaconda3\\lib\\site-packages (4.10.0.84)\n",
      "Requirement already satisfied: numpy>=1.21.2 in c:\\users\\sriram\\anaconda3\\lib\\site-packages (from opencv-contrib-python) (1.26.4)\n"
     ]
    }
   ],
   "source": [
    "!pip install opencv-contrib-python"
   ]
  },
  {
   "cell_type": "code",
   "execution_count": 7,
   "id": "d691f42e-c0e6-4a67-afaa-c2172a943ad1",
   "metadata": {},
   "outputs": [
    {
     "name": "stdout",
     "output_type": "stream",
     "text": [
      "Requirement already satisfied: pillow in c:\\users\\sriram\\anaconda3\\lib\\site-packages (10.3.0)\n"
     ]
    }
   ],
   "source": [
    "!pip install pillow"
   ]
  },
  {
   "cell_type": "code",
   "execution_count": 56,
   "id": "e380f580-00cd-4a25-befe-62a8e7d60a43",
   "metadata": {},
   "outputs": [
    {
     "name": "stdout",
     "output_type": "stream",
     "text": [
      "Loaded 3 Test image categories.\n",
      "Loaded 3 Train image categories.\n"
     ]
    }
   ],
   "source": [
    "import os\n",
    "import cv2\n",
    "\n",
    "def load_images_from_folder(folder):\n",
    "    images = []\n",
    "    for filename in os.listdir(folder):\n",
    "        if filename.endswith(('.png', '.jpg', '.jpeg')):\n",
    "            img_path = os.path.join(folder, filename)\n",
    "            #img = cv2.imread(img_path)\n",
    "            images.append(img_path)\n",
    "\n",
    "    return images\n",
    "\n",
    "def load_images_test_dataset(test_folder):\n",
    "    test_images = []  # Initialize the list\n",
    "    covid_folder = os.path.join(test_folder, 'Covid')\n",
    "    normal_chestxray_folder = os.path.join(test_folder, 'Normal_chestxray')\n",
    "    pneumonia_folder = os.path.join(test_folder, 'Pneumonia')\n",
    "    \n",
    "    \n",
    "    test_images.append({\"category\": \"covid\", \"images\": load_images_from_folder(covid_folder)})  # Append images\n",
    "    test_images.append({\"category\": \"normal_chestray\", \"images\": load_images_from_folder(normal_chestxray_folder)})  # Append images\n",
    "    test_images.append({\"category\": \"pneumonia\", \"images\": load_images_from_folder(pneumonia_folder)})  # Append images\n",
    "    \n",
    "    return test_images\n",
    "\n",
    "def load_images_train_dataset(train_folder):\n",
    "    train_images = []  # Initialize the list\n",
    "    covid_folder = os.path.join(train_folder, 'Covid')\n",
    "    normal_chestxray_folder = os.path.join(train_folder, 'Normal_chestxray')\n",
    "    pneumonia_folder = os.path.join(train_folder, 'Pneumonia')\n",
    "    \n",
    "    train_images.append({\"category\": \"covid\", \"images\": load_images_from_folder(covid_folder)})  # Append images\n",
    "    train_images.append({\"category\": \"normal_chestray\", \"images\": load_images_from_folder(normal_chestxray_folder)})  # Append images\n",
    "    train_images.append({\"category\": \"pneumonia\", \"images\": load_images_from_folder(pneumonia_folder)})  # Append images\n",
    "    \n",
    "    return train_images\n",
    "\n",
    "def load_image_main_folder(main_folder):\n",
    "    test_folder = os.path.join(main_folder, 'test')\n",
    "    train_folder = os.path.join(main_folder, 'train')\n",
    "    \n",
    "    test_images = load_images_test_dataset(test_folder)\n",
    "    train_images = load_images_train_dataset(train_folder)\n",
    "    \n",
    "    return test_images, train_images\n",
    "\n",
    "# Example usage\n",
    "main_folder = 'C:\\\\Users\\\\SRIRAM\\\\Documents\\\\Image Classification'\n",
    "test_images, train_images = load_image_main_folder(main_folder)\n",
    "\n",
    "print(f\"Loaded {len(test_images)} Test image categories.\")\n",
    "print(f\"Loaded {len(train_images)} Train image categories.\")"
   ]
  },
  {
   "cell_type": "code",
   "execution_count": 58,
   "id": "2d72287e-faf5-4057-b6b2-837aef3c52f0",
   "metadata": {},
   "outputs": [
    {
     "name": "stdout",
     "output_type": "stream",
     "text": [
      "Loaded [{'category': 'covid', 'images': ['C:\\\\Users\\\\SRIRAM\\\\Documents\\\\Image Classification\\\\test\\\\Covid\\\\0100.jpeg', 'C:\\\\Users\\\\SRIRAM\\\\Documents\\\\Image Classification\\\\test\\\\Covid\\\\0102.jpeg', 'C:\\\\Users\\\\SRIRAM\\\\Documents\\\\Image Classification\\\\test\\\\Covid\\\\0105.png', 'C:\\\\Users\\\\SRIRAM\\\\Documents\\\\Image Classification\\\\test\\\\Covid\\\\0106.jpeg', 'C:\\\\Users\\\\SRIRAM\\\\Documents\\\\Image Classification\\\\test\\\\Covid\\\\0108.jpeg', 'C:\\\\Users\\\\SRIRAM\\\\Documents\\\\Image Classification\\\\test\\\\Covid\\\\0111.jpg', 'C:\\\\Users\\\\SRIRAM\\\\Documents\\\\Image Classification\\\\test\\\\Covid\\\\0112.jpg', 'C:\\\\Users\\\\SRIRAM\\\\Documents\\\\Image Classification\\\\test\\\\Covid\\\\0113.jpg', 'C:\\\\Users\\\\SRIRAM\\\\Documents\\\\Image Classification\\\\test\\\\Covid\\\\0115.jpeg', 'C:\\\\Users\\\\SRIRAM\\\\Documents\\\\Image Classification\\\\test\\\\Covid\\\\0118.jpeg', 'C:\\\\Users\\\\SRIRAM\\\\Documents\\\\Image Classification\\\\test\\\\Covid\\\\0119.jpeg', 'C:\\\\Users\\\\SRIRAM\\\\Documents\\\\Image Classification\\\\test\\\\Covid\\\\0120.jpg', 'C:\\\\Users\\\\SRIRAM\\\\Documents\\\\Image Classification\\\\test\\\\Covid\\\\094.png', 'C:\\\\Users\\\\SRIRAM\\\\Documents\\\\Image Classification\\\\test\\\\Covid\\\\096.png', 'C:\\\\Users\\\\SRIRAM\\\\Documents\\\\Image Classification\\\\test\\\\Covid\\\\098.jpeg', 'C:\\\\Users\\\\SRIRAM\\\\Documents\\\\Image Classification\\\\test\\\\Covid\\\\auntminnie-2020_01_31_20_24_2322_2020_01_31_x-ray_coronavirus_US.jpg', 'C:\\\\Users\\\\SRIRAM\\\\Documents\\\\Image Classification\\\\test\\\\Covid\\\\auntminnie-a-2020_01_28_23_51_6665_2020_01_28_Vietnam_coronavirus.jpeg', 'C:\\\\Users\\\\SRIRAM\\\\Documents\\\\Image Classification\\\\test\\\\Covid\\\\auntminnie-b-2020_01_28_23_51_6665_2020_01_28_Vietnam_coronavirus.jpeg', 'C:\\\\Users\\\\SRIRAM\\\\Documents\\\\Image Classification\\\\test\\\\Covid\\\\auntminnie-c-2020_01_28_23_51_6665_2020_01_28_Vietnam_coronavirus.jpeg', 'C:\\\\Users\\\\SRIRAM\\\\Documents\\\\Image Classification\\\\test\\\\Covid\\\\auntminnie-d-2020_01_28_23_51_6665_2020_01_28_Vietnam_coronavirus.jpeg', 'C:\\\\Users\\\\SRIRAM\\\\Documents\\\\Image Classification\\\\test\\\\Covid\\\\COVID-00003b.jpg', 'C:\\\\Users\\\\SRIRAM\\\\Documents\\\\Image Classification\\\\test\\\\Covid\\\\COVID-00012.jpg', 'C:\\\\Users\\\\SRIRAM\\\\Documents\\\\Image Classification\\\\test\\\\Covid\\\\COVID-00022.jpg', 'C:\\\\Users\\\\SRIRAM\\\\Documents\\\\Image Classification\\\\test\\\\Covid\\\\COVID-00033.jpg', 'C:\\\\Users\\\\SRIRAM\\\\Documents\\\\Image Classification\\\\test\\\\Covid\\\\COVID-00037.jpg', 'C:\\\\Users\\\\SRIRAM\\\\Documents\\\\Image Classification\\\\test\\\\Covid\\\\radiopaedia-2019-novel-coronavirus-infected-pneumonia.jpg']}, {'category': 'normal_chestray', 'images': ['C:\\\\Users\\\\SRIRAM\\\\Documents\\\\Image Classification\\\\test\\\\Normal_chestxray\\\\0101.jpeg', 'C:\\\\Users\\\\SRIRAM\\\\Documents\\\\Image Classification\\\\test\\\\Normal_chestxray\\\\0102.jpeg', 'C:\\\\Users\\\\SRIRAM\\\\Documents\\\\Image Classification\\\\test\\\\Normal_chestxray\\\\0103.jpeg', 'C:\\\\Users\\\\SRIRAM\\\\Documents\\\\Image Classification\\\\test\\\\Normal_chestxray\\\\0105.jpeg', 'C:\\\\Users\\\\SRIRAM\\\\Documents\\\\Image Classification\\\\test\\\\Normal_chestxray\\\\0106.jpeg', 'C:\\\\Users\\\\SRIRAM\\\\Documents\\\\Image Classification\\\\test\\\\Normal_chestxray\\\\0107.jpeg', 'C:\\\\Users\\\\SRIRAM\\\\Documents\\\\Image Classification\\\\test\\\\Normal_chestxray\\\\0108.jpeg', 'C:\\\\Users\\\\SRIRAM\\\\Documents\\\\Image Classification\\\\test\\\\Normal_chestxray\\\\0109.jpeg', 'C:\\\\Users\\\\SRIRAM\\\\Documents\\\\Image Classification\\\\test\\\\Normal_chestxray\\\\0110.jpeg', 'C:\\\\Users\\\\SRIRAM\\\\Documents\\\\Image Classification\\\\test\\\\Normal_chestxray\\\\0111.jpeg', 'C:\\\\Users\\\\SRIRAM\\\\Documents\\\\Image Classification\\\\test\\\\Normal_chestxray\\\\0112.jpeg', 'C:\\\\Users\\\\SRIRAM\\\\Documents\\\\Image Classification\\\\test\\\\Normal_chestxray\\\\0114.jpeg', 'C:\\\\Users\\\\SRIRAM\\\\Documents\\\\Image Classification\\\\test\\\\Normal_chestxray\\\\0115.jpeg', 'C:\\\\Users\\\\SRIRAM\\\\Documents\\\\Image Classification\\\\test\\\\Normal_chestxray\\\\0116.jpeg', 'C:\\\\Users\\\\SRIRAM\\\\Documents\\\\Image Classification\\\\test\\\\Normal_chestxray\\\\0117.jpeg', 'C:\\\\Users\\\\SRIRAM\\\\Documents\\\\Image Classification\\\\test\\\\Normal_chestxray\\\\0118.jpeg', 'C:\\\\Users\\\\SRIRAM\\\\Documents\\\\Image Classification\\\\test\\\\Normal_chestxray\\\\0119.jpeg', 'C:\\\\Users\\\\SRIRAM\\\\Documents\\\\Image Classification\\\\test\\\\Normal_chestxray\\\\0120.jpeg', 'C:\\\\Users\\\\SRIRAM\\\\Documents\\\\Image Classification\\\\test\\\\Normal_chestxray\\\\0121.jpeg', 'C:\\\\Users\\\\SRIRAM\\\\Documents\\\\Image Classification\\\\test\\\\Normal_chestxray\\\\0122.jpeg', 'C:\\\\Users\\\\SRIRAM\\\\Documents\\\\Image Classification\\\\test\\\\Normal_chestxray\\\\IM-0241-0001.jpeg', 'C:\\\\Users\\\\SRIRAM\\\\Documents\\\\Image Classification\\\\test\\\\Normal_chestxray\\\\IM-0242-0001.jpeg', 'C:\\\\Users\\\\SRIRAM\\\\Documents\\\\Image Classification\\\\test\\\\Normal_chestxray\\\\IM-0243-0001.jpeg', 'C:\\\\Users\\\\SRIRAM\\\\Documents\\\\Image Classification\\\\test\\\\Normal_chestxray\\\\IM-0244-0001.jpeg', 'C:\\\\Users\\\\SRIRAM\\\\Documents\\\\Image Classification\\\\test\\\\Normal_chestxray\\\\IM-0245-0001.jpeg', 'C:\\\\Users\\\\SRIRAM\\\\Documents\\\\Image Classification\\\\test\\\\Normal_chestxray\\\\IM-0248-0001.jpeg', 'C:\\\\Users\\\\SRIRAM\\\\Documents\\\\Image Classification\\\\test\\\\Normal_chestxray\\\\IM-0249-0001.jpeg', 'C:\\\\Users\\\\SRIRAM\\\\Documents\\\\Image Classification\\\\test\\\\Normal_chestxray\\\\IM-0250-0001.jpeg', 'C:\\\\Users\\\\SRIRAM\\\\Documents\\\\Image Classification\\\\test\\\\Normal_chestxray\\\\IM-0251-0001.jpeg', 'C:\\\\Users\\\\SRIRAM\\\\Documents\\\\Image Classification\\\\test\\\\Normal_chestxray\\\\IM-0253-0001.jpeg', 'C:\\\\Users\\\\SRIRAM\\\\Documents\\\\Image Classification\\\\test\\\\Normal_chestxray\\\\IM-0255-0001.jpeg', 'C:\\\\Users\\\\SRIRAM\\\\Documents\\\\Image Classification\\\\test\\\\Normal_chestxray\\\\IM-0256-0001.jpeg', 'C:\\\\Users\\\\SRIRAM\\\\Documents\\\\Image Classification\\\\test\\\\Normal_chestxray\\\\IM-0257-0001.jpeg', 'C:\\\\Users\\\\SRIRAM\\\\Documents\\\\Image Classification\\\\test\\\\Normal_chestxray\\\\IM-0261-0001.jpeg', 'C:\\\\Users\\\\SRIRAM\\\\Documents\\\\Image Classification\\\\test\\\\Normal_chestxray\\\\IM-0262-0001.jpeg', 'C:\\\\Users\\\\SRIRAM\\\\Documents\\\\Image Classification\\\\test\\\\Normal_chestxray\\\\IM-0264-0001.jpeg', 'C:\\\\Users\\\\SRIRAM\\\\Documents\\\\Image Classification\\\\test\\\\Normal_chestxray\\\\IM-0265-0001.jpeg', 'C:\\\\Users\\\\SRIRAM\\\\Documents\\\\Image Classification\\\\test\\\\Normal_chestxray\\\\IM-0266-0001.jpeg', 'C:\\\\Users\\\\SRIRAM\\\\Documents\\\\Image Classification\\\\test\\\\Normal_chestxray\\\\IM-0268-0001.jpeg', 'C:\\\\Users\\\\SRIRAM\\\\Documents\\\\Image Classification\\\\test\\\\Normal_chestxray\\\\IM-0269-0001.jpeg', 'C:\\\\Users\\\\SRIRAM\\\\Documents\\\\Image Classification\\\\test\\\\Normal_chestxray\\\\IM-0270-0001.jpeg', 'C:\\\\Users\\\\SRIRAM\\\\Documents\\\\Image Classification\\\\test\\\\Normal_chestxray\\\\IM-0272-0001.jpeg', 'C:\\\\Users\\\\SRIRAM\\\\Documents\\\\Image Classification\\\\test\\\\Normal_chestxray\\\\IM-0273-0001.jpeg', 'C:\\\\Users\\\\SRIRAM\\\\Documents\\\\Image Classification\\\\test\\\\Normal_chestxray\\\\IM-0274-0001.jpeg', 'C:\\\\Users\\\\SRIRAM\\\\Documents\\\\Image Classification\\\\test\\\\Normal_chestxray\\\\IM-0275-0001.jpeg', 'C:\\\\Users\\\\SRIRAM\\\\Documents\\\\Image Classification\\\\test\\\\Normal_chestxray\\\\IM-0276-0001.jpeg', 'C:\\\\Users\\\\SRIRAM\\\\Documents\\\\Image Classification\\\\test\\\\Normal_chestxray\\\\IM-0277-0001.jpeg', 'C:\\\\Users\\\\SRIRAM\\\\Documents\\\\Image Classification\\\\test\\\\Normal_chestxray\\\\IM-0278-0001.jpeg', 'C:\\\\Users\\\\SRIRAM\\\\Documents\\\\Image Classification\\\\test\\\\Normal_chestxray\\\\IM-0279-0001.jpeg', 'C:\\\\Users\\\\SRIRAM\\\\Documents\\\\Image Classification\\\\test\\\\Normal_chestxray\\\\IM-0280-0001.jpeg', 'C:\\\\Users\\\\SRIRAM\\\\Documents\\\\Image Classification\\\\test\\\\Normal_chestxray\\\\IM-0282-0001.jpeg', 'C:\\\\Users\\\\SRIRAM\\\\Documents\\\\Image Classification\\\\test\\\\Normal_chestxray\\\\IM-0283-0001.jpeg', 'C:\\\\Users\\\\SRIRAM\\\\Documents\\\\Image Classification\\\\test\\\\Normal_chestxray\\\\IM-0285-0001.jpeg']}, {'category': 'pneumonia', 'images': ['C:\\\\Users\\\\SRIRAM\\\\Documents\\\\Image Classification\\\\test\\\\Pneumonia\\\\IM-0115-0001.jpeg', 'C:\\\\Users\\\\SRIRAM\\\\Documents\\\\Image Classification\\\\test\\\\Pneumonia\\\\IM-0117-0001.jpeg', 'C:\\\\Users\\\\SRIRAM\\\\Documents\\\\Image Classification\\\\test\\\\Pneumonia\\\\IM-0119-0001.jpeg', 'C:\\\\Users\\\\SRIRAM\\\\Documents\\\\Image Classification\\\\test\\\\Pneumonia\\\\IM-0122-0001.jpeg', 'C:\\\\Users\\\\SRIRAM\\\\Documents\\\\Image Classification\\\\test\\\\Pneumonia\\\\IM-0125-0001.jpeg', 'C:\\\\Users\\\\SRIRAM\\\\Documents\\\\Image Classification\\\\test\\\\Pneumonia\\\\IM-0127-0001.jpeg', 'C:\\\\Users\\\\SRIRAM\\\\Documents\\\\Image Classification\\\\test\\\\Pneumonia\\\\IM-0128-0001.jpeg', 'C:\\\\Users\\\\SRIRAM\\\\Documents\\\\Image Classification\\\\test\\\\Pneumonia\\\\IM-0129-0001.jpeg', 'C:\\\\Users\\\\SRIRAM\\\\Documents\\\\Image Classification\\\\test\\\\Pneumonia\\\\IM-0131-0001.jpeg', 'C:\\\\Users\\\\SRIRAM\\\\Documents\\\\Image Classification\\\\test\\\\Pneumonia\\\\IM-0133-0001.jpeg', 'C:\\\\Users\\\\SRIRAM\\\\Documents\\\\Image Classification\\\\test\\\\Pneumonia\\\\IM-0135-0001.jpeg', 'C:\\\\Users\\\\SRIRAM\\\\Documents\\\\Image Classification\\\\test\\\\Pneumonia\\\\IM-0137-0001.jpeg', 'C:\\\\Users\\\\SRIRAM\\\\Documents\\\\Image Classification\\\\test\\\\Pneumonia\\\\IM-0140-0001.jpeg', 'C:\\\\Users\\\\SRIRAM\\\\Documents\\\\Image Classification\\\\test\\\\Pneumonia\\\\IM-0141-0001.jpeg', 'C:\\\\Users\\\\SRIRAM\\\\Documents\\\\Image Classification\\\\test\\\\Pneumonia\\\\IM-0143-0001.jpeg', 'C:\\\\Users\\\\SRIRAM\\\\Documents\\\\Image Classification\\\\test\\\\Pneumonia\\\\IM-0145-0001.jpeg', 'C:\\\\Users\\\\SRIRAM\\\\Documents\\\\Image Classification\\\\test\\\\Pneumonia\\\\IM-0147-0001.jpeg', 'C:\\\\Users\\\\SRIRAM\\\\Documents\\\\Image Classification\\\\test\\\\Pneumonia\\\\IM-0149-0001.jpeg', 'C:\\\\Users\\\\SRIRAM\\\\Documents\\\\Image Classification\\\\test\\\\Pneumonia\\\\IM-0151-0001.jpeg', 'C:\\\\Users\\\\SRIRAM\\\\Documents\\\\Image Classification\\\\test\\\\Pneumonia\\\\IM-0152-0001.jpeg', 'C:\\\\Users\\\\SRIRAM\\\\Documents\\\\Image Classification\\\\test\\\\Pneumonia\\\\IM-0154-0001.jpeg', 'C:\\\\Users\\\\SRIRAM\\\\Documents\\\\Image Classification\\\\test\\\\Pneumonia\\\\IM-0156-0001.jpeg', 'C:\\\\Users\\\\SRIRAM\\\\Documents\\\\Image Classification\\\\test\\\\Pneumonia\\\\IM-0158-0001.jpeg', 'C:\\\\Users\\\\SRIRAM\\\\Documents\\\\Image Classification\\\\test\\\\Pneumonia\\\\IM-0160-0001.jpeg', 'C:\\\\Users\\\\SRIRAM\\\\Documents\\\\Image Classification\\\\test\\\\Pneumonia\\\\IM-0162-0001.jpeg', 'C:\\\\Users\\\\SRIRAM\\\\Documents\\\\Image Classification\\\\test\\\\Pneumonia\\\\IM-0164-0001.jpeg', 'C:\\\\Users\\\\SRIRAM\\\\Documents\\\\Image Classification\\\\test\\\\Pneumonia\\\\IM-0166-0001.jpeg', 'C:\\\\Users\\\\SRIRAM\\\\Documents\\\\Image Classification\\\\test\\\\Pneumonia\\\\IM-0168-0001.jpeg', 'C:\\\\Users\\\\SRIRAM\\\\Documents\\\\Image Classification\\\\test\\\\Pneumonia\\\\IM-0170-0001.jpeg', 'C:\\\\Users\\\\SRIRAM\\\\Documents\\\\Image Classification\\\\test\\\\Pneumonia\\\\IM-0172-0001.jpeg', 'C:\\\\Users\\\\SRIRAM\\\\Documents\\\\Image Classification\\\\test\\\\Pneumonia\\\\IM-0176-0001.jpeg', 'C:\\\\Users\\\\SRIRAM\\\\Documents\\\\Image Classification\\\\test\\\\Pneumonia\\\\IM-0177-0001.jpeg', 'C:\\\\Users\\\\SRIRAM\\\\Documents\\\\Image Classification\\\\test\\\\Pneumonia\\\\IM-0178-0001.jpeg', 'C:\\\\Users\\\\SRIRAM\\\\Documents\\\\Image Classification\\\\test\\\\Pneumonia\\\\IM-0180-0001.jpeg', 'C:\\\\Users\\\\SRIRAM\\\\Documents\\\\Image Classification\\\\test\\\\Pneumonia\\\\IM-0182-0001.jpeg', 'C:\\\\Users\\\\SRIRAM\\\\Documents\\\\Image Classification\\\\test\\\\Pneumonia\\\\IM-0183-0001.jpeg', 'C:\\\\Users\\\\SRIRAM\\\\Documents\\\\Image Classification\\\\test\\\\Pneumonia\\\\IM-0185-0001.jpeg', 'C:\\\\Users\\\\SRIRAM\\\\Documents\\\\Image Classification\\\\test\\\\Pneumonia\\\\IM-0187-0001.jpeg', 'C:\\\\Users\\\\SRIRAM\\\\Documents\\\\Image Classification\\\\test\\\\Pneumonia\\\\IM-0189-0001.jpeg', 'C:\\\\Users\\\\SRIRAM\\\\Documents\\\\Image Classification\\\\test\\\\Pneumonia\\\\IM-0191-0001.jpeg', 'C:\\\\Users\\\\SRIRAM\\\\Documents\\\\Image Classification\\\\test\\\\Pneumonia\\\\IM-0193-0001.jpeg', 'C:\\\\Users\\\\SRIRAM\\\\Documents\\\\Image Classification\\\\test\\\\Pneumonia\\\\IM-0195-0001.jpeg', 'C:\\\\Users\\\\SRIRAM\\\\Documents\\\\Image Classification\\\\test\\\\Pneumonia\\\\IM-0199-0001.jpeg', 'C:\\\\Users\\\\SRIRAM\\\\Documents\\\\Image Classification\\\\test\\\\Pneumonia\\\\IM-0201-0001.jpeg', 'C:\\\\Users\\\\SRIRAM\\\\Documents\\\\Image Classification\\\\test\\\\Pneumonia\\\\IM-0203-0001.jpeg', 'C:\\\\Users\\\\SRIRAM\\\\Documents\\\\Image Classification\\\\test\\\\Pneumonia\\\\IM-0205-0001.jpeg', 'C:\\\\Users\\\\SRIRAM\\\\Documents\\\\Image Classification\\\\test\\\\Pneumonia\\\\IM-0206-0001.jpeg', 'C:\\\\Users\\\\SRIRAM\\\\Documents\\\\Image Classification\\\\test\\\\Pneumonia\\\\IM-0207-0001.jpeg', 'C:\\\\Users\\\\SRIRAM\\\\Documents\\\\Image Classification\\\\test\\\\Pneumonia\\\\IM-0209-0001.jpeg', 'C:\\\\Users\\\\SRIRAM\\\\Documents\\\\Image Classification\\\\test\\\\Pneumonia\\\\IM-0210-0001.jpeg', 'C:\\\\Users\\\\SRIRAM\\\\Documents\\\\Image Classification\\\\test\\\\Pneumonia\\\\IM-0211-0001.jpeg', 'C:\\\\Users\\\\SRIRAM\\\\Documents\\\\Image Classification\\\\test\\\\Pneumonia\\\\IM-0213-0001.jpeg', 'C:\\\\Users\\\\SRIRAM\\\\Documents\\\\Image Classification\\\\test\\\\Pneumonia\\\\IM-0214-0001.jpeg', 'C:\\\\Users\\\\SRIRAM\\\\Documents\\\\Image Classification\\\\test\\\\Pneumonia\\\\IM-0215-0001.jpeg', 'C:\\\\Users\\\\SRIRAM\\\\Documents\\\\Image Classification\\\\test\\\\Pneumonia\\\\IM-0216-0001.jpeg', 'C:\\\\Users\\\\SRIRAM\\\\Documents\\\\Image Classification\\\\test\\\\Pneumonia\\\\IM-0217-0001.jpeg', 'C:\\\\Users\\\\SRIRAM\\\\Documents\\\\Image Classification\\\\test\\\\Pneumonia\\\\IM-0218-0001.jpeg', 'C:\\\\Users\\\\SRIRAM\\\\Documents\\\\Image Classification\\\\test\\\\Pneumonia\\\\IM-0219-0001.jpeg', 'C:\\\\Users\\\\SRIRAM\\\\Documents\\\\Image Classification\\\\test\\\\Pneumonia\\\\IM-0220-0001.jpeg', 'C:\\\\Users\\\\SRIRAM\\\\Documents\\\\Image Classification\\\\test\\\\Pneumonia\\\\IM-0221-0001.jpeg', 'C:\\\\Users\\\\SRIRAM\\\\Documents\\\\Image Classification\\\\test\\\\Pneumonia\\\\IM-0222-0001.jpeg', 'C:\\\\Users\\\\SRIRAM\\\\Documents\\\\Image Classification\\\\test\\\\Pneumonia\\\\IM-0223-0001.jpeg', 'C:\\\\Users\\\\SRIRAM\\\\Documents\\\\Image Classification\\\\test\\\\Pneumonia\\\\IM-0224-0001.jpeg', 'C:\\\\Users\\\\SRIRAM\\\\Documents\\\\Image Classification\\\\test\\\\Pneumonia\\\\IM-0225-0001.jpeg', 'C:\\\\Users\\\\SRIRAM\\\\Documents\\\\Image Classification\\\\test\\\\Pneumonia\\\\IM-0226-0001.jpeg', 'C:\\\\Users\\\\SRIRAM\\\\Documents\\\\Image Classification\\\\test\\\\Pneumonia\\\\IM-0227-0001.jpeg', 'C:\\\\Users\\\\SRIRAM\\\\Documents\\\\Image Classification\\\\test\\\\Pneumonia\\\\IM-0228-0001.jpeg', 'C:\\\\Users\\\\SRIRAM\\\\Documents\\\\Image Classification\\\\test\\\\Pneumonia\\\\IM-0229-0001.jpeg', 'C:\\\\Users\\\\SRIRAM\\\\Documents\\\\Image Classification\\\\test\\\\Pneumonia\\\\IM-0230-0001.jpeg', 'C:\\\\Users\\\\SRIRAM\\\\Documents\\\\Image Classification\\\\test\\\\Pneumonia\\\\IM-0231-0001.jpeg', 'C:\\\\Users\\\\SRIRAM\\\\Documents\\\\Image Classification\\\\test\\\\Pneumonia\\\\IM-0234-0001.jpeg', 'C:\\\\Users\\\\SRIRAM\\\\Documents\\\\Image Classification\\\\test\\\\Pneumonia\\\\IM-0235-0001.jpeg', 'C:\\\\Users\\\\SRIRAM\\\\Documents\\\\Image Classification\\\\test\\\\Pneumonia\\\\IM-0236-0001.jpeg', 'C:\\\\Users\\\\SRIRAM\\\\Documents\\\\Image Classification\\\\test\\\\Pneumonia\\\\IM-0237-0001.jpeg', 'C:\\\\Users\\\\SRIRAM\\\\Documents\\\\Image Classification\\\\test\\\\Pneumonia\\\\IM-0238-0001.jpeg', 'C:\\\\Users\\\\SRIRAM\\\\Documents\\\\Image Classification\\\\test\\\\Pneumonia\\\\IM-0239-0001.jpeg', 'C:\\\\Users\\\\SRIRAM\\\\Documents\\\\Image Classification\\\\test\\\\Pneumonia\\\\IM-0240-0001.jpeg', 'C:\\\\Users\\\\SRIRAM\\\\Documents\\\\Image Classification\\\\test\\\\Pneumonia\\\\IM-0241-0001.jpeg', 'C:\\\\Users\\\\SRIRAM\\\\Documents\\\\Image Classification\\\\test\\\\Pneumonia\\\\IM-0242-0001.jpeg', 'C:\\\\Users\\\\SRIRAM\\\\Documents\\\\Image Classification\\\\test\\\\Pneumonia\\\\IM-0243-0001.jpeg', 'C:\\\\Users\\\\SRIRAM\\\\Documents\\\\Image Classification\\\\test\\\\Pneumonia\\\\IM-0244-0001.jpeg', 'C:\\\\Users\\\\SRIRAM\\\\Documents\\\\Image Classification\\\\test\\\\Pneumonia\\\\IM-0245-0001.jpeg', 'C:\\\\Users\\\\SRIRAM\\\\Documents\\\\Image Classification\\\\test\\\\Pneumonia\\\\IM-0248-0001.jpeg', 'C:\\\\Users\\\\SRIRAM\\\\Documents\\\\Image Classification\\\\test\\\\Pneumonia\\\\IM-0249-0001.jpeg', 'C:\\\\Users\\\\SRIRAM\\\\Documents\\\\Image Classification\\\\test\\\\Pneumonia\\\\IM-0250-0001.jpeg', 'C:\\\\Users\\\\SRIRAM\\\\Documents\\\\Image Classification\\\\test\\\\Pneumonia\\\\IM-0251-0001.jpeg', 'C:\\\\Users\\\\SRIRAM\\\\Documents\\\\Image Classification\\\\test\\\\Pneumonia\\\\IM-0253-0001.jpeg', 'C:\\\\Users\\\\SRIRAM\\\\Documents\\\\Image Classification\\\\test\\\\Pneumonia\\\\IM-0255-0001.jpeg', 'C:\\\\Users\\\\SRIRAM\\\\Documents\\\\Image Classification\\\\test\\\\Pneumonia\\\\IM-0256-0001.jpeg', 'C:\\\\Users\\\\SRIRAM\\\\Documents\\\\Image Classification\\\\test\\\\Pneumonia\\\\IM-0257-0001.jpeg', 'C:\\\\Users\\\\SRIRAM\\\\Documents\\\\Image Classification\\\\test\\\\Pneumonia\\\\IM-0261-0001.jpeg', 'C:\\\\Users\\\\SRIRAM\\\\Documents\\\\Image Classification\\\\test\\\\Pneumonia\\\\IM-0262-0001.jpeg', 'C:\\\\Users\\\\SRIRAM\\\\Documents\\\\Image Classification\\\\test\\\\Pneumonia\\\\IM-0264-0001.jpeg', 'C:\\\\Users\\\\SRIRAM\\\\Documents\\\\Image Classification\\\\test\\\\Pneumonia\\\\IM-0265-0001.jpeg', 'C:\\\\Users\\\\SRIRAM\\\\Documents\\\\Image Classification\\\\test\\\\Pneumonia\\\\IM-0266-0001.jpeg', 'C:\\\\Users\\\\SRIRAM\\\\Documents\\\\Image Classification\\\\test\\\\Pneumonia\\\\IM-0268-0001.jpeg', 'C:\\\\Users\\\\SRIRAM\\\\Documents\\\\Image Classification\\\\test\\\\Pneumonia\\\\IM-0269-0001.jpeg', 'C:\\\\Users\\\\SRIRAM\\\\Documents\\\\Image Classification\\\\test\\\\Pneumonia\\\\IM-0270-0001.jpeg', 'C:\\\\Users\\\\SRIRAM\\\\Documents\\\\Image Classification\\\\test\\\\Pneumonia\\\\IM-0272-0001.jpeg', 'C:\\\\Users\\\\SRIRAM\\\\Documents\\\\Image Classification\\\\test\\\\Pneumonia\\\\IM-0273-0001.jpeg', 'C:\\\\Users\\\\SRIRAM\\\\Documents\\\\Image Classification\\\\test\\\\Pneumonia\\\\IM-0274-0001.jpeg', 'C:\\\\Users\\\\SRIRAM\\\\Documents\\\\Image Classification\\\\test\\\\Pneumonia\\\\IM-0275-0001.jpeg', 'C:\\\\Users\\\\SRIRAM\\\\Documents\\\\Image Classification\\\\test\\\\Pneumonia\\\\IM-0276-0001.jpeg', 'C:\\\\Users\\\\SRIRAM\\\\Documents\\\\Image Classification\\\\test\\\\Pneumonia\\\\IM-0277-0001.jpeg', 'C:\\\\Users\\\\SRIRAM\\\\Documents\\\\Image Classification\\\\test\\\\Pneumonia\\\\IM-0278-0001.jpeg', 'C:\\\\Users\\\\SRIRAM\\\\Documents\\\\Image Classification\\\\test\\\\Pneumonia\\\\IM-0279-0001.jpeg', 'C:\\\\Users\\\\SRIRAM\\\\Documents\\\\Image Classification\\\\test\\\\Pneumonia\\\\IM-0280-0001.jpeg', 'C:\\\\Users\\\\SRIRAM\\\\Documents\\\\Image Classification\\\\test\\\\Pneumonia\\\\IM-0282-0001.jpeg', 'C:\\\\Users\\\\SRIRAM\\\\Documents\\\\Image Classification\\\\test\\\\Pneumonia\\\\IM-0283-0001.jpeg', 'C:\\\\Users\\\\SRIRAM\\\\Documents\\\\Image Classification\\\\test\\\\Pneumonia\\\\IM-0285-0001.jpeg']}] Test image categories.\n",
      "Loaded [{'category': 'covid', 'images': ['C:\\\\Users\\\\SRIRAM\\\\Documents\\\\Image Classification\\\\train\\\\Covid\\\\01.jpeg', 'C:\\\\Users\\\\SRIRAM\\\\Documents\\\\Image Classification\\\\train\\\\Covid\\\\010.png', 'C:\\\\Users\\\\SRIRAM\\\\Documents\\\\Image Classification\\\\train\\\\Covid\\\\012.jpeg', 'C:\\\\Users\\\\SRIRAM\\\\Documents\\\\Image Classification\\\\train\\\\Covid\\\\015.jpg', 'C:\\\\Users\\\\SRIRAM\\\\Documents\\\\Image Classification\\\\train\\\\Covid\\\\019.png', 'C:\\\\Users\\\\SRIRAM\\\\Documents\\\\Image Classification\\\\train\\\\Covid\\\\02.jpeg', 'C:\\\\Users\\\\SRIRAM\\\\Documents\\\\Image Classification\\\\train\\\\Covid\\\\020.jpg', 'C:\\\\Users\\\\SRIRAM\\\\Documents\\\\Image Classification\\\\train\\\\Covid\\\\021.jpeg', 'C:\\\\Users\\\\SRIRAM\\\\Documents\\\\Image Classification\\\\train\\\\Covid\\\\022.jpeg', 'C:\\\\Users\\\\SRIRAM\\\\Documents\\\\Image Classification\\\\train\\\\Covid\\\\024.jpeg', 'C:\\\\Users\\\\SRIRAM\\\\Documents\\\\Image Classification\\\\train\\\\Covid\\\\025.jpeg', 'C:\\\\Users\\\\SRIRAM\\\\Documents\\\\Image Classification\\\\train\\\\Covid\\\\026.jpeg', 'C:\\\\Users\\\\SRIRAM\\\\Documents\\\\Image Classification\\\\train\\\\Covid\\\\027.jpeg', 'C:\\\\Users\\\\SRIRAM\\\\Documents\\\\Image Classification\\\\train\\\\Covid\\\\03.jpeg', 'C:\\\\Users\\\\SRIRAM\\\\Documents\\\\Image Classification\\\\train\\\\Covid\\\\031.jpeg', 'C:\\\\Users\\\\SRIRAM\\\\Documents\\\\Image Classification\\\\train\\\\Covid\\\\032.jpeg', 'C:\\\\Users\\\\SRIRAM\\\\Documents\\\\Image Classification\\\\train\\\\Covid\\\\033.png', 'C:\\\\Users\\\\SRIRAM\\\\Documents\\\\Image Classification\\\\train\\\\Covid\\\\039.jpeg', 'C:\\\\Users\\\\SRIRAM\\\\Documents\\\\Image Classification\\\\train\\\\Covid\\\\04.png', 'C:\\\\Users\\\\SRIRAM\\\\Documents\\\\Image Classification\\\\train\\\\Covid\\\\040.jpeg', 'C:\\\\Users\\\\SRIRAM\\\\Documents\\\\Image Classification\\\\train\\\\Covid\\\\041.jpeg', 'C:\\\\Users\\\\SRIRAM\\\\Documents\\\\Image Classification\\\\train\\\\Covid\\\\042.jpeg', 'C:\\\\Users\\\\SRIRAM\\\\Documents\\\\Image Classification\\\\train\\\\Covid\\\\043.jpeg', 'C:\\\\Users\\\\SRIRAM\\\\Documents\\\\Image Classification\\\\train\\\\Covid\\\\044.jpeg', 'C:\\\\Users\\\\SRIRAM\\\\Documents\\\\Image Classification\\\\train\\\\Covid\\\\045.jpeg', 'C:\\\\Users\\\\SRIRAM\\\\Documents\\\\Image Classification\\\\train\\\\Covid\\\\046.jpeg', 'C:\\\\Users\\\\SRIRAM\\\\Documents\\\\Image Classification\\\\train\\\\Covid\\\\047.jpeg', 'C:\\\\Users\\\\SRIRAM\\\\Documents\\\\Image Classification\\\\train\\\\Covid\\\\048.jpeg', 'C:\\\\Users\\\\SRIRAM\\\\Documents\\\\Image Classification\\\\train\\\\Covid\\\\049.jpeg', 'C:\\\\Users\\\\SRIRAM\\\\Documents\\\\Image Classification\\\\train\\\\Covid\\\\050.jpeg', 'C:\\\\Users\\\\SRIRAM\\\\Documents\\\\Image Classification\\\\train\\\\Covid\\\\051.jpeg', 'C:\\\\Users\\\\SRIRAM\\\\Documents\\\\Image Classification\\\\train\\\\Covid\\\\052.jpeg', 'C:\\\\Users\\\\SRIRAM\\\\Documents\\\\Image Classification\\\\train\\\\Covid\\\\053.jpeg', 'C:\\\\Users\\\\SRIRAM\\\\Documents\\\\Image Classification\\\\train\\\\Covid\\\\054.jpeg', 'C:\\\\Users\\\\SRIRAM\\\\Documents\\\\Image Classification\\\\train\\\\Covid\\\\055.jpeg', 'C:\\\\Users\\\\SRIRAM\\\\Documents\\\\Image Classification\\\\train\\\\Covid\\\\056.jpg', 'C:\\\\Users\\\\SRIRAM\\\\Documents\\\\Image Classification\\\\train\\\\Covid\\\\057.jpeg', 'C:\\\\Users\\\\SRIRAM\\\\Documents\\\\Image Classification\\\\train\\\\Covid\\\\058.jpeg', 'C:\\\\Users\\\\SRIRAM\\\\Documents\\\\Image Classification\\\\train\\\\Covid\\\\059.jpeg', 'C:\\\\Users\\\\SRIRAM\\\\Documents\\\\Image Classification\\\\train\\\\Covid\\\\06.jpeg', 'C:\\\\Users\\\\SRIRAM\\\\Documents\\\\Image Classification\\\\train\\\\Covid\\\\060.jpeg', 'C:\\\\Users\\\\SRIRAM\\\\Documents\\\\Image Classification\\\\train\\\\Covid\\\\061.jpg', 'C:\\\\Users\\\\SRIRAM\\\\Documents\\\\Image Classification\\\\train\\\\Covid\\\\062.jpeg', 'C:\\\\Users\\\\SRIRAM\\\\Documents\\\\Image Classification\\\\train\\\\Covid\\\\064.jpg', 'C:\\\\Users\\\\SRIRAM\\\\Documents\\\\Image Classification\\\\train\\\\Covid\\\\065.jpeg', 'C:\\\\Users\\\\SRIRAM\\\\Documents\\\\Image Classification\\\\train\\\\Covid\\\\067.jpg', 'C:\\\\Users\\\\SRIRAM\\\\Documents\\\\Image Classification\\\\train\\\\Covid\\\\068.jpg', 'C:\\\\Users\\\\SRIRAM\\\\Documents\\\\Image Classification\\\\train\\\\Covid\\\\069.jpg', 'C:\\\\Users\\\\SRIRAM\\\\Documents\\\\Image Classification\\\\train\\\\Covid\\\\07.jpg', 'C:\\\\Users\\\\SRIRAM\\\\Documents\\\\Image Classification\\\\train\\\\Covid\\\\071.jpg', 'C:\\\\Users\\\\SRIRAM\\\\Documents\\\\Image Classification\\\\train\\\\Covid\\\\072.jpeg', 'C:\\\\Users\\\\SRIRAM\\\\Documents\\\\Image Classification\\\\train\\\\Covid\\\\073.jpg', 'C:\\\\Users\\\\SRIRAM\\\\Documents\\\\Image Classification\\\\train\\\\Covid\\\\074.jpg', 'C:\\\\Users\\\\SRIRAM\\\\Documents\\\\Image Classification\\\\train\\\\Covid\\\\076.jpg', 'C:\\\\Users\\\\SRIRAM\\\\Documents\\\\Image Classification\\\\train\\\\Covid\\\\078.jpeg', 'C:\\\\Users\\\\SRIRAM\\\\Documents\\\\Image Classification\\\\train\\\\Covid\\\\079.jpeg', 'C:\\\\Users\\\\SRIRAM\\\\Documents\\\\Image Classification\\\\train\\\\Covid\\\\08.jpeg', 'C:\\\\Users\\\\SRIRAM\\\\Documents\\\\Image Classification\\\\train\\\\Covid\\\\080.jpg', 'C:\\\\Users\\\\SRIRAM\\\\Documents\\\\Image Classification\\\\train\\\\Covid\\\\081.jpeg', 'C:\\\\Users\\\\SRIRAM\\\\Documents\\\\Image Classification\\\\train\\\\Covid\\\\082.jpg', 'C:\\\\Users\\\\SRIRAM\\\\Documents\\\\Image Classification\\\\train\\\\Covid\\\\083.jpeg', 'C:\\\\Users\\\\SRIRAM\\\\Documents\\\\Image Classification\\\\train\\\\Covid\\\\084.jpeg', 'C:\\\\Users\\\\SRIRAM\\\\Documents\\\\Image Classification\\\\train\\\\Covid\\\\085.jpeg', 'C:\\\\Users\\\\SRIRAM\\\\Documents\\\\Image Classification\\\\train\\\\Covid\\\\086.jpg', 'C:\\\\Users\\\\SRIRAM\\\\Documents\\\\Image Classification\\\\train\\\\Covid\\\\088.jpeg', 'C:\\\\Users\\\\SRIRAM\\\\Documents\\\\Image Classification\\\\train\\\\Covid\\\\089.jpg', 'C:\\\\Users\\\\SRIRAM\\\\Documents\\\\Image Classification\\\\train\\\\Covid\\\\09.png', 'C:\\\\Users\\\\SRIRAM\\\\Documents\\\\Image Classification\\\\train\\\\Covid\\\\090.jpeg', 'C:\\\\Users\\\\SRIRAM\\\\Documents\\\\Image Classification\\\\train\\\\Covid\\\\091.jpg', 'C:\\\\Users\\\\SRIRAM\\\\Documents\\\\Image Classification\\\\train\\\\Covid\\\\092.png', 'C:\\\\Users\\\\SRIRAM\\\\Documents\\\\Image Classification\\\\train\\\\Covid\\\\COVID-00001.jpg', 'C:\\\\Users\\\\SRIRAM\\\\Documents\\\\Image Classification\\\\train\\\\Covid\\\\COVID-00002.jpg', 'C:\\\\Users\\\\SRIRAM\\\\Documents\\\\Image Classification\\\\train\\\\Covid\\\\COVID-00003a.jpg', 'C:\\\\Users\\\\SRIRAM\\\\Documents\\\\Image Classification\\\\train\\\\Covid\\\\COVID-00003b.jpg', 'C:\\\\Users\\\\SRIRAM\\\\Documents\\\\Image Classification\\\\train\\\\Covid\\\\COVID-00004.jpg', 'C:\\\\Users\\\\SRIRAM\\\\Documents\\\\Image Classification\\\\train\\\\Covid\\\\COVID-00005.jpg', 'C:\\\\Users\\\\SRIRAM\\\\Documents\\\\Image Classification\\\\train\\\\Covid\\\\COVID-00006.jpg', 'C:\\\\Users\\\\SRIRAM\\\\Documents\\\\Image Classification\\\\train\\\\Covid\\\\COVID-00007.jpg', 'C:\\\\Users\\\\SRIRAM\\\\Documents\\\\Image Classification\\\\train\\\\Covid\\\\COVID-00008.jpg', 'C:\\\\Users\\\\SRIRAM\\\\Documents\\\\Image Classification\\\\train\\\\Covid\\\\COVID-00009.jpg', 'C:\\\\Users\\\\SRIRAM\\\\Documents\\\\Image Classification\\\\train\\\\Covid\\\\COVID-00010.jpg', 'C:\\\\Users\\\\SRIRAM\\\\Documents\\\\Image Classification\\\\train\\\\Covid\\\\COVID-00011.jpg', 'C:\\\\Users\\\\SRIRAM\\\\Documents\\\\Image Classification\\\\train\\\\Covid\\\\COVID-00012.jpg', 'C:\\\\Users\\\\SRIRAM\\\\Documents\\\\Image Classification\\\\train\\\\Covid\\\\COVID-00013a.jpg', 'C:\\\\Users\\\\SRIRAM\\\\Documents\\\\Image Classification\\\\train\\\\Covid\\\\COVID-00013b.jpg', 'C:\\\\Users\\\\SRIRAM\\\\Documents\\\\Image Classification\\\\train\\\\Covid\\\\COVID-00014.jpg', 'C:\\\\Users\\\\SRIRAM\\\\Documents\\\\Image Classification\\\\train\\\\Covid\\\\COVID-00015a.png', 'C:\\\\Users\\\\SRIRAM\\\\Documents\\\\Image Classification\\\\train\\\\Covid\\\\COVID-00015b.png', 'C:\\\\Users\\\\SRIRAM\\\\Documents\\\\Image Classification\\\\train\\\\Covid\\\\COVID-00016.jpg', 'C:\\\\Users\\\\SRIRAM\\\\Documents\\\\Image Classification\\\\train\\\\Covid\\\\COVID-00017.jpg', 'C:\\\\Users\\\\SRIRAM\\\\Documents\\\\Image Classification\\\\train\\\\Covid\\\\COVID-00018.jpg', 'C:\\\\Users\\\\SRIRAM\\\\Documents\\\\Image Classification\\\\train\\\\Covid\\\\COVID-00019.jpg', 'C:\\\\Users\\\\SRIRAM\\\\Documents\\\\Image Classification\\\\train\\\\Covid\\\\COVID-00020.jpg', 'C:\\\\Users\\\\SRIRAM\\\\Documents\\\\Image Classification\\\\train\\\\Covid\\\\COVID-00021.jpg', 'C:\\\\Users\\\\SRIRAM\\\\Documents\\\\Image Classification\\\\train\\\\Covid\\\\COVID-00022.jpg', 'C:\\\\Users\\\\SRIRAM\\\\Documents\\\\Image Classification\\\\train\\\\Covid\\\\COVID-00023.jpg', 'C:\\\\Users\\\\SRIRAM\\\\Documents\\\\Image Classification\\\\train\\\\Covid\\\\COVID-00024.jpg', 'C:\\\\Users\\\\SRIRAM\\\\Documents\\\\Image Classification\\\\train\\\\Covid\\\\COVID-00025.jpg', 'C:\\\\Users\\\\SRIRAM\\\\Documents\\\\Image Classification\\\\train\\\\Covid\\\\COVID-00026.jpg', 'C:\\\\Users\\\\SRIRAM\\\\Documents\\\\Image Classification\\\\train\\\\Covid\\\\COVID-00027.jpg', 'C:\\\\Users\\\\SRIRAM\\\\Documents\\\\Image Classification\\\\train\\\\Covid\\\\COVID-00028.jpg', 'C:\\\\Users\\\\SRIRAM\\\\Documents\\\\Image Classification\\\\train\\\\Covid\\\\COVID-00029.jpg', 'C:\\\\Users\\\\SRIRAM\\\\Documents\\\\Image Classification\\\\train\\\\Covid\\\\COVID-00030.jpg', 'C:\\\\Users\\\\SRIRAM\\\\Documents\\\\Image Classification\\\\train\\\\Covid\\\\COVID-00031.jpg', 'C:\\\\Users\\\\SRIRAM\\\\Documents\\\\Image Classification\\\\train\\\\Covid\\\\COVID-00032.jpg', 'C:\\\\Users\\\\SRIRAM\\\\Documents\\\\Image Classification\\\\train\\\\Covid\\\\COVID-00033.jpg', 'C:\\\\Users\\\\SRIRAM\\\\Documents\\\\Image Classification\\\\train\\\\Covid\\\\COVID-00034.jpg', 'C:\\\\Users\\\\SRIRAM\\\\Documents\\\\Image Classification\\\\train\\\\Covid\\\\COVID-00035.jpg', 'C:\\\\Users\\\\SRIRAM\\\\Documents\\\\Image Classification\\\\train\\\\Covid\\\\COVID-00036.jpg', 'C:\\\\Users\\\\SRIRAM\\\\Documents\\\\Image Classification\\\\train\\\\Covid\\\\COVID-00037.jpg', 'C:\\\\Users\\\\SRIRAM\\\\Documents\\\\Image Classification\\\\train\\\\Covid\\\\COVID-00038.jpg']}, {'category': 'normal_chestray', 'images': ['C:\\\\Users\\\\SRIRAM\\\\Documents\\\\Image Classification\\\\train\\\\Normal_chestxray\\\\01.jpeg', 'C:\\\\Users\\\\SRIRAM\\\\Documents\\\\Image Classification\\\\train\\\\Normal_chestxray\\\\010.jpeg', 'C:\\\\Users\\\\SRIRAM\\\\Documents\\\\Image Classification\\\\train\\\\Normal_chestxray\\\\011.jpeg', 'C:\\\\Users\\\\SRIRAM\\\\Documents\\\\Image Classification\\\\train\\\\Normal_chestxray\\\\012.jpeg', 'C:\\\\Users\\\\SRIRAM\\\\Documents\\\\Image Classification\\\\train\\\\Normal_chestxray\\\\013.jpeg', 'C:\\\\Users\\\\SRIRAM\\\\Documents\\\\Image Classification\\\\train\\\\Normal_chestxray\\\\014.jpeg', 'C:\\\\Users\\\\SRIRAM\\\\Documents\\\\Image Classification\\\\train\\\\Normal_chestxray\\\\015.jpeg', 'C:\\\\Users\\\\SRIRAM\\\\Documents\\\\Image Classification\\\\train\\\\Normal_chestxray\\\\016.jpeg', 'C:\\\\Users\\\\SRIRAM\\\\Documents\\\\Image Classification\\\\train\\\\Normal_chestxray\\\\017.jpeg', 'C:\\\\Users\\\\SRIRAM\\\\Documents\\\\Image Classification\\\\train\\\\Normal_chestxray\\\\018.jpeg', 'C:\\\\Users\\\\SRIRAM\\\\Documents\\\\Image Classification\\\\train\\\\Normal_chestxray\\\\019.jpeg', 'C:\\\\Users\\\\SRIRAM\\\\Documents\\\\Image Classification\\\\train\\\\Normal_chestxray\\\\02.jpeg', 'C:\\\\Users\\\\SRIRAM\\\\Documents\\\\Image Classification\\\\train\\\\Normal_chestxray\\\\020.jpeg', 'C:\\\\Users\\\\SRIRAM\\\\Documents\\\\Image Classification\\\\train\\\\Normal_chestxray\\\\021.jpeg', 'C:\\\\Users\\\\SRIRAM\\\\Documents\\\\Image Classification\\\\train\\\\Normal_chestxray\\\\022.jpeg', 'C:\\\\Users\\\\SRIRAM\\\\Documents\\\\Image Classification\\\\train\\\\Normal_chestxray\\\\023.jpeg', 'C:\\\\Users\\\\SRIRAM\\\\Documents\\\\Image Classification\\\\train\\\\Normal_chestxray\\\\024.jpeg', 'C:\\\\Users\\\\SRIRAM\\\\Documents\\\\Image Classification\\\\train\\\\Normal_chestxray\\\\025.jpeg', 'C:\\\\Users\\\\SRIRAM\\\\Documents\\\\Image Classification\\\\train\\\\Normal_chestxray\\\\03.jpeg', 'C:\\\\Users\\\\SRIRAM\\\\Documents\\\\Image Classification\\\\train\\\\Normal_chestxray\\\\04.jpeg', 'C:\\\\Users\\\\SRIRAM\\\\Documents\\\\Image Classification\\\\train\\\\Normal_chestxray\\\\05.jpeg', 'C:\\\\Users\\\\SRIRAM\\\\Documents\\\\Image Classification\\\\train\\\\Normal_chestxray\\\\050.jpeg', 'C:\\\\Users\\\\SRIRAM\\\\Documents\\\\Image Classification\\\\train\\\\Normal_chestxray\\\\051.jpeg', 'C:\\\\Users\\\\SRIRAM\\\\Documents\\\\Image Classification\\\\train\\\\Normal_chestxray\\\\052.jpeg', 'C:\\\\Users\\\\SRIRAM\\\\Documents\\\\Image Classification\\\\train\\\\Normal_chestxray\\\\053.jpeg', 'C:\\\\Users\\\\SRIRAM\\\\Documents\\\\Image Classification\\\\train\\\\Normal_chestxray\\\\054.jpeg', 'C:\\\\Users\\\\SRIRAM\\\\Documents\\\\Image Classification\\\\train\\\\Normal_chestxray\\\\055.jpeg', 'C:\\\\Users\\\\SRIRAM\\\\Documents\\\\Image Classification\\\\train\\\\Normal_chestxray\\\\056.jpeg', 'C:\\\\Users\\\\SRIRAM\\\\Documents\\\\Image Classification\\\\train\\\\Normal_chestxray\\\\057.jpeg', 'C:\\\\Users\\\\SRIRAM\\\\Documents\\\\Image Classification\\\\train\\\\Normal_chestxray\\\\058.jpeg', 'C:\\\\Users\\\\SRIRAM\\\\Documents\\\\Image Classification\\\\train\\\\Normal_chestxray\\\\059.jpeg', 'C:\\\\Users\\\\SRIRAM\\\\Documents\\\\Image Classification\\\\train\\\\Normal_chestxray\\\\06.jpeg', 'C:\\\\Users\\\\SRIRAM\\\\Documents\\\\Image Classification\\\\train\\\\Normal_chestxray\\\\060.jpeg', 'C:\\\\Users\\\\SRIRAM\\\\Documents\\\\Image Classification\\\\train\\\\Normal_chestxray\\\\061.jpeg', 'C:\\\\Users\\\\SRIRAM\\\\Documents\\\\Image Classification\\\\train\\\\Normal_chestxray\\\\062.jpeg', 'C:\\\\Users\\\\SRIRAM\\\\Documents\\\\Image Classification\\\\train\\\\Normal_chestxray\\\\063.jpeg', 'C:\\\\Users\\\\SRIRAM\\\\Documents\\\\Image Classification\\\\train\\\\Normal_chestxray\\\\064.jpeg', 'C:\\\\Users\\\\SRIRAM\\\\Documents\\\\Image Classification\\\\train\\\\Normal_chestxray\\\\065.jpeg', 'C:\\\\Users\\\\SRIRAM\\\\Documents\\\\Image Classification\\\\train\\\\Normal_chestxray\\\\066.jpeg', 'C:\\\\Users\\\\SRIRAM\\\\Documents\\\\Image Classification\\\\train\\\\Normal_chestxray\\\\067.jpeg', 'C:\\\\Users\\\\SRIRAM\\\\Documents\\\\Image Classification\\\\train\\\\Normal_chestxray\\\\068.jpeg', 'C:\\\\Users\\\\SRIRAM\\\\Documents\\\\Image Classification\\\\train\\\\Normal_chestxray\\\\069.jpeg', 'C:\\\\Users\\\\SRIRAM\\\\Documents\\\\Image Classification\\\\train\\\\Normal_chestxray\\\\07.jpeg', 'C:\\\\Users\\\\SRIRAM\\\\Documents\\\\Image Classification\\\\train\\\\Normal_chestxray\\\\070.jpeg', 'C:\\\\Users\\\\SRIRAM\\\\Documents\\\\Image Classification\\\\train\\\\Normal_chestxray\\\\071.jpeg', 'C:\\\\Users\\\\SRIRAM\\\\Documents\\\\Image Classification\\\\train\\\\Normal_chestxray\\\\072.jpeg', 'C:\\\\Users\\\\SRIRAM\\\\Documents\\\\Image Classification\\\\train\\\\Normal_chestxray\\\\073.jpeg', 'C:\\\\Users\\\\SRIRAM\\\\Documents\\\\Image Classification\\\\train\\\\Normal_chestxray\\\\074.jpeg', 'C:\\\\Users\\\\SRIRAM\\\\Documents\\\\Image Classification\\\\train\\\\Normal_chestxray\\\\075.jpeg', 'C:\\\\Users\\\\SRIRAM\\\\Documents\\\\Image Classification\\\\train\\\\Normal_chestxray\\\\076.jpeg', 'C:\\\\Users\\\\SRIRAM\\\\Documents\\\\Image Classification\\\\train\\\\Normal_chestxray\\\\077.jpeg', 'C:\\\\Users\\\\SRIRAM\\\\Documents\\\\Image Classification\\\\train\\\\Normal_chestxray\\\\079.jpeg', 'C:\\\\Users\\\\SRIRAM\\\\Documents\\\\Image Classification\\\\train\\\\Normal_chestxray\\\\08.jpeg', 'C:\\\\Users\\\\SRIRAM\\\\Documents\\\\Image Classification\\\\train\\\\Normal_chestxray\\\\080.jpeg', 'C:\\\\Users\\\\SRIRAM\\\\Documents\\\\Image Classification\\\\train\\\\Normal_chestxray\\\\081.jpeg', 'C:\\\\Users\\\\SRIRAM\\\\Documents\\\\Image Classification\\\\train\\\\Normal_chestxray\\\\082.jpeg', 'C:\\\\Users\\\\SRIRAM\\\\Documents\\\\Image Classification\\\\train\\\\Normal_chestxray\\\\083.jpeg', 'C:\\\\Users\\\\SRIRAM\\\\Documents\\\\Image Classification\\\\train\\\\Normal_chestxray\\\\084.jpeg', 'C:\\\\Users\\\\SRIRAM\\\\Documents\\\\Image Classification\\\\train\\\\Normal_chestxray\\\\085.jpeg', 'C:\\\\Users\\\\SRIRAM\\\\Documents\\\\Image Classification\\\\train\\\\Normal_chestxray\\\\086.jpeg', 'C:\\\\Users\\\\SRIRAM\\\\Documents\\\\Image Classification\\\\train\\\\Normal_chestxray\\\\087.jpeg', 'C:\\\\Users\\\\SRIRAM\\\\Documents\\\\Image Classification\\\\train\\\\Normal_chestxray\\\\088.jpeg', 'C:\\\\Users\\\\SRIRAM\\\\Documents\\\\Image Classification\\\\train\\\\Normal_chestxray\\\\09.jpeg', 'C:\\\\Users\\\\SRIRAM\\\\Documents\\\\Image Classification\\\\train\\\\Normal_chestxray\\\\091.jpeg', 'C:\\\\Users\\\\SRIRAM\\\\Documents\\\\Image Classification\\\\train\\\\Normal_chestxray\\\\092.jpeg', 'C:\\\\Users\\\\SRIRAM\\\\Documents\\\\Image Classification\\\\train\\\\Normal_chestxray\\\\093.jpeg', 'C:\\\\Users\\\\SRIRAM\\\\Documents\\\\Image Classification\\\\train\\\\Normal_chestxray\\\\094.jpeg', 'C:\\\\Users\\\\SRIRAM\\\\Documents\\\\Image Classification\\\\train\\\\Normal_chestxray\\\\095.jpeg', 'C:\\\\Users\\\\SRIRAM\\\\Documents\\\\Image Classification\\\\train\\\\Normal_chestxray\\\\096.jpeg', 'C:\\\\Users\\\\SRIRAM\\\\Documents\\\\Image Classification\\\\train\\\\Normal_chestxray\\\\097.jpeg', 'C:\\\\Users\\\\SRIRAM\\\\Documents\\\\Image Classification\\\\train\\\\Normal_chestxray\\\\IM-0115-0001.jpeg', 'C:\\\\Users\\\\SRIRAM\\\\Documents\\\\Image Classification\\\\train\\\\Normal_chestxray\\\\IM-0117-0001.jpeg', 'C:\\\\Users\\\\SRIRAM\\\\Documents\\\\Image Classification\\\\train\\\\Normal_chestxray\\\\IM-0119-0001.jpeg', 'C:\\\\Users\\\\SRIRAM\\\\Documents\\\\Image Classification\\\\train\\\\Normal_chestxray\\\\IM-0122-0001.jpeg', 'C:\\\\Users\\\\SRIRAM\\\\Documents\\\\Image Classification\\\\train\\\\Normal_chestxray\\\\IM-0125-0001.jpeg', 'C:\\\\Users\\\\SRIRAM\\\\Documents\\\\Image Classification\\\\train\\\\Normal_chestxray\\\\IM-0127-0001.jpeg', 'C:\\\\Users\\\\SRIRAM\\\\Documents\\\\Image Classification\\\\train\\\\Normal_chestxray\\\\IM-0128-0001.jpeg', 'C:\\\\Users\\\\SRIRAM\\\\Documents\\\\Image Classification\\\\train\\\\Normal_chestxray\\\\IM-0129-0001.jpeg', 'C:\\\\Users\\\\SRIRAM\\\\Documents\\\\Image Classification\\\\train\\\\Normal_chestxray\\\\IM-0131-0001.jpeg', 'C:\\\\Users\\\\SRIRAM\\\\Documents\\\\Image Classification\\\\train\\\\Normal_chestxray\\\\IM-0133-0001.jpeg', 'C:\\\\Users\\\\SRIRAM\\\\Documents\\\\Image Classification\\\\train\\\\Normal_chestxray\\\\IM-0135-0001.jpeg', 'C:\\\\Users\\\\SRIRAM\\\\Documents\\\\Image Classification\\\\train\\\\Normal_chestxray\\\\IM-0137-0001.jpeg', 'C:\\\\Users\\\\SRIRAM\\\\Documents\\\\Image Classification\\\\train\\\\Normal_chestxray\\\\IM-0140-0001.jpeg', 'C:\\\\Users\\\\SRIRAM\\\\Documents\\\\Image Classification\\\\train\\\\Normal_chestxray\\\\IM-0141-0001.jpeg', 'C:\\\\Users\\\\SRIRAM\\\\Documents\\\\Image Classification\\\\train\\\\Normal_chestxray\\\\IM-0143-0001.jpeg', 'C:\\\\Users\\\\SRIRAM\\\\Documents\\\\Image Classification\\\\train\\\\Normal_chestxray\\\\IM-0145-0001.jpeg', 'C:\\\\Users\\\\SRIRAM\\\\Documents\\\\Image Classification\\\\train\\\\Normal_chestxray\\\\IM-0147-0001.jpeg', 'C:\\\\Users\\\\SRIRAM\\\\Documents\\\\Image Classification\\\\train\\\\Normal_chestxray\\\\IM-0149-0001.jpeg', 'C:\\\\Users\\\\SRIRAM\\\\Documents\\\\Image Classification\\\\train\\\\Normal_chestxray\\\\IM-0151-0001.jpeg', 'C:\\\\Users\\\\SRIRAM\\\\Documents\\\\Image Classification\\\\train\\\\Normal_chestxray\\\\IM-0152-0001.jpeg', 'C:\\\\Users\\\\SRIRAM\\\\Documents\\\\Image Classification\\\\train\\\\Normal_chestxray\\\\IM-0154-0001.jpeg', 'C:\\\\Users\\\\SRIRAM\\\\Documents\\\\Image Classification\\\\train\\\\Normal_chestxray\\\\IM-0156-0001.jpeg', 'C:\\\\Users\\\\SRIRAM\\\\Documents\\\\Image Classification\\\\train\\\\Normal_chestxray\\\\IM-0158-0001.jpeg', 'C:\\\\Users\\\\SRIRAM\\\\Documents\\\\Image Classification\\\\train\\\\Normal_chestxray\\\\IM-0160-0001.jpeg', 'C:\\\\Users\\\\SRIRAM\\\\Documents\\\\Image Classification\\\\train\\\\Normal_chestxray\\\\IM-0162-0001.jpeg', 'C:\\\\Users\\\\SRIRAM\\\\Documents\\\\Image Classification\\\\train\\\\Normal_chestxray\\\\IM-0164-0001.jpeg', 'C:\\\\Users\\\\SRIRAM\\\\Documents\\\\Image Classification\\\\train\\\\Normal_chestxray\\\\IM-0166-0001.jpeg', 'C:\\\\Users\\\\SRIRAM\\\\Documents\\\\Image Classification\\\\train\\\\Normal_chestxray\\\\IM-0168-0001.jpeg', 'C:\\\\Users\\\\SRIRAM\\\\Documents\\\\Image Classification\\\\train\\\\Normal_chestxray\\\\IM-0170-0001.jpeg', 'C:\\\\Users\\\\SRIRAM\\\\Documents\\\\Image Classification\\\\train\\\\Normal_chestxray\\\\IM-0172-0001.jpeg', 'C:\\\\Users\\\\SRIRAM\\\\Documents\\\\Image Classification\\\\train\\\\Normal_chestxray\\\\IM-0176-0001.jpeg', 'C:\\\\Users\\\\SRIRAM\\\\Documents\\\\Image Classification\\\\train\\\\Normal_chestxray\\\\IM-0177-0001.jpeg', 'C:\\\\Users\\\\SRIRAM\\\\Documents\\\\Image Classification\\\\train\\\\Normal_chestxray\\\\IM-0178-0001.jpeg', 'C:\\\\Users\\\\SRIRAM\\\\Documents\\\\Image Classification\\\\train\\\\Normal_chestxray\\\\IM-0180-0001.jpeg', 'C:\\\\Users\\\\SRIRAM\\\\Documents\\\\Image Classification\\\\train\\\\Normal_chestxray\\\\IM-0182-0001.jpeg', 'C:\\\\Users\\\\SRIRAM\\\\Documents\\\\Image Classification\\\\train\\\\Normal_chestxray\\\\IM-0183-0001.jpeg', 'C:\\\\Users\\\\SRIRAM\\\\Documents\\\\Image Classification\\\\train\\\\Normal_chestxray\\\\IM-0185-0001.jpeg', 'C:\\\\Users\\\\SRIRAM\\\\Documents\\\\Image Classification\\\\train\\\\Normal_chestxray\\\\IM-0187-0001.jpeg', 'C:\\\\Users\\\\SRIRAM\\\\Documents\\\\Image Classification\\\\train\\\\Normal_chestxray\\\\IM-0189-0001.jpeg', 'C:\\\\Users\\\\SRIRAM\\\\Documents\\\\Image Classification\\\\train\\\\Normal_chestxray\\\\IM-0191-0001.jpeg', 'C:\\\\Users\\\\SRIRAM\\\\Documents\\\\Image Classification\\\\train\\\\Normal_chestxray\\\\IM-0193-0001.jpeg', 'C:\\\\Users\\\\SRIRAM\\\\Documents\\\\Image Classification\\\\train\\\\Normal_chestxray\\\\IM-0195-0001.jpeg', 'C:\\\\Users\\\\SRIRAM\\\\Documents\\\\Image Classification\\\\train\\\\Normal_chestxray\\\\IM-0199-0001.jpeg', 'C:\\\\Users\\\\SRIRAM\\\\Documents\\\\Image Classification\\\\train\\\\Normal_chestxray\\\\IM-0201-0001.jpeg', 'C:\\\\Users\\\\SRIRAM\\\\Documents\\\\Image Classification\\\\train\\\\Normal_chestxray\\\\IM-0203-0001.jpeg', 'C:\\\\Users\\\\SRIRAM\\\\Documents\\\\Image Classification\\\\train\\\\Normal_chestxray\\\\IM-0205-0001.jpeg', 'C:\\\\Users\\\\SRIRAM\\\\Documents\\\\Image Classification\\\\train\\\\Normal_chestxray\\\\IM-0206-0001.jpeg', 'C:\\\\Users\\\\SRIRAM\\\\Documents\\\\Image Classification\\\\train\\\\Normal_chestxray\\\\IM-0207-0001.jpeg', 'C:\\\\Users\\\\SRIRAM\\\\Documents\\\\Image Classification\\\\train\\\\Normal_chestxray\\\\IM-0209-0001.jpeg', 'C:\\\\Users\\\\SRIRAM\\\\Documents\\\\Image Classification\\\\train\\\\Normal_chestxray\\\\IM-0210-0001.jpeg', 'C:\\\\Users\\\\SRIRAM\\\\Documents\\\\Image Classification\\\\train\\\\Normal_chestxray\\\\IM-0211-0001.jpeg', 'C:\\\\Users\\\\SRIRAM\\\\Documents\\\\Image Classification\\\\train\\\\Normal_chestxray\\\\IM-0213-0001.jpeg', 'C:\\\\Users\\\\SRIRAM\\\\Documents\\\\Image Classification\\\\train\\\\Normal_chestxray\\\\IM-0214-0001.jpeg', 'C:\\\\Users\\\\SRIRAM\\\\Documents\\\\Image Classification\\\\train\\\\Normal_chestxray\\\\IM-0215-0001.jpeg', 'C:\\\\Users\\\\SRIRAM\\\\Documents\\\\Image Classification\\\\train\\\\Normal_chestxray\\\\IM-0216-0001.jpeg', 'C:\\\\Users\\\\SRIRAM\\\\Documents\\\\Image Classification\\\\train\\\\Normal_chestxray\\\\IM-0217-0001.jpeg', 'C:\\\\Users\\\\SRIRAM\\\\Documents\\\\Image Classification\\\\train\\\\Normal_chestxray\\\\IM-0218-0001.jpeg', 'C:\\\\Users\\\\SRIRAM\\\\Documents\\\\Image Classification\\\\train\\\\Normal_chestxray\\\\IM-0219-0001.jpeg', 'C:\\\\Users\\\\SRIRAM\\\\Documents\\\\Image Classification\\\\train\\\\Normal_chestxray\\\\IM-0220-0001.jpeg', 'C:\\\\Users\\\\SRIRAM\\\\Documents\\\\Image Classification\\\\train\\\\Normal_chestxray\\\\IM-0221-0001.jpeg', 'C:\\\\Users\\\\SRIRAM\\\\Documents\\\\Image Classification\\\\train\\\\Normal_chestxray\\\\IM-0222-0001.jpeg', 'C:\\\\Users\\\\SRIRAM\\\\Documents\\\\Image Classification\\\\train\\\\Normal_chestxray\\\\IM-0223-0001.jpeg', 'C:\\\\Users\\\\SRIRAM\\\\Documents\\\\Image Classification\\\\train\\\\Normal_chestxray\\\\IM-0224-0001.jpeg', 'C:\\\\Users\\\\SRIRAM\\\\Documents\\\\Image Classification\\\\train\\\\Normal_chestxray\\\\IM-0225-0001.jpeg', 'C:\\\\Users\\\\SRIRAM\\\\Documents\\\\Image Classification\\\\train\\\\Normal_chestxray\\\\IM-0226-0001.jpeg', 'C:\\\\Users\\\\SRIRAM\\\\Documents\\\\Image Classification\\\\train\\\\Normal_chestxray\\\\IM-0227-0001.jpeg', 'C:\\\\Users\\\\SRIRAM\\\\Documents\\\\Image Classification\\\\train\\\\Normal_chestxray\\\\IM-0228-0001.jpeg', 'C:\\\\Users\\\\SRIRAM\\\\Documents\\\\Image Classification\\\\train\\\\Normal_chestxray\\\\IM-0229-0001.jpeg', 'C:\\\\Users\\\\SRIRAM\\\\Documents\\\\Image Classification\\\\train\\\\Normal_chestxray\\\\IM-0230-0001.jpeg', 'C:\\\\Users\\\\SRIRAM\\\\Documents\\\\Image Classification\\\\train\\\\Normal_chestxray\\\\IM-0231-0001.jpeg', 'C:\\\\Users\\\\SRIRAM\\\\Documents\\\\Image Classification\\\\train\\\\Normal_chestxray\\\\IM-0234-0001.jpeg', 'C:\\\\Users\\\\SRIRAM\\\\Documents\\\\Image Classification\\\\train\\\\Normal_chestxray\\\\IM-0235-0001.jpeg', 'C:\\\\Users\\\\SRIRAM\\\\Documents\\\\Image Classification\\\\train\\\\Normal_chestxray\\\\IM-0236-0001.jpeg', 'C:\\\\Users\\\\SRIRAM\\\\Documents\\\\Image Classification\\\\train\\\\Normal_chestxray\\\\IM-0237-0001.jpeg', 'C:\\\\Users\\\\SRIRAM\\\\Documents\\\\Image Classification\\\\train\\\\Normal_chestxray\\\\IM-0238-0001.jpeg', 'C:\\\\Users\\\\SRIRAM\\\\Documents\\\\Image Classification\\\\train\\\\Normal_chestxray\\\\IM-0239-0001.jpeg', 'C:\\\\Users\\\\SRIRAM\\\\Documents\\\\Image Classification\\\\train\\\\Normal_chestxray\\\\IM-0240-0001.jpeg']}, {'category': 'pneumonia', 'images': ['C:\\\\Users\\\\SRIRAM\\\\Documents\\\\Image Classification\\\\train\\\\Pneumonia\\\\person10_bacteria_43.jpeg', 'C:\\\\Users\\\\SRIRAM\\\\Documents\\\\Image Classification\\\\train\\\\Pneumonia\\\\person11_bacteria_45.jpeg', 'C:\\\\Users\\\\SRIRAM\\\\Documents\\\\Image Classification\\\\train\\\\Pneumonia\\\\person12_bacteria_46.jpeg', 'C:\\\\Users\\\\SRIRAM\\\\Documents\\\\Image Classification\\\\train\\\\Pneumonia\\\\person12_bacteria_47.jpeg', 'C:\\\\Users\\\\SRIRAM\\\\Documents\\\\Image Classification\\\\train\\\\Pneumonia\\\\person12_bacteria_48.jpeg', 'C:\\\\Users\\\\SRIRAM\\\\Documents\\\\Image Classification\\\\train\\\\Pneumonia\\\\person13_bacteria_49.jpeg', 'C:\\\\Users\\\\SRIRAM\\\\Documents\\\\Image Classification\\\\train\\\\Pneumonia\\\\person13_bacteria_50.jpeg', 'C:\\\\Users\\\\SRIRAM\\\\Documents\\\\Image Classification\\\\train\\\\Pneumonia\\\\person14_bacteria_51.jpeg', 'C:\\\\Users\\\\SRIRAM\\\\Documents\\\\Image Classification\\\\train\\\\Pneumonia\\\\person15_bacteria_52.jpeg', 'C:\\\\Users\\\\SRIRAM\\\\Documents\\\\Image Classification\\\\train\\\\Pneumonia\\\\person16_bacteria_53.jpeg', 'C:\\\\Users\\\\SRIRAM\\\\Documents\\\\Image Classification\\\\train\\\\Pneumonia\\\\person16_bacteria_54.jpeg', 'C:\\\\Users\\\\SRIRAM\\\\Documents\\\\Image Classification\\\\train\\\\Pneumonia\\\\person16_bacteria_55.jpeg', 'C:\\\\Users\\\\SRIRAM\\\\Documents\\\\Image Classification\\\\train\\\\Pneumonia\\\\person17_bacteria_56.jpeg', 'C:\\\\Users\\\\SRIRAM\\\\Documents\\\\Image Classification\\\\train\\\\Pneumonia\\\\person18_bacteria_57.jpeg', 'C:\\\\Users\\\\SRIRAM\\\\Documents\\\\Image Classification\\\\train\\\\Pneumonia\\\\person19_bacteria_58.jpeg', 'C:\\\\Users\\\\SRIRAM\\\\Documents\\\\Image Classification\\\\train\\\\Pneumonia\\\\person19_bacteria_59.jpeg', 'C:\\\\Users\\\\SRIRAM\\\\Documents\\\\Image Classification\\\\train\\\\Pneumonia\\\\person19_bacteria_60.jpeg', 'C:\\\\Users\\\\SRIRAM\\\\Documents\\\\Image Classification\\\\train\\\\Pneumonia\\\\person19_bacteria_61.jpeg', 'C:\\\\Users\\\\SRIRAM\\\\Documents\\\\Image Classification\\\\train\\\\Pneumonia\\\\person19_bacteria_62.jpeg', 'C:\\\\Users\\\\SRIRAM\\\\Documents\\\\Image Classification\\\\train\\\\Pneumonia\\\\person19_bacteria_63.jpeg', 'C:\\\\Users\\\\SRIRAM\\\\Documents\\\\Image Classification\\\\train\\\\Pneumonia\\\\person1_bacteria_1.jpeg', 'C:\\\\Users\\\\SRIRAM\\\\Documents\\\\Image Classification\\\\train\\\\Pneumonia\\\\person1_bacteria_2.jpeg', 'C:\\\\Users\\\\SRIRAM\\\\Documents\\\\Image Classification\\\\train\\\\Pneumonia\\\\person20_bacteria_64.jpeg', 'C:\\\\Users\\\\SRIRAM\\\\Documents\\\\Image Classification\\\\train\\\\Pneumonia\\\\person20_bacteria_66.jpeg', 'C:\\\\Users\\\\SRIRAM\\\\Documents\\\\Image Classification\\\\train\\\\Pneumonia\\\\person20_bacteria_67.jpeg', 'C:\\\\Users\\\\SRIRAM\\\\Documents\\\\Image Classification\\\\train\\\\Pneumonia\\\\person20_bacteria_69.jpeg', 'C:\\\\Users\\\\SRIRAM\\\\Documents\\\\Image Classification\\\\train\\\\Pneumonia\\\\person20_bacteria_70.jpeg', 'C:\\\\Users\\\\SRIRAM\\\\Documents\\\\Image Classification\\\\train\\\\Pneumonia\\\\person21_bacteria_72.jpeg', 'C:\\\\Users\\\\SRIRAM\\\\Documents\\\\Image Classification\\\\train\\\\Pneumonia\\\\person21_bacteria_73.jpeg', 'C:\\\\Users\\\\SRIRAM\\\\Documents\\\\Image Classification\\\\train\\\\Pneumonia\\\\person22_bacteria_74.jpeg', 'C:\\\\Users\\\\SRIRAM\\\\Documents\\\\Image Classification\\\\train\\\\Pneumonia\\\\person22_bacteria_76.jpeg', 'C:\\\\Users\\\\SRIRAM\\\\Documents\\\\Image Classification\\\\train\\\\Pneumonia\\\\person22_bacteria_77.jpeg', 'C:\\\\Users\\\\SRIRAM\\\\Documents\\\\Image Classification\\\\train\\\\Pneumonia\\\\person23_bacteria_100.jpeg', 'C:\\\\Users\\\\SRIRAM\\\\Documents\\\\Image Classification\\\\train\\\\Pneumonia\\\\person23_bacteria_101.jpeg', 'C:\\\\Users\\\\SRIRAM\\\\Documents\\\\Image Classification\\\\train\\\\Pneumonia\\\\person23_bacteria_102.jpeg', 'C:\\\\Users\\\\SRIRAM\\\\Documents\\\\Image Classification\\\\train\\\\Pneumonia\\\\person23_bacteria_103.jpeg', 'C:\\\\Users\\\\SRIRAM\\\\Documents\\\\Image Classification\\\\train\\\\Pneumonia\\\\person23_bacteria_104.jpeg', 'C:\\\\Users\\\\SRIRAM\\\\Documents\\\\Image Classification\\\\train\\\\Pneumonia\\\\person23_bacteria_105.jpeg', 'C:\\\\Users\\\\SRIRAM\\\\Documents\\\\Image Classification\\\\train\\\\Pneumonia\\\\person23_bacteria_106.jpeg', 'C:\\\\Users\\\\SRIRAM\\\\Documents\\\\Image Classification\\\\train\\\\Pneumonia\\\\person23_bacteria_107.jpeg', 'C:\\\\Users\\\\SRIRAM\\\\Documents\\\\Image Classification\\\\train\\\\Pneumonia\\\\person23_bacteria_78.jpeg', 'C:\\\\Users\\\\SRIRAM\\\\Documents\\\\Image Classification\\\\train\\\\Pneumonia\\\\person23_bacteria_79.jpeg', 'C:\\\\Users\\\\SRIRAM\\\\Documents\\\\Image Classification\\\\train\\\\Pneumonia\\\\person23_bacteria_80.jpeg', 'C:\\\\Users\\\\SRIRAM\\\\Documents\\\\Image Classification\\\\train\\\\Pneumonia\\\\person23_bacteria_81.jpeg', 'C:\\\\Users\\\\SRIRAM\\\\Documents\\\\Image Classification\\\\train\\\\Pneumonia\\\\person23_bacteria_82.jpeg', 'C:\\\\Users\\\\SRIRAM\\\\Documents\\\\Image Classification\\\\train\\\\Pneumonia\\\\person23_bacteria_83.jpeg', 'C:\\\\Users\\\\SRIRAM\\\\Documents\\\\Image Classification\\\\train\\\\Pneumonia\\\\person23_bacteria_84.jpeg', 'C:\\\\Users\\\\SRIRAM\\\\Documents\\\\Image Classification\\\\train\\\\Pneumonia\\\\person23_bacteria_85.jpeg', 'C:\\\\Users\\\\SRIRAM\\\\Documents\\\\Image Classification\\\\train\\\\Pneumonia\\\\person23_bacteria_86.jpeg', 'C:\\\\Users\\\\SRIRAM\\\\Documents\\\\Image Classification\\\\train\\\\Pneumonia\\\\person23_bacteria_87.jpeg', 'C:\\\\Users\\\\SRIRAM\\\\Documents\\\\Image Classification\\\\train\\\\Pneumonia\\\\person23_bacteria_88.jpeg', 'C:\\\\Users\\\\SRIRAM\\\\Documents\\\\Image Classification\\\\train\\\\Pneumonia\\\\person23_bacteria_89.jpeg', 'C:\\\\Users\\\\SRIRAM\\\\Documents\\\\Image Classification\\\\train\\\\Pneumonia\\\\person23_bacteria_90.jpeg', 'C:\\\\Users\\\\SRIRAM\\\\Documents\\\\Image Classification\\\\train\\\\Pneumonia\\\\person23_bacteria_91.jpeg', 'C:\\\\Users\\\\SRIRAM\\\\Documents\\\\Image Classification\\\\train\\\\Pneumonia\\\\person23_bacteria_92.jpeg', 'C:\\\\Users\\\\SRIRAM\\\\Documents\\\\Image Classification\\\\train\\\\Pneumonia\\\\person23_bacteria_93.jpeg', 'C:\\\\Users\\\\SRIRAM\\\\Documents\\\\Image Classification\\\\train\\\\Pneumonia\\\\person23_bacteria_94.jpeg', 'C:\\\\Users\\\\SRIRAM\\\\Documents\\\\Image Classification\\\\train\\\\Pneumonia\\\\person23_bacteria_95.jpeg', 'C:\\\\Users\\\\SRIRAM\\\\Documents\\\\Image Classification\\\\train\\\\Pneumonia\\\\person23_bacteria_96.jpeg', 'C:\\\\Users\\\\SRIRAM\\\\Documents\\\\Image Classification\\\\train\\\\Pneumonia\\\\person23_bacteria_97.jpeg', 'C:\\\\Users\\\\SRIRAM\\\\Documents\\\\Image Classification\\\\train\\\\Pneumonia\\\\person23_bacteria_98.jpeg', 'C:\\\\Users\\\\SRIRAM\\\\Documents\\\\Image Classification\\\\train\\\\Pneumonia\\\\person23_bacteria_99.jpeg', 'C:\\\\Users\\\\SRIRAM\\\\Documents\\\\Image Classification\\\\train\\\\Pneumonia\\\\person24_bacteria_108.jpeg', 'C:\\\\Users\\\\SRIRAM\\\\Documents\\\\Image Classification\\\\train\\\\Pneumonia\\\\person24_bacteria_109.jpeg', 'C:\\\\Users\\\\SRIRAM\\\\Documents\\\\Image Classification\\\\train\\\\Pneumonia\\\\person24_bacteria_110.jpeg', 'C:\\\\Users\\\\SRIRAM\\\\Documents\\\\Image Classification\\\\train\\\\Pneumonia\\\\person24_bacteria_111.jpeg', 'C:\\\\Users\\\\SRIRAM\\\\Documents\\\\Image Classification\\\\train\\\\Pneumonia\\\\person24_bacteria_112.jpeg', 'C:\\\\Users\\\\SRIRAM\\\\Documents\\\\Image Classification\\\\train\\\\Pneumonia\\\\person25_bacteria_113.jpeg', 'C:\\\\Users\\\\SRIRAM\\\\Documents\\\\Image Classification\\\\train\\\\Pneumonia\\\\person25_bacteria_114.jpeg', 'C:\\\\Users\\\\SRIRAM\\\\Documents\\\\Image Classification\\\\train\\\\Pneumonia\\\\person25_bacteria_115.jpeg', 'C:\\\\Users\\\\SRIRAM\\\\Documents\\\\Image Classification\\\\train\\\\Pneumonia\\\\person25_bacteria_116.jpeg', 'C:\\\\Users\\\\SRIRAM\\\\Documents\\\\Image Classification\\\\train\\\\Pneumonia\\\\person25_bacteria_117.jpeg', 'C:\\\\Users\\\\SRIRAM\\\\Documents\\\\Image Classification\\\\train\\\\Pneumonia\\\\person25_bacteria_118.jpeg', 'C:\\\\Users\\\\SRIRAM\\\\Documents\\\\Image Classification\\\\train\\\\Pneumonia\\\\person25_bacteria_119.jpeg', 'C:\\\\Users\\\\SRIRAM\\\\Documents\\\\Image Classification\\\\train\\\\Pneumonia\\\\person25_bacteria_120.jpeg', 'C:\\\\Users\\\\SRIRAM\\\\Documents\\\\Image Classification\\\\train\\\\Pneumonia\\\\person25_bacteria_121.jpeg', 'C:\\\\Users\\\\SRIRAM\\\\Documents\\\\Image Classification\\\\train\\\\Pneumonia\\\\person26_bacteria_122.jpeg', 'C:\\\\Users\\\\SRIRAM\\\\Documents\\\\Image Classification\\\\train\\\\Pneumonia\\\\person26_bacteria_123.jpeg', 'C:\\\\Users\\\\SRIRAM\\\\Documents\\\\Image Classification\\\\train\\\\Pneumonia\\\\person26_bacteria_124.jpeg', 'C:\\\\Users\\\\SRIRAM\\\\Documents\\\\Image Classification\\\\train\\\\Pneumonia\\\\person26_bacteria_126.jpeg', 'C:\\\\Users\\\\SRIRAM\\\\Documents\\\\Image Classification\\\\train\\\\Pneumonia\\\\person26_bacteria_127.jpeg', 'C:\\\\Users\\\\SRIRAM\\\\Documents\\\\Image Classification\\\\train\\\\Pneumonia\\\\person26_bacteria_128.jpeg', 'C:\\\\Users\\\\SRIRAM\\\\Documents\\\\Image Classification\\\\train\\\\Pneumonia\\\\person26_bacteria_129.jpeg', 'C:\\\\Users\\\\SRIRAM\\\\Documents\\\\Image Classification\\\\train\\\\Pneumonia\\\\person26_bacteria_130.jpeg', 'C:\\\\Users\\\\SRIRAM\\\\Documents\\\\Image Classification\\\\train\\\\Pneumonia\\\\person26_bacteria_131.jpeg', 'C:\\\\Users\\\\SRIRAM\\\\Documents\\\\Image Classification\\\\train\\\\Pneumonia\\\\person26_bacteria_132.jpeg', 'C:\\\\Users\\\\SRIRAM\\\\Documents\\\\Image Classification\\\\train\\\\Pneumonia\\\\person26_bacteria_133.jpeg', 'C:\\\\Users\\\\SRIRAM\\\\Documents\\\\Image Classification\\\\train\\\\Pneumonia\\\\person27_bacteria_135.jpeg', 'C:\\\\Users\\\\SRIRAM\\\\Documents\\\\Image Classification\\\\train\\\\Pneumonia\\\\person27_bacteria_136.jpeg', 'C:\\\\Users\\\\SRIRAM\\\\Documents\\\\Image Classification\\\\train\\\\Pneumonia\\\\person27_bacteria_137.jpeg', 'C:\\\\Users\\\\SRIRAM\\\\Documents\\\\Image Classification\\\\train\\\\Pneumonia\\\\person27_bacteria_138.jpeg', 'C:\\\\Users\\\\SRIRAM\\\\Documents\\\\Image Classification\\\\train\\\\Pneumonia\\\\person28_bacteria_139.jpeg', 'C:\\\\Users\\\\SRIRAM\\\\Documents\\\\Image Classification\\\\train\\\\Pneumonia\\\\person28_bacteria_141.jpeg', 'C:\\\\Users\\\\SRIRAM\\\\Documents\\\\Image Classification\\\\train\\\\Pneumonia\\\\person28_bacteria_142.jpeg', 'C:\\\\Users\\\\SRIRAM\\\\Documents\\\\Image Classification\\\\train\\\\Pneumonia\\\\person28_bacteria_143.jpeg', 'C:\\\\Users\\\\SRIRAM\\\\Documents\\\\Image Classification\\\\train\\\\Pneumonia\\\\person29_bacteria_144.jpeg', 'C:\\\\Users\\\\SRIRAM\\\\Documents\\\\Image Classification\\\\train\\\\Pneumonia\\\\person2_bacteria_3.jpeg', 'C:\\\\Users\\\\SRIRAM\\\\Documents\\\\Image Classification\\\\train\\\\Pneumonia\\\\person2_bacteria_4.jpeg', 'C:\\\\Users\\\\SRIRAM\\\\Documents\\\\Image Classification\\\\train\\\\Pneumonia\\\\person30_bacteria_145.jpeg', 'C:\\\\Users\\\\SRIRAM\\\\Documents\\\\Image Classification\\\\train\\\\Pneumonia\\\\person30_bacteria_146.jpeg', 'C:\\\\Users\\\\SRIRAM\\\\Documents\\\\Image Classification\\\\train\\\\Pneumonia\\\\person30_bacteria_147.jpeg', 'C:\\\\Users\\\\SRIRAM\\\\Documents\\\\Image Classification\\\\train\\\\Pneumonia\\\\person3_bacteria_10.jpeg', 'C:\\\\Users\\\\SRIRAM\\\\Documents\\\\Image Classification\\\\train\\\\Pneumonia\\\\person3_bacteria_11.jpeg', 'C:\\\\Users\\\\SRIRAM\\\\Documents\\\\Image Classification\\\\train\\\\Pneumonia\\\\person3_bacteria_12.jpeg', 'C:\\\\Users\\\\SRIRAM\\\\Documents\\\\Image Classification\\\\train\\\\Pneumonia\\\\person3_bacteria_13.jpeg', 'C:\\\\Users\\\\SRIRAM\\\\Documents\\\\Image Classification\\\\train\\\\Pneumonia\\\\person4_bacteria_14.jpeg', 'C:\\\\Users\\\\SRIRAM\\\\Documents\\\\Image Classification\\\\train\\\\Pneumonia\\\\person5_bacteria_15.jpeg', 'C:\\\\Users\\\\SRIRAM\\\\Documents\\\\Image Classification\\\\train\\\\Pneumonia\\\\person5_bacteria_16.jpeg', 'C:\\\\Users\\\\SRIRAM\\\\Documents\\\\Image Classification\\\\train\\\\Pneumonia\\\\person5_bacteria_17.jpeg', 'C:\\\\Users\\\\SRIRAM\\\\Documents\\\\Image Classification\\\\train\\\\Pneumonia\\\\person5_bacteria_19.jpeg', 'C:\\\\Users\\\\SRIRAM\\\\Documents\\\\Image Classification\\\\train\\\\Pneumonia\\\\person6_bacteria_22.jpeg', 'C:\\\\Users\\\\SRIRAM\\\\Documents\\\\Image Classification\\\\train\\\\Pneumonia\\\\person7_bacteria_24.jpeg', 'C:\\\\Users\\\\SRIRAM\\\\Documents\\\\Image Classification\\\\train\\\\Pneumonia\\\\person7_bacteria_25.jpeg', 'C:\\\\Users\\\\SRIRAM\\\\Documents\\\\Image Classification\\\\train\\\\Pneumonia\\\\person7_bacteria_28.jpeg', 'C:\\\\Users\\\\SRIRAM\\\\Documents\\\\Image Classification\\\\train\\\\Pneumonia\\\\person7_bacteria_29.jpeg', 'C:\\\\Users\\\\SRIRAM\\\\Documents\\\\Image Classification\\\\train\\\\Pneumonia\\\\person8_bacteria_37.jpeg', 'C:\\\\Users\\\\SRIRAM\\\\Documents\\\\Image Classification\\\\train\\\\Pneumonia\\\\person9_bacteria_38.jpeg', 'C:\\\\Users\\\\SRIRAM\\\\Documents\\\\Image Classification\\\\train\\\\Pneumonia\\\\person9_bacteria_39.jpeg', 'C:\\\\Users\\\\SRIRAM\\\\Documents\\\\Image Classification\\\\train\\\\Pneumonia\\\\person9_bacteria_40.jpeg', 'C:\\\\Users\\\\SRIRAM\\\\Documents\\\\Image Classification\\\\train\\\\Pneumonia\\\\person9_bacteria_41.jpeg']}] Train image categories.\n"
     ]
    }
   ],
   "source": [
    "print(f\"Loaded {test_images} Test image categories.\")\n",
    "print(f\"Loaded {train_images} Train image categories.\")"
   ]
  },
  {
   "cell_type": "code",
   "execution_count": 22,
   "id": "dd253634-c77e-4e6a-90f8-857c75b5a596",
   "metadata": {
    "scrolled": true
   },
   "outputs": [
    {
     "name": "stdout",
     "output_type": "stream",
     "text": [
      "Requirement already satisfied: tensorflow in c:\\users\\sriram\\anaconda3\\lib\\site-packages (2.17.0)\n",
      "Requirement already satisfied: tensorflow-intel==2.17.0 in c:\\users\\sriram\\anaconda3\\lib\\site-packages (from tensorflow) (2.17.0)\n",
      "Requirement already satisfied: absl-py>=1.0.0 in c:\\users\\sriram\\anaconda3\\lib\\site-packages (from tensorflow-intel==2.17.0->tensorflow) (2.1.0)\n",
      "Requirement already satisfied: astunparse>=1.6.0 in c:\\users\\sriram\\anaconda3\\lib\\site-packages (from tensorflow-intel==2.17.0->tensorflow) (1.6.3)\n",
      "Requirement already satisfied: flatbuffers>=24.3.25 in c:\\users\\sriram\\anaconda3\\lib\\site-packages (from tensorflow-intel==2.17.0->tensorflow) (24.3.25)\n",
      "Requirement already satisfied: gast!=0.5.0,!=0.5.1,!=0.5.2,>=0.2.1 in c:\\users\\sriram\\anaconda3\\lib\\site-packages (from tensorflow-intel==2.17.0->tensorflow) (0.6.0)\n",
      "Requirement already satisfied: google-pasta>=0.1.1 in c:\\users\\sriram\\anaconda3\\lib\\site-packages (from tensorflow-intel==2.17.0->tensorflow) (0.2.0)\n",
      "Requirement already satisfied: h5py>=3.10.0 in c:\\users\\sriram\\anaconda3\\lib\\site-packages (from tensorflow-intel==2.17.0->tensorflow) (3.11.0)\n",
      "Requirement already satisfied: libclang>=13.0.0 in c:\\users\\sriram\\anaconda3\\lib\\site-packages (from tensorflow-intel==2.17.0->tensorflow) (18.1.1)\n",
      "Requirement already satisfied: ml-dtypes<0.5.0,>=0.3.1 in c:\\users\\sriram\\anaconda3\\lib\\site-packages (from tensorflow-intel==2.17.0->tensorflow) (0.3.1)\n",
      "Requirement already satisfied: opt-einsum>=2.3.2 in c:\\users\\sriram\\anaconda3\\lib\\site-packages (from tensorflow-intel==2.17.0->tensorflow) (3.3.0)\n",
      "Requirement already satisfied: packaging in c:\\users\\sriram\\anaconda3\\lib\\site-packages (from tensorflow-intel==2.17.0->tensorflow) (23.2)\n",
      "Requirement already satisfied: protobuf!=4.21.0,!=4.21.1,!=4.21.2,!=4.21.3,!=4.21.4,!=4.21.5,<5.0.0dev,>=3.20.3 in c:\\users\\sriram\\anaconda3\\lib\\site-packages (from tensorflow-intel==2.17.0->tensorflow) (3.20.3)\n",
      "Requirement already satisfied: requests<3,>=2.21.0 in c:\\users\\sriram\\anaconda3\\lib\\site-packages (from tensorflow-intel==2.17.0->tensorflow) (2.31.0)\n",
      "Requirement already satisfied: setuptools in c:\\users\\sriram\\anaconda3\\lib\\site-packages (from tensorflow-intel==2.17.0->tensorflow) (69.5.1)\n",
      "Requirement already satisfied: six>=1.12.0 in c:\\users\\sriram\\anaconda3\\lib\\site-packages (from tensorflow-intel==2.17.0->tensorflow) (1.16.0)\n",
      "Requirement already satisfied: termcolor>=1.1.0 in c:\\users\\sriram\\anaconda3\\lib\\site-packages (from tensorflow-intel==2.17.0->tensorflow) (2.4.0)\n",
      "Requirement already satisfied: typing-extensions>=3.6.6 in c:\\users\\sriram\\anaconda3\\lib\\site-packages (from tensorflow-intel==2.17.0->tensorflow) (4.11.0)\n",
      "Requirement already satisfied: wrapt>=1.11.0 in c:\\users\\sriram\\anaconda3\\lib\\site-packages (from tensorflow-intel==2.17.0->tensorflow) (1.14.1)\n",
      "Requirement already satisfied: grpcio<2.0,>=1.24.3 in c:\\users\\sriram\\anaconda3\\lib\\site-packages (from tensorflow-intel==2.17.0->tensorflow) (1.65.1)\n",
      "Requirement already satisfied: tensorboard<2.18,>=2.17 in c:\\users\\sriram\\anaconda3\\lib\\site-packages (from tensorflow-intel==2.17.0->tensorflow) (2.17.0)\n",
      "Requirement already satisfied: keras>=3.2.0 in c:\\users\\sriram\\anaconda3\\lib\\site-packages (from tensorflow-intel==2.17.0->tensorflow) (3.4.1)\n",
      "Requirement already satisfied: numpy<2.0.0,>=1.26.0 in c:\\users\\sriram\\anaconda3\\lib\\site-packages (from tensorflow-intel==2.17.0->tensorflow) (1.26.4)\n",
      "Requirement already satisfied: wheel<1.0,>=0.23.0 in c:\\users\\sriram\\anaconda3\\lib\\site-packages (from astunparse>=1.6.0->tensorflow-intel==2.17.0->tensorflow) (0.43.0)\n",
      "Requirement already satisfied: rich in c:\\users\\sriram\\anaconda3\\lib\\site-packages (from keras>=3.2.0->tensorflow-intel==2.17.0->tensorflow) (13.3.5)\n",
      "Requirement already satisfied: namex in c:\\users\\sriram\\anaconda3\\lib\\site-packages (from keras>=3.2.0->tensorflow-intel==2.17.0->tensorflow) (0.0.7)\n",
      "Requirement already satisfied: optree in c:\\users\\sriram\\anaconda3\\lib\\site-packages (from keras>=3.2.0->tensorflow-intel==2.17.0->tensorflow) (0.12.1)\n",
      "Requirement already satisfied: charset-normalizer<4,>=2 in c:\\users\\sriram\\anaconda3\\lib\\site-packages (from requests<3,>=2.21.0->tensorflow-intel==2.17.0->tensorflow) (2.0.4)\n",
      "Requirement already satisfied: idna<4,>=2.5 in c:\\users\\sriram\\anaconda3\\lib\\site-packages (from requests<3,>=2.21.0->tensorflow-intel==2.17.0->tensorflow) (3.7)\n",
      "Requirement already satisfied: urllib3<3,>=1.21.1 in c:\\users\\sriram\\anaconda3\\lib\\site-packages (from requests<3,>=2.21.0->tensorflow-intel==2.17.0->tensorflow) (1.26.19)\n",
      "Requirement already satisfied: certifi>=2017.4.17 in c:\\users\\sriram\\anaconda3\\lib\\site-packages (from requests<3,>=2.21.0->tensorflow-intel==2.17.0->tensorflow) (2024.7.4)\n",
      "Requirement already satisfied: markdown>=2.6.8 in c:\\users\\sriram\\anaconda3\\lib\\site-packages (from tensorboard<2.18,>=2.17->tensorflow-intel==2.17.0->tensorflow) (3.4.1)\n",
      "Requirement already satisfied: tensorboard-data-server<0.8.0,>=0.7.0 in c:\\users\\sriram\\anaconda3\\lib\\site-packages (from tensorboard<2.18,>=2.17->tensorflow-intel==2.17.0->tensorflow) (0.7.2)\n",
      "Requirement already satisfied: werkzeug>=1.0.1 in c:\\users\\sriram\\anaconda3\\lib\\site-packages (from tensorboard<2.18,>=2.17->tensorflow-intel==2.17.0->tensorflow) (3.0.3)\n",
      "Requirement already satisfied: MarkupSafe>=2.1.1 in c:\\users\\sriram\\anaconda3\\lib\\site-packages (from werkzeug>=1.0.1->tensorboard<2.18,>=2.17->tensorflow-intel==2.17.0->tensorflow) (2.1.3)\n",
      "Requirement already satisfied: markdown-it-py<3.0.0,>=2.2.0 in c:\\users\\sriram\\anaconda3\\lib\\site-packages (from rich->keras>=3.2.0->tensorflow-intel==2.17.0->tensorflow) (2.2.0)\n",
      "Requirement already satisfied: pygments<3.0.0,>=2.13.0 in c:\\users\\sriram\\anaconda3\\lib\\site-packages (from rich->keras>=3.2.0->tensorflow-intel==2.17.0->tensorflow) (2.15.1)\n",
      "Requirement already satisfied: mdurl~=0.1 in c:\\users\\sriram\\anaconda3\\lib\\site-packages (from markdown-it-py<3.0.0,>=2.2.0->rich->keras>=3.2.0->tensorflow-intel==2.17.0->tensorflow) (0.1.0)\n",
      "Requirement already satisfied: efficientnet in c:\\users\\sriram\\anaconda3\\lib\\site-packages (1.1.1)\n",
      "Requirement already satisfied: keras-applications<=1.0.8,>=1.0.7 in c:\\users\\sriram\\anaconda3\\lib\\site-packages (from efficientnet) (1.0.8)\n",
      "Requirement already satisfied: scikit-image in c:\\users\\sriram\\anaconda3\\lib\\site-packages (from efficientnet) (0.23.2)\n",
      "Requirement already satisfied: numpy>=1.9.1 in c:\\users\\sriram\\anaconda3\\lib\\site-packages (from keras-applications<=1.0.8,>=1.0.7->efficientnet) (1.26.4)\n",
      "Requirement already satisfied: h5py in c:\\users\\sriram\\anaconda3\\lib\\site-packages (from keras-applications<=1.0.8,>=1.0.7->efficientnet) (3.11.0)\n",
      "Requirement already satisfied: scipy>=1.9 in c:\\users\\sriram\\anaconda3\\lib\\site-packages (from scikit-image->efficientnet) (1.13.1)\n",
      "Requirement already satisfied: networkx>=2.8 in c:\\users\\sriram\\anaconda3\\lib\\site-packages (from scikit-image->efficientnet) (3.2.1)\n",
      "Requirement already satisfied: pillow>=9.1 in c:\\users\\sriram\\anaconda3\\lib\\site-packages (from scikit-image->efficientnet) (10.3.0)\n",
      "Requirement already satisfied: imageio>=2.33 in c:\\users\\sriram\\anaconda3\\lib\\site-packages (from scikit-image->efficientnet) (2.33.1)\n",
      "Requirement already satisfied: tifffile>=2022.8.12 in c:\\users\\sriram\\anaconda3\\lib\\site-packages (from scikit-image->efficientnet) (2023.4.12)\n",
      "Requirement already satisfied: packaging>=21 in c:\\users\\sriram\\anaconda3\\lib\\site-packages (from scikit-image->efficientnet) (23.2)\n",
      "Requirement already satisfied: lazy-loader>=0.4 in c:\\users\\sriram\\anaconda3\\lib\\site-packages (from scikit-image->efficientnet) (0.4)\n"
     ]
    }
   ],
   "source": [
    "!pip install tensorflow\n",
    "!pip install -U efficientnet"
   ]
  },
  {
   "cell_type": "code",
   "execution_count": 60,
   "id": "f056b2ef-bdb0-4f82-b0fe-9a3daa0163c3",
   "metadata": {
    "scrolled": true
   },
   "outputs": [
    {
     "name": "stdout",
     "output_type": "stream",
     "text": [
      "      category                                              image\n",
      "0        covid  C:\\Users\\SRIRAM\\Documents\\Image Classification...\n",
      "1        covid  C:\\Users\\SRIRAM\\Documents\\Image Classification...\n",
      "2        covid  C:\\Users\\SRIRAM\\Documents\\Image Classification...\n",
      "3        covid  C:\\Users\\SRIRAM\\Documents\\Image Classification...\n",
      "4        covid  C:\\Users\\SRIRAM\\Documents\\Image Classification...\n",
      "..         ...                                                ...\n",
      "184  pneumonia  C:\\Users\\SRIRAM\\Documents\\Image Classification...\n",
      "185  pneumonia  C:\\Users\\SRIRAM\\Documents\\Image Classification...\n",
      "186  pneumonia  C:\\Users\\SRIRAM\\Documents\\Image Classification...\n",
      "187  pneumonia  C:\\Users\\SRIRAM\\Documents\\Image Classification...\n",
      "188  pneumonia  C:\\Users\\SRIRAM\\Documents\\Image Classification...\n",
      "\n",
      "[189 rows x 2 columns]\n"
     ]
    }
   ],
   "source": [
    "import pandas as pd\n",
    "flattened_data = []\n",
    "for entry in test_images:\n",
    "    category = entry['category']\n",
    "    for img in entry['images']:\n",
    "        flattened_data.append({'category': category, 'image': img})\n",
    "\n",
    "# Convert to DataFrame\n",
    "test_dataset = pd.DataFrame(flattened_data)\n",
    "\n",
    "# Display the DataFrame\n",
    "print(test_dataset)"
   ]
  },
  {
   "cell_type": "code",
   "execution_count": 62,
   "id": "beaa8548-b4c9-4de3-ac14-37a22f2b8062",
   "metadata": {},
   "outputs": [],
   "source": [
    "test_dataset_f = test_dataset.sample(frac=1).reset_index(drop=True)\n"
   ]
  },
  {
   "cell_type": "code",
   "execution_count": 64,
   "id": "5b4c6248-259a-4b82-82cf-b67019bb7ab4",
   "metadata": {},
   "outputs": [
    {
     "name": "stdout",
     "output_type": "stream",
     "text": [
      "      category                                              image\n",
      "0        covid  C:\\Users\\SRIRAM\\Documents\\Image Classification...\n",
      "1        covid  C:\\Users\\SRIRAM\\Documents\\Image Classification...\n",
      "2        covid  C:\\Users\\SRIRAM\\Documents\\Image Classification...\n",
      "3        covid  C:\\Users\\SRIRAM\\Documents\\Image Classification...\n",
      "4        covid  C:\\Users\\SRIRAM\\Documents\\Image Classification...\n",
      "..         ...                                                ...\n",
      "373  pneumonia  C:\\Users\\SRIRAM\\Documents\\Image Classification...\n",
      "374  pneumonia  C:\\Users\\SRIRAM\\Documents\\Image Classification...\n",
      "375  pneumonia  C:\\Users\\SRIRAM\\Documents\\Image Classification...\n",
      "376  pneumonia  C:\\Users\\SRIRAM\\Documents\\Image Classification...\n",
      "377  pneumonia  C:\\Users\\SRIRAM\\Documents\\Image Classification...\n",
      "\n",
      "[378 rows x 2 columns]\n"
     ]
    }
   ],
   "source": [
    "import pandas as pd\n",
    "flattened_data = []\n",
    "for entry in train_images:\n",
    "    category = entry['category']\n",
    "    for img in entry['images']:\n",
    "        flattened_data.append({'category': category, 'image': img})\n",
    "\n",
    "# Convert to DataFrame\n",
    "train_dataset = pd.DataFrame(flattened_data)\n",
    "\n",
    "# Display the DataFrame\n",
    "print(train_dataset)"
   ]
  },
  {
   "cell_type": "code",
   "execution_count": 66,
   "id": "9543cc21-a078-4926-ab32-a37164c6df37",
   "metadata": {},
   "outputs": [],
   "source": [
    "train_dataset_f = train_dataset.sample(frac=1).reset_index(drop=True)"
   ]
  },
  {
   "cell_type": "code",
   "execution_count": 68,
   "id": "c6ecb731-37e2-4d6f-86ac-d166fd1b2288",
   "metadata": {},
   "outputs": [
    {
     "name": "stdout",
     "output_type": "stream",
     "text": [
      "Label to Integer Mapping:\n",
      "covid: 0\n",
      "normal_chestray: 1\n",
      "pneumonia: 2\n"
     ]
    }
   ],
   "source": [
    "from sklearn.preprocessing import LabelEncoder\n",
    "# Initialize the LabelEncoder\n",
    "label_encoder = LabelEncoder()\n",
    "\n",
    "# Fit and transform the 'category' column\n",
    "train_dataset_f['category_encoded'] = label_encoder.fit_transform(train_dataset_f['category'])\n",
    "\n",
    "# Print the DataFrame with encoded labels\n",
    "#print(train_dataset_f)\n",
    "\n",
    "# Retrieve and print the mapping of labels to integers\n",
    "classes_tra = label_encoder.classes_\n",
    "print(\"Label to Integer Mapping:\")\n",
    "for idx, label in enumerate(classes_tra):\n",
    "    print(f\"{label}: {idx}\")"
   ]
  },
  {
   "cell_type": "code",
   "execution_count": 70,
   "id": "ae819fc2-0bfa-4bd8-94d3-385ac88d4f14",
   "metadata": {},
   "outputs": [
    {
     "data": {
      "text/html": [
       "<div>\n",
       "<style scoped>\n",
       "    .dataframe tbody tr th:only-of-type {\n",
       "        vertical-align: middle;\n",
       "    }\n",
       "\n",
       "    .dataframe tbody tr th {\n",
       "        vertical-align: top;\n",
       "    }\n",
       "\n",
       "    .dataframe thead th {\n",
       "        text-align: right;\n",
       "    }\n",
       "</style>\n",
       "<table border=\"1\" class=\"dataframe\">\n",
       "  <thead>\n",
       "    <tr style=\"text-align: right;\">\n",
       "      <th></th>\n",
       "      <th>category</th>\n",
       "      <th>image</th>\n",
       "      <th>category_encoded</th>\n",
       "    </tr>\n",
       "  </thead>\n",
       "  <tbody>\n",
       "    <tr>\n",
       "      <th>0</th>\n",
       "      <td>pneumonia</td>\n",
       "      <td>C:\\Users\\SRIRAM\\Documents\\Image Classification...</td>\n",
       "      <td>2</td>\n",
       "    </tr>\n",
       "    <tr>\n",
       "      <th>1</th>\n",
       "      <td>pneumonia</td>\n",
       "      <td>C:\\Users\\SRIRAM\\Documents\\Image Classification...</td>\n",
       "      <td>2</td>\n",
       "    </tr>\n",
       "    <tr>\n",
       "      <th>2</th>\n",
       "      <td>pneumonia</td>\n",
       "      <td>C:\\Users\\SRIRAM\\Documents\\Image Classification...</td>\n",
       "      <td>2</td>\n",
       "    </tr>\n",
       "    <tr>\n",
       "      <th>3</th>\n",
       "      <td>normal_chestray</td>\n",
       "      <td>C:\\Users\\SRIRAM\\Documents\\Image Classification...</td>\n",
       "      <td>1</td>\n",
       "    </tr>\n",
       "    <tr>\n",
       "      <th>4</th>\n",
       "      <td>pneumonia</td>\n",
       "      <td>C:\\Users\\SRIRAM\\Documents\\Image Classification...</td>\n",
       "      <td>2</td>\n",
       "    </tr>\n",
       "    <tr>\n",
       "      <th>...</th>\n",
       "      <td>...</td>\n",
       "      <td>...</td>\n",
       "      <td>...</td>\n",
       "    </tr>\n",
       "    <tr>\n",
       "      <th>373</th>\n",
       "      <td>covid</td>\n",
       "      <td>C:\\Users\\SRIRAM\\Documents\\Image Classification...</td>\n",
       "      <td>0</td>\n",
       "    </tr>\n",
       "    <tr>\n",
       "      <th>374</th>\n",
       "      <td>normal_chestray</td>\n",
       "      <td>C:\\Users\\SRIRAM\\Documents\\Image Classification...</td>\n",
       "      <td>1</td>\n",
       "    </tr>\n",
       "    <tr>\n",
       "      <th>375</th>\n",
       "      <td>pneumonia</td>\n",
       "      <td>C:\\Users\\SRIRAM\\Documents\\Image Classification...</td>\n",
       "      <td>2</td>\n",
       "    </tr>\n",
       "    <tr>\n",
       "      <th>376</th>\n",
       "      <td>normal_chestray</td>\n",
       "      <td>C:\\Users\\SRIRAM\\Documents\\Image Classification...</td>\n",
       "      <td>1</td>\n",
       "    </tr>\n",
       "    <tr>\n",
       "      <th>377</th>\n",
       "      <td>pneumonia</td>\n",
       "      <td>C:\\Users\\SRIRAM\\Documents\\Image Classification...</td>\n",
       "      <td>2</td>\n",
       "    </tr>\n",
       "  </tbody>\n",
       "</table>\n",
       "<p>378 rows × 3 columns</p>\n",
       "</div>"
      ],
      "text/plain": [
       "            category                                              image  \\\n",
       "0          pneumonia  C:\\Users\\SRIRAM\\Documents\\Image Classification...   \n",
       "1          pneumonia  C:\\Users\\SRIRAM\\Documents\\Image Classification...   \n",
       "2          pneumonia  C:\\Users\\SRIRAM\\Documents\\Image Classification...   \n",
       "3    normal_chestray  C:\\Users\\SRIRAM\\Documents\\Image Classification...   \n",
       "4          pneumonia  C:\\Users\\SRIRAM\\Documents\\Image Classification...   \n",
       "..               ...                                                ...   \n",
       "373            covid  C:\\Users\\SRIRAM\\Documents\\Image Classification...   \n",
       "374  normal_chestray  C:\\Users\\SRIRAM\\Documents\\Image Classification...   \n",
       "375        pneumonia  C:\\Users\\SRIRAM\\Documents\\Image Classification...   \n",
       "376  normal_chestray  C:\\Users\\SRIRAM\\Documents\\Image Classification...   \n",
       "377        pneumonia  C:\\Users\\SRIRAM\\Documents\\Image Classification...   \n",
       "\n",
       "     category_encoded  \n",
       "0                   2  \n",
       "1                   2  \n",
       "2                   2  \n",
       "3                   1  \n",
       "4                   2  \n",
       "..                ...  \n",
       "373                 0  \n",
       "374                 1  \n",
       "375                 2  \n",
       "376                 1  \n",
       "377                 2  \n",
       "\n",
       "[378 rows x 3 columns]"
      ]
     },
     "execution_count": 70,
     "metadata": {},
     "output_type": "execute_result"
    }
   ],
   "source": [
    "train_dataset_f"
   ]
  },
  {
   "cell_type": "code",
   "execution_count": 72,
   "id": "847a0963-9f30-4d38-9572-69f7ca5ce822",
   "metadata": {},
   "outputs": [
    {
     "name": "stdout",
     "output_type": "stream",
     "text": [
      "Label to Integer Mapping:\n",
      "covid: 0\n",
      "normal_chestray: 1\n",
      "pneumonia: 2\n"
     ]
    }
   ],
   "source": [
    "# Initialize the LabelEncoder\n",
    "label_encoder = LabelEncoder()\n",
    "\n",
    "# Fit and transform the 'category' column\n",
    "test_dataset_f['category_encoded'] = label_encoder.fit_transform(test_dataset_f['category'])\n",
    "\n",
    "# Print the DataFrame with encoded labels\n",
    "#print(df)\n",
    "\n",
    "# Retrieve and print the mapping of labels to integers\n",
    "classes_tes = label_encoder.classes_\n",
    "print(\"Label to Integer Mapping:\")\n",
    "for idx, label in enumerate(classes_tes):\n",
    "    print(f\"{label}: {idx}\")"
   ]
  },
  {
   "cell_type": "code",
   "execution_count": 74,
   "id": "57a86407-d8d9-4d5a-8ce1-9003b790c0f9",
   "metadata": {},
   "outputs": [
    {
     "data": {
      "text/html": [
       "<div>\n",
       "<style scoped>\n",
       "    .dataframe tbody tr th:only-of-type {\n",
       "        vertical-align: middle;\n",
       "    }\n",
       "\n",
       "    .dataframe tbody tr th {\n",
       "        vertical-align: top;\n",
       "    }\n",
       "\n",
       "    .dataframe thead th {\n",
       "        text-align: right;\n",
       "    }\n",
       "</style>\n",
       "<table border=\"1\" class=\"dataframe\">\n",
       "  <thead>\n",
       "    <tr style=\"text-align: right;\">\n",
       "      <th></th>\n",
       "      <th>category</th>\n",
       "      <th>image</th>\n",
       "      <th>category_encoded</th>\n",
       "    </tr>\n",
       "  </thead>\n",
       "  <tbody>\n",
       "    <tr>\n",
       "      <th>0</th>\n",
       "      <td>pneumonia</td>\n",
       "      <td>C:\\Users\\SRIRAM\\Documents\\Image Classification...</td>\n",
       "      <td>2</td>\n",
       "    </tr>\n",
       "    <tr>\n",
       "      <th>1</th>\n",
       "      <td>covid</td>\n",
       "      <td>C:\\Users\\SRIRAM\\Documents\\Image Classification...</td>\n",
       "      <td>0</td>\n",
       "    </tr>\n",
       "    <tr>\n",
       "      <th>2</th>\n",
       "      <td>normal_chestray</td>\n",
       "      <td>C:\\Users\\SRIRAM\\Documents\\Image Classification...</td>\n",
       "      <td>1</td>\n",
       "    </tr>\n",
       "    <tr>\n",
       "      <th>3</th>\n",
       "      <td>pneumonia</td>\n",
       "      <td>C:\\Users\\SRIRAM\\Documents\\Image Classification...</td>\n",
       "      <td>2</td>\n",
       "    </tr>\n",
       "    <tr>\n",
       "      <th>4</th>\n",
       "      <td>pneumonia</td>\n",
       "      <td>C:\\Users\\SRIRAM\\Documents\\Image Classification...</td>\n",
       "      <td>2</td>\n",
       "    </tr>\n",
       "    <tr>\n",
       "      <th>...</th>\n",
       "      <td>...</td>\n",
       "      <td>...</td>\n",
       "      <td>...</td>\n",
       "    </tr>\n",
       "    <tr>\n",
       "      <th>184</th>\n",
       "      <td>pneumonia</td>\n",
       "      <td>C:\\Users\\SRIRAM\\Documents\\Image Classification...</td>\n",
       "      <td>2</td>\n",
       "    </tr>\n",
       "    <tr>\n",
       "      <th>185</th>\n",
       "      <td>pneumonia</td>\n",
       "      <td>C:\\Users\\SRIRAM\\Documents\\Image Classification...</td>\n",
       "      <td>2</td>\n",
       "    </tr>\n",
       "    <tr>\n",
       "      <th>186</th>\n",
       "      <td>covid</td>\n",
       "      <td>C:\\Users\\SRIRAM\\Documents\\Image Classification...</td>\n",
       "      <td>0</td>\n",
       "    </tr>\n",
       "    <tr>\n",
       "      <th>187</th>\n",
       "      <td>pneumonia</td>\n",
       "      <td>C:\\Users\\SRIRAM\\Documents\\Image Classification...</td>\n",
       "      <td>2</td>\n",
       "    </tr>\n",
       "    <tr>\n",
       "      <th>188</th>\n",
       "      <td>pneumonia</td>\n",
       "      <td>C:\\Users\\SRIRAM\\Documents\\Image Classification...</td>\n",
       "      <td>2</td>\n",
       "    </tr>\n",
       "  </tbody>\n",
       "</table>\n",
       "<p>189 rows × 3 columns</p>\n",
       "</div>"
      ],
      "text/plain": [
       "            category                                              image  \\\n",
       "0          pneumonia  C:\\Users\\SRIRAM\\Documents\\Image Classification...   \n",
       "1              covid  C:\\Users\\SRIRAM\\Documents\\Image Classification...   \n",
       "2    normal_chestray  C:\\Users\\SRIRAM\\Documents\\Image Classification...   \n",
       "3          pneumonia  C:\\Users\\SRIRAM\\Documents\\Image Classification...   \n",
       "4          pneumonia  C:\\Users\\SRIRAM\\Documents\\Image Classification...   \n",
       "..               ...                                                ...   \n",
       "184        pneumonia  C:\\Users\\SRIRAM\\Documents\\Image Classification...   \n",
       "185        pneumonia  C:\\Users\\SRIRAM\\Documents\\Image Classification...   \n",
       "186            covid  C:\\Users\\SRIRAM\\Documents\\Image Classification...   \n",
       "187        pneumonia  C:\\Users\\SRIRAM\\Documents\\Image Classification...   \n",
       "188        pneumonia  C:\\Users\\SRIRAM\\Documents\\Image Classification...   \n",
       "\n",
       "     category_encoded  \n",
       "0                   2  \n",
       "1                   0  \n",
       "2                   1  \n",
       "3                   2  \n",
       "4                   2  \n",
       "..                ...  \n",
       "184                 2  \n",
       "185                 2  \n",
       "186                 0  \n",
       "187                 2  \n",
       "188                 2  \n",
       "\n",
       "[189 rows x 3 columns]"
      ]
     },
     "execution_count": 74,
     "metadata": {},
     "output_type": "execute_result"
    }
   ],
   "source": [
    "test_dataset_f"
   ]
  },
  {
   "cell_type": "code",
   "execution_count": 80,
   "id": "262e4f09-f7ab-4539-b8da-9270dfacba16",
   "metadata": {},
   "outputs": [
    {
     "name": "stdout",
     "output_type": "stream",
     "text": [
      "Found 378 validated image filenames belonging to 3 classes.\n",
      "Found 189 validated image filenames belonging to 3 classes.\n"
     ]
    },
    {
     "name": "stderr",
     "output_type": "stream",
     "text": [
      "C:\\Users\\SRIRAM\\anaconda3\\Lib\\site-packages\\keras\\src\\layers\\convolutional\\base_conv.py:107: UserWarning: Do not pass an `input_shape`/`input_dim` argument to a layer. When using Sequential models, prefer using an `Input(shape)` object as the first layer in the model instead.\n",
      "  super().__init__(activity_regularizer=activity_regularizer, **kwargs)\n"
     ]
    },
    {
     "name": "stdout",
     "output_type": "stream",
     "text": [
      "Epoch 1/10\n"
     ]
    },
    {
     "name": "stderr",
     "output_type": "stream",
     "text": [
      "C:\\Users\\SRIRAM\\anaconda3\\Lib\\site-packages\\keras\\src\\trainers\\data_adapters\\py_dataset_adapter.py:121: UserWarning: Your `PyDataset` class should call `super().__init__(**kwargs)` in its constructor. `**kwargs` can include `workers`, `use_multiprocessing`, `max_queue_size`. Do not pass these arguments to `fit()`, as they will be ignored.\n",
      "  self._warn_if_super_not_called()\n"
     ]
    },
    {
     "name": "stdout",
     "output_type": "stream",
     "text": [
      "\u001b[1m12/12\u001b[0m \u001b[32m━━━━━━━━━━━━━━━━━━━━\u001b[0m\u001b[37m\u001b[0m \u001b[1m50s\u001b[0m 3s/step - accuracy: 0.3158 - loss: 1.2204 - val_accuracy: 0.2857 - val_loss: 0.6017\n",
      "Epoch 2/10\n",
      "\u001b[1m12/12\u001b[0m \u001b[32m━━━━━━━━━━━━━━━━━━━━\u001b[0m\u001b[37m\u001b[0m \u001b[1m39s\u001b[0m 2s/step - accuracy: 0.5890 - loss: 0.5441 - val_accuracy: 0.4180 - val_loss: 0.7031\n",
      "Epoch 3/10\n",
      "\u001b[1m12/12\u001b[0m \u001b[32m━━━━━━━━━━━━━━━━━━━━\u001b[0m\u001b[37m\u001b[0m \u001b[1m41s\u001b[0m 2s/step - accuracy: 0.7783 - loss: 0.3766 - val_accuracy: 0.3968 - val_loss: 1.2036\n",
      "Epoch 4/10\n",
      "\u001b[1m12/12\u001b[0m \u001b[32m━━━━━━━━━━━━━━━━━━━━\u001b[0m\u001b[37m\u001b[0m \u001b[1m39s\u001b[0m 2s/step - accuracy: 0.7288 - loss: 0.4041 - val_accuracy: 0.4074 - val_loss: 0.9209\n",
      "Epoch 5/10\n",
      "\u001b[1m12/12\u001b[0m \u001b[32m━━━━━━━━━━━━━━━━━━━━\u001b[0m\u001b[37m\u001b[0m \u001b[1m41s\u001b[0m 2s/step - accuracy: 0.8326 - loss: 0.3062 - val_accuracy: 0.3704 - val_loss: 1.3143\n",
      "Epoch 6/10\n",
      "\u001b[1m12/12\u001b[0m \u001b[32m━━━━━━━━━━━━━━━━━━━━\u001b[0m\u001b[37m\u001b[0m \u001b[1m40s\u001b[0m 2s/step - accuracy: 0.8650 - loss: 0.2402 - val_accuracy: 0.5503 - val_loss: 0.6968\n",
      "Epoch 7/10\n",
      "\u001b[1m12/12\u001b[0m \u001b[32m━━━━━━━━━━━━━━━━━━━━\u001b[0m\u001b[37m\u001b[0m \u001b[1m41s\u001b[0m 2s/step - accuracy: 0.8697 - loss: 0.2311 - val_accuracy: 0.4550 - val_loss: 0.9919\n",
      "Epoch 8/10\n",
      "\u001b[1m12/12\u001b[0m \u001b[32m━━━━━━━━━━━━━━━━━━━━\u001b[0m\u001b[37m\u001b[0m \u001b[1m39s\u001b[0m 2s/step - accuracy: 0.8797 - loss: 0.2156 - val_accuracy: 0.3968 - val_loss: 1.7659\n",
      "Epoch 9/10\n",
      "\u001b[1m12/12\u001b[0m \u001b[32m━━━━━━━━━━━━━━━━━━━━\u001b[0m\u001b[37m\u001b[0m \u001b[1m41s\u001b[0m 2s/step - accuracy: 0.8894 - loss: 0.1851 - val_accuracy: 0.4021 - val_loss: 1.7183\n",
      "Epoch 10/10\n",
      "\u001b[1m12/12\u001b[0m \u001b[32m━━━━━━━━━━━━━━━━━━━━\u001b[0m\u001b[37m\u001b[0m \u001b[1m39s\u001b[0m 2s/step - accuracy: 0.9005 - loss: 0.1703 - val_accuracy: 0.3862 - val_loss: 1.7062\n",
      "\u001b[1m6/6\u001b[0m \u001b[32m━━━━━━━━━━━━━━━━━━━━\u001b[0m\u001b[37m\u001b[0m \u001b[1m9s\u001b[0m 1s/step - accuracy: 0.4315 - loss: 1.5615\n",
      "Validation accuracy: 0.38624337315559387\n"
     ]
    }
   ],
   "source": [
    "import pandas as pd\n",
    "from tensorflow.keras.preprocessing.image import ImageDataGenerator\n",
    "from tensorflow.keras.models import Sequential\n",
    "from tensorflow.keras.layers import Conv2D, MaxPooling2D, Flatten, Dense, Dropout\n",
    "\n",
    "\n",
    "# Label Encoding\n",
    "\n",
    "# Create ImageDataGenerators\n",
    "train_datagen = ImageDataGenerator(\n",
    "    rescale=1./255, \n",
    "    rotation_range=20, \n",
    "    zoom_range=0.2, \n",
    "    horizontal_flip=True\n",
    ")\n",
    "\n",
    "val_datagen = ImageDataGenerator(rescale=1./255)\n",
    "\n",
    "# Create data generators using flow_from_dataframe\n",
    "train_generator = train_datagen.flow_from_dataframe(\n",
    "    dataframe=train_dataset_f,\n",
    "    x_col='image',\n",
    "    y_col='category',\n",
    "    target_size=(150, 150),\n",
    "    batch_size=32,\n",
    "    class_mode='categorical'  # Change to 'categorical' if you have more than 2 classes\n",
    ")\n",
    "\n",
    "val_generator = val_datagen.flow_from_dataframe(\n",
    "    dataframe=test_dataset_f,\n",
    "    x_col='image',\n",
    "    y_col='category',\n",
    "    target_size=(150, 150),\n",
    "    batch_size=32,\n",
    "    class_mode='categorical'\n",
    ")\n",
    "\n",
    "# Model selection and architecture\n",
    "model = Sequential([\n",
    "    Conv2D(32, (3, 3), activation='relu', input_shape=(150, 150, 3)),\n",
    "    MaxPooling2D((2, 2)),\n",
    "    Conv2D(64, (3, 3), activation='relu'),\n",
    "    MaxPooling2D((2, 2)),\n",
    "    Conv2D(128, (3, 3), activation='relu'),\n",
    "    MaxPooling2D((2, 2)),\n",
    "    Flatten(),\n",
    "    Dense(512, activation='relu'),\n",
    "    Dropout(0.5),\n",
    "    Dense(3, activation='sigmoid')  # Change to match the number of classes\n",
    "])\n",
    "\n",
    "# Compile and train the model\n",
    "model.compile(optimizer='adam', loss='binary_crossentropy', metrics=['accuracy'])\n",
    "\n",
    "history = model.fit(train_generator, epochs=10, validation_data=val_generator)\n",
    "\n",
    "# Evaluate the model\n",
    "test_loss, test_acc = model.evaluate(val_generator)\n",
    "print('Validation accuracy:', test_acc)\n",
    "\n",
    "# Save the model\n",
    "#model.save('my_model.h5')"
   ]
  },
  {
   "cell_type": "code",
   "execution_count": 98,
   "id": "8fe5fece-675a-44a9-a3bb-8e9c266531ac",
   "metadata": {},
   "outputs": [
    {
     "name": "stdout",
     "output_type": "stream",
     "text": [
      "Shape of the preprocessed image: (1, 150, 150, 3)\n",
      "\u001b[1m1/1\u001b[0m \u001b[32m━━━━━━━━━━━━━━━━━━━━\u001b[0m\u001b[37m\u001b[0m \u001b[1m0s\u001b[0m 63ms/step\n",
      "Prediction_Classes for different types\n",
      "covid: 0\n",
      "normal_chestray: 1\n",
      "pneumonia: 2\n",
      "Predicted array for : 0\n",
      "The predicted class is: Covid\n"
     ]
    }
   ],
   "source": [
    "import numpy as np\n",
    "# Example usage\n",
    "image_path_axby = 'C:\\\\Users\\\\SRIRAM\\\\Documents\\\\Image Classification\\\\covid.jpg'\n",
    "\n",
    "# Load the image using OpenCV\n",
    "image_pred = cv2.imread(image_path_axby)\n",
    "\n",
    "if image_pred is None:\n",
    "    print(f\"Error: Unable to load image at {image_path}\")\n",
    "else:\n",
    "    # Resize the image to match the input shape of the model (150x150)\n",
    "    image_pred = cv2.resize(image_pred, (150, 150))\n",
    "\n",
    "    # Convert the image to a numpy array\n",
    "    image_pred = np.array(image_pred)\n",
    "\n",
    "    # Rescale the image (if the model was trained with rescaling)\n",
    "    image_pred = image_pred / 255.0\n",
    "\n",
    "    # Add an extra dimension to match the input shape (1, 150, 150, 3)\n",
    "    image_pred = np.expand_dims(image_pred, axis=0)\n",
    "\n",
    "    # Print the shape of the preprocessed image\n",
    "    print(\"Shape of the preprocessed image:\", image_pred.shape)\n",
    "\n",
    "    # Predict using the model\n",
    "    prediction = model.predict(image_pred)\n",
    "    \n",
    "    # Example prediction output\n",
    "    prediction = np.array(prediction)\n",
    "\n",
    "    print(f\"Prediction_Classes for different types\\ncovid: 0\\nnormal_chestray: 1\\npneumonia: 2\")\n",
    "    \n",
    "    # Get the predicted class\n",
    "    predicted_ = np.argmax(prediction)\n",
    "\n",
    "\n",
    "    print(f\"Predicted array for : {predicted_}\")\n",
    "\n",
    "    # Decode the prediction\n",
    "    if predicted_ == 0:\n",
    "        predicted_class= \"Covid\"\n",
    "    elif predicted_ == 1:\n",
    "        predicted_class= \"Normal_chestray\"\n",
    "    else:\n",
    "        predicted_class= \"Pneumonia\"\n",
    "\n",
    "    # Print the predicted class\n",
    "    print(f'The predicted class is: {predicted_class}')\n",
    "    #print(prediction)"
   ]
  },
  {
   "cell_type": "code",
   "execution_count": 100,
   "id": "26c0bc32-1ba8-4949-ad72-70a335bcc0a8",
   "metadata": {},
   "outputs": [],
   "source": [
    "model.save('FINAL_MODEL.keras')\n"
   ]
  },
  {
   "cell_type": "code",
   "execution_count": 92,
   "id": "93e77d2e-2d4d-469d-9dcb-dc92323e2024",
   "metadata": {},
   "outputs": [
    {
     "name": "stdout",
     "output_type": "stream",
     "text": [
      "Shape of the preprocessed image: (1, 150, 150, 3)\n",
      "\u001b[1m1/1\u001b[0m \u001b[32m━━━━━━━━━━━━━━━━━━━━\u001b[0m\u001b[37m\u001b[0m \u001b[1m0s\u001b[0m 54ms/step\n",
      "Prediction_Classes for different types\n",
      "covid: 0\n",
      "normal_chestray: 1\n",
      "pneumonia: 2\n",
      "Predicted array for : 1\n",
      "The predicted class is: Normal_chestray\n"
     ]
    }
   ],
   "source": [
    "import numpy as np\n",
    "# Example usage\n",
    "image_path_axby_o = 'C:\\\\Users\\\\SRIRAM\\\\Documents\\\\Image Classification\\\\0103.jpeg'\n",
    "\n",
    "\n",
    "# Load the image using OpenCV\n",
    "image_pred = cv2.imread(image_path_axby_o)\n",
    "\n",
    "if image_pred is None:\n",
    "    print(f\"Error: Unable to load image at {image_path}\")\n",
    "else:\n",
    "    # Resize the image to match the input shape of the model (150x150)\n",
    "    image_pred = cv2.resize(image_pred, (150, 150))\n",
    "\n",
    "    # Convert the image to a numpy array\n",
    "    image_pred = np.array(image_pred)\n",
    "\n",
    "    # Rescale the image (if the model was trained with rescaling)\n",
    "    image_pred = image_pred / 255.0\n",
    "\n",
    "    # Add an extra dimension to match the input shape (1, 150, 150, 3)\n",
    "    image_pred = np.expand_dims(image_pred, axis=0)\n",
    "\n",
    "    # Print the shape of the preprocessed image\n",
    "    print(\"Shape of the preprocessed image:\", image_pred.shape)\n",
    "\n",
    "    # Predict using the model\n",
    "    prediction = model.predict(image_pred)\n",
    "    \n",
    "    # Example prediction output\n",
    "    prediction = np.array(prediction)\n",
    "\n",
    "    print(f\"Prediction_Classes for different types\\ncovid: 0\\nnormal_chestray: 1\\npneumonia: 2\")\n",
    "    \n",
    "    # Get the predicted class\n",
    "    predicted_ = np.argmax(prediction)\n",
    "\n",
    "\n",
    "    print(f\"Predicted array for : {predicted_}\")\n",
    "\n",
    "    # Decode the prediction\n",
    "    if predicted_ == 0:\n",
    "        predicted_class= \"Covid\"\n",
    "    elif predicted_ == 1:\n",
    "        predicted_class= \"Normal_chestray\"\n",
    "    else:\n",
    "        predicted_class= \"Pneumonia\"\n",
    "\n",
    "    # Print the predicted class\n",
    "    print(f'The predicted class is: {predicted_class}')\n",
    "    #print(prediction)"
   ]
  },
  {
   "cell_type": "code",
   "execution_count": 94,
   "id": "7da46192-e124-459c-800e-e84d4cca07b1",
   "metadata": {},
   "outputs": [
    {
     "name": "stdout",
     "output_type": "stream",
     "text": [
      "Shape of the preprocessed image: (1, 150, 150, 3)\n",
      "\u001b[1m1/1\u001b[0m \u001b[32m━━━━━━━━━━━━━━━━━━━━\u001b[0m\u001b[37m\u001b[0m \u001b[1m0s\u001b[0m 65ms/step\n",
      "Prediction_Classes for different types\n",
      "covid: 0\n",
      "normal_chestray: 1\n",
      "pneumonia: 2\n",
      "Predicted array for : 0\n",
      "The predicted class is: Covid\n"
     ]
    }
   ],
   "source": [
    "# Example usage\n",
    "image_path_axby_o = 'C:\\\\Users\\\\SRIRAM\\\\Documents\\\\Image Classification\\\\covid_from_website.png'\n",
    "\n",
    "\n",
    "# Load the image using OpenCV\n",
    "image_pred = cv2.imread(image_path_axby_o)\n",
    "\n",
    "if image_pred is None:\n",
    "    print(f\"Error: Unable to load image at {image_path}\")\n",
    "else:\n",
    "    # Resize the image to match the input shape of the model (150x150)\n",
    "    image_pred = cv2.resize(image_pred, (150, 150))\n",
    "\n",
    "    # Convert the image to a numpy array\n",
    "    image_pred = np.array(image_pred)\n",
    "\n",
    "    # Rescale the image (if the model was trained with rescaling)\n",
    "    image_pred = image_pred / 255.0\n",
    "\n",
    "    # Add an extra dimension to match the input shape (1, 150, 150, 3)\n",
    "    image_pred = np.expand_dims(image_pred, axis=0)\n",
    "\n",
    "    # Print the shape of the preprocessed image\n",
    "    print(\"Shape of the preprocessed image:\", image_pred.shape)\n",
    "\n",
    "    # Predict using the model\n",
    "    prediction = model.predict(image_pred)\n",
    "    \n",
    "    # Example prediction output\n",
    "    prediction = np.array(prediction)\n",
    "\n",
    "    print(f\"Prediction_Classes for different types\\ncovid: 0\\nnormal_chestray: 1\\npneumonia: 2\")\n",
    "    \n",
    "    # Get the predicted class\n",
    "    predicted_ = np.argmax(prediction)\n",
    "\n",
    "\n",
    "    print(f\"Predicted array for : {predicted_}\")\n",
    "\n",
    "    # Decode the prediction\n",
    "    if predicted_ == 0:\n",
    "        predicted_class= \"Covid\"\n",
    "    elif predicted_ == 1:\n",
    "        predicted_class= \"Normal_chestray\"\n",
    "    else:\n",
    "        predicted_class= \"Pneumonia\"\n",
    "\n",
    "    # Print the predicted class\n",
    "    print(f'The predicted class is: {predicted_class}')\n",
    "    #print(prediction)"
   ]
  },
  {
   "cell_type": "code",
   "execution_count": null,
   "id": "c3f8c986-d186-48de-8f99-9b2b3b73d035",
   "metadata": {},
   "outputs": [],
   "source": []
  },
  {
   "cell_type": "code",
   "execution_count": null,
   "id": "62f10b4c-eec4-4cde-a973-ae95582987ab",
   "metadata": {},
   "outputs": [],
   "source": []
  },
  {
   "cell_type": "code",
   "execution_count": null,
   "id": "01d80481-0b8b-4827-983e-1692e3483416",
   "metadata": {},
   "outputs": [],
   "source": []
  }
 ],
 "metadata": {
  "kernelspec": {
   "display_name": "Python 3 (ipykernel)",
   "language": "python",
   "name": "python3"
  },
  "language_info": {
   "codemirror_mode": {
    "name": "ipython",
    "version": 3
   },
   "file_extension": ".py",
   "mimetype": "text/x-python",
   "name": "python",
   "nbconvert_exporter": "python",
   "pygments_lexer": "ipython3",
   "version": "3.12.4"
  }
 },
 "nbformat": 4,
 "nbformat_minor": 5
}
