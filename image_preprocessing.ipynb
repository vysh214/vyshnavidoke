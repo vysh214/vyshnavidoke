{
 "cells": [
  {
   "cell_type": "code",
   "execution_count": 116,
   "id": "3dd2d5fa-9733-49b4-a6e0-00b655932872",
   "metadata": {
    "scrolled": true
   },
   "outputs": [
    {
     "name": "stdout",
     "output_type": "stream",
     "text": [
      "Requirement already satisfied: inference-sdk in c:\\users\\sriram\\anaconda3\\lib\\site-packages (0.9.17)\n",
      "Requirement already satisfied: requests>=2.0.0 in c:\\users\\sriram\\anaconda3\\lib\\site-packages (from inference-sdk) (2.31.0)\n",
      "Requirement already satisfied: dataclasses-json>=0.6.0 in c:\\users\\sriram\\anaconda3\\lib\\site-packages (from inference-sdk) (0.6.7)\n",
      "Requirement already satisfied: opencv-python>=4.8.0.0 in c:\\users\\sriram\\anaconda3\\lib\\site-packages (from inference-sdk) (4.10.0.84)\n",
      "Requirement already satisfied: pillow>=9.0.0 in c:\\users\\sriram\\anaconda3\\lib\\site-packages (from inference-sdk) (10.3.0)\n",
      "Requirement already satisfied: supervision<1.0.0 in c:\\users\\sriram\\anaconda3\\lib\\site-packages (from inference-sdk) (0.22.0)\n",
      "Requirement already satisfied: numpy>=1.20.0 in c:\\users\\sriram\\anaconda3\\lib\\site-packages (from inference-sdk) (1.26.4)\n",
      "Requirement already satisfied: aiohttp>=3.9.0 in c:\\users\\sriram\\anaconda3\\lib\\site-packages (from inference-sdk) (3.9.5)\n",
      "Requirement already satisfied: backoff>=2.2.0 in c:\\users\\sriram\\anaconda3\\lib\\site-packages (from inference-sdk) (2.2.1)\n",
      "Requirement already satisfied: aioresponses>=0.7.6 in c:\\users\\sriram\\anaconda3\\lib\\site-packages (from inference-sdk) (0.7.6)\n",
      "Requirement already satisfied: py-cpuinfo>=9.0.0 in c:\\users\\sriram\\anaconda3\\lib\\site-packages (from inference-sdk) (9.0.0)\n",
      "Requirement already satisfied: aiosignal>=1.1.2 in c:\\users\\sriram\\anaconda3\\lib\\site-packages (from aiohttp>=3.9.0->inference-sdk) (1.2.0)\n",
      "Requirement already satisfied: attrs>=17.3.0 in c:\\users\\sriram\\anaconda3\\lib\\site-packages (from aiohttp>=3.9.0->inference-sdk) (23.1.0)\n",
      "Requirement already satisfied: frozenlist>=1.1.1 in c:\\users\\sriram\\anaconda3\\lib\\site-packages (from aiohttp>=3.9.0->inference-sdk) (1.4.0)\n",
      "Requirement already satisfied: multidict<7.0,>=4.5 in c:\\users\\sriram\\anaconda3\\lib\\site-packages (from aiohttp>=3.9.0->inference-sdk) (6.0.4)\n",
      "Requirement already satisfied: yarl<2.0,>=1.0 in c:\\users\\sriram\\anaconda3\\lib\\site-packages (from aiohttp>=3.9.0->inference-sdk) (1.9.3)\n",
      "Requirement already satisfied: marshmallow<4.0.0,>=3.18.0 in c:\\users\\sriram\\anaconda3\\lib\\site-packages (from dataclasses-json>=0.6.0->inference-sdk) (3.21.3)\n",
      "Requirement already satisfied: typing-inspect<1,>=0.4.0 in c:\\users\\sriram\\anaconda3\\lib\\site-packages (from dataclasses-json>=0.6.0->inference-sdk) (0.9.0)\n",
      "Requirement already satisfied: charset-normalizer<4,>=2 in c:\\users\\sriram\\anaconda3\\lib\\site-packages (from requests>=2.0.0->inference-sdk) (2.0.4)\n",
      "Requirement already satisfied: idna<4,>=2.5 in c:\\users\\sriram\\anaconda3\\lib\\site-packages (from requests>=2.0.0->inference-sdk) (3.7)\n",
      "Requirement already satisfied: urllib3<3,>=1.21.1 in c:\\users\\sriram\\anaconda3\\lib\\site-packages (from requests>=2.0.0->inference-sdk) (1.26.19)\n",
      "Requirement already satisfied: certifi>=2017.4.17 in c:\\users\\sriram\\anaconda3\\lib\\site-packages (from requests>=2.0.0->inference-sdk) (2024.7.4)\n",
      "Requirement already satisfied: defusedxml<0.8.0,>=0.7.1 in c:\\users\\sriram\\anaconda3\\lib\\site-packages (from supervision<1.0.0->inference-sdk) (0.7.1)\n",
      "Requirement already satisfied: matplotlib>=3.6.0 in c:\\users\\sriram\\anaconda3\\lib\\site-packages (from supervision<1.0.0->inference-sdk) (3.8.4)\n",
      "Requirement already satisfied: opencv-python-headless>=4.5.5.64 in c:\\users\\sriram\\anaconda3\\lib\\site-packages (from supervision<1.0.0->inference-sdk) (4.10.0.84)\n",
      "Requirement already satisfied: pyyaml>=5.3 in c:\\users\\sriram\\anaconda3\\lib\\site-packages (from supervision<1.0.0->inference-sdk) (6.0.1)\n",
      "Requirement already satisfied: scipy<2.0.0,>=1.10.0 in c:\\users\\sriram\\anaconda3\\lib\\site-packages (from supervision<1.0.0->inference-sdk) (1.13.1)\n",
      "Requirement already satisfied: packaging>=17.0 in c:\\users\\sriram\\anaconda3\\lib\\site-packages (from marshmallow<4.0.0,>=3.18.0->dataclasses-json>=0.6.0->inference-sdk) (23.2)\n",
      "Requirement already satisfied: contourpy>=1.0.1 in c:\\users\\sriram\\anaconda3\\lib\\site-packages (from matplotlib>=3.6.0->supervision<1.0.0->inference-sdk) (1.2.0)\n",
      "Requirement already satisfied: cycler>=0.10 in c:\\users\\sriram\\anaconda3\\lib\\site-packages (from matplotlib>=3.6.0->supervision<1.0.0->inference-sdk) (0.11.0)\n",
      "Requirement already satisfied: fonttools>=4.22.0 in c:\\users\\sriram\\anaconda3\\lib\\site-packages (from matplotlib>=3.6.0->supervision<1.0.0->inference-sdk) (4.51.0)\n",
      "Requirement already satisfied: kiwisolver>=1.3.1 in c:\\users\\sriram\\anaconda3\\lib\\site-packages (from matplotlib>=3.6.0->supervision<1.0.0->inference-sdk) (1.4.4)\n",
      "Requirement already satisfied: pyparsing>=2.3.1 in c:\\users\\sriram\\anaconda3\\lib\\site-packages (from matplotlib>=3.6.0->supervision<1.0.0->inference-sdk) (3.0.9)\n",
      "Requirement already satisfied: python-dateutil>=2.7 in c:\\users\\sriram\\anaconda3\\lib\\site-packages (from matplotlib>=3.6.0->supervision<1.0.0->inference-sdk) (2.9.0.post0)\n",
      "Requirement already satisfied: mypy-extensions>=0.3.0 in c:\\users\\sriram\\anaconda3\\lib\\site-packages (from typing-inspect<1,>=0.4.0->dataclasses-json>=0.6.0->inference-sdk) (1.0.0)\n",
      "Requirement already satisfied: typing-extensions>=3.7.4 in c:\\users\\sriram\\anaconda3\\lib\\site-packages (from typing-inspect<1,>=0.4.0->dataclasses-json>=0.6.0->inference-sdk) (4.11.0)\n",
      "Requirement already satisfied: six>=1.5 in c:\\users\\sriram\\anaconda3\\lib\\site-packages (from python-dateutil>=2.7->matplotlib>=3.6.0->supervision<1.0.0->inference-sdk) (1.16.0)\n"
     ]
    }
   ],
   "source": [
    "!pip install inference-sdk"
   ]
  },
  {
   "cell_type": "code",
   "execution_count": 117,
   "id": "50c5f6ca-ddd6-4d16-8ee2-f22c41a4ae7b",
   "metadata": {
    "scrolled": true
   },
   "outputs": [
    {
     "name": "stdout",
     "output_type": "stream",
     "text": [
      "Requirement already satisfied: inference-cli in c:\\users\\sriram\\anaconda3\\lib\\site-packages (0.9.17)\n",
      "Requirement already satisfied: requests<=2.31.0 in c:\\users\\sriram\\anaconda3\\lib\\site-packages (from inference-cli) (2.31.0)\n",
      "Requirement already satisfied: docker==6.1.3 in c:\\users\\sriram\\anaconda3\\lib\\site-packages (from inference-cli) (6.1.3)\n",
      "Requirement already satisfied: typer==0.9.0 in c:\\users\\sriram\\anaconda3\\lib\\site-packages (from inference-cli) (0.9.0)\n",
      "Requirement already satisfied: rich<=13.5.2 in c:\\users\\sriram\\anaconda3\\lib\\site-packages (from inference-cli) (13.3.5)\n",
      "Requirement already satisfied: skypilot==0.4.1 in c:\\users\\sriram\\anaconda3\\lib\\site-packages (from inference-cli) (0.4.1)\n",
      "Requirement already satisfied: PyYAML>=6.0.0 in c:\\users\\sriram\\anaconda3\\lib\\site-packages (from inference-cli) (6.0.1)\n",
      "Requirement already satisfied: supervision>=0.17.1 in c:\\users\\sriram\\anaconda3\\lib\\site-packages (from inference-cli) (0.22.0)\n",
      "Requirement already satisfied: opencv-python>=4.6.0 in c:\\users\\sriram\\anaconda3\\lib\\site-packages (from inference-cli) (4.10.0.84)\n",
      "Requirement already satisfied: tqdm>=4.0.0 in c:\\users\\sriram\\anaconda3\\lib\\site-packages (from inference-cli) (4.66.4)\n",
      "Requirement already satisfied: GPUtil>=1.4.0 in c:\\users\\sriram\\anaconda3\\lib\\site-packages (from inference-cli) (1.4.0)\n",
      "Requirement already satisfied: py-cpuinfo>=9.0.0 in c:\\users\\sriram\\anaconda3\\lib\\site-packages (from inference-cli) (9.0.0)\n",
      "Requirement already satisfied: aiohttp>=3.9.0 in c:\\users\\sriram\\anaconda3\\lib\\site-packages (from inference-cli) (3.9.5)\n",
      "Requirement already satisfied: backoff>=2.2.0 in c:\\users\\sriram\\anaconda3\\lib\\site-packages (from inference-cli) (2.2.1)\n",
      "Requirement already satisfied: dataclasses-json>=0.6.0 in c:\\users\\sriram\\anaconda3\\lib\\site-packages (from inference-cli) (0.6.7)\n",
      "Requirement already satisfied: pillow>=9.0.0 in c:\\users\\sriram\\anaconda3\\lib\\site-packages (from inference-cli) (10.3.0)\n",
      "Requirement already satisfied: numpy>=1.20.0 in c:\\users\\sriram\\anaconda3\\lib\\site-packages (from inference-cli) (1.26.4)\n",
      "Requirement already satisfied: aioresponses>=0.7.6 in c:\\users\\sriram\\anaconda3\\lib\\site-packages (from inference-cli) (0.7.6)\n",
      "Requirement already satisfied: packaging>=14.0 in c:\\users\\sriram\\anaconda3\\lib\\site-packages (from docker==6.1.3->inference-cli) (23.2)\n",
      "Requirement already satisfied: urllib3>=1.26.0 in c:\\users\\sriram\\anaconda3\\lib\\site-packages (from docker==6.1.3->inference-cli) (1.26.19)\n",
      "Requirement already satisfied: websocket-client>=0.32.0 in c:\\users\\sriram\\anaconda3\\lib\\site-packages (from docker==6.1.3->inference-cli) (1.8.0)\n",
      "Requirement already satisfied: pywin32>=304 in c:\\users\\sriram\\anaconda3\\lib\\site-packages (from docker==6.1.3->inference-cli) (305.1)\n",
      "Requirement already satisfied: wheel in c:\\users\\sriram\\anaconda3\\lib\\site-packages (from skypilot==0.4.1->inference-cli) (0.43.0)\n",
      "Requirement already satisfied: cachetools in c:\\users\\sriram\\anaconda3\\lib\\site-packages (from skypilot==0.4.1->inference-cli) (5.3.3)\n",
      "Requirement already satisfied: click>=7.0 in c:\\users\\sriram\\anaconda3\\lib\\site-packages (from skypilot==0.4.1->inference-cli) (8.1.7)\n",
      "Requirement already satisfied: colorama<0.4.5 in c:\\users\\sriram\\anaconda3\\lib\\site-packages (from skypilot==0.4.1->inference-cli) (0.4.4)\n",
      "Requirement already satisfied: cryptography in c:\\users\\sriram\\anaconda3\\lib\\site-packages (from skypilot==0.4.1->inference-cli) (42.0.5)\n",
      "Requirement already satisfied: jinja2>=3.0 in c:\\users\\sriram\\anaconda3\\lib\\site-packages (from skypilot==0.4.1->inference-cli) (3.1.4)\n",
      "Requirement already satisfied: jsonschema in c:\\users\\sriram\\anaconda3\\lib\\site-packages (from skypilot==0.4.1->inference-cli) (4.19.2)\n",
      "Requirement already satisfied: networkx in c:\\users\\sriram\\anaconda3\\lib\\site-packages (from skypilot==0.4.1->inference-cli) (3.2.1)\n",
      "Requirement already satisfied: pandas>=1.3.0 in c:\\users\\sriram\\anaconda3\\lib\\site-packages (from skypilot==0.4.1->inference-cli) (2.2.2)\n",
      "Requirement already satisfied: pendulum in c:\\users\\sriram\\anaconda3\\lib\\site-packages (from skypilot==0.4.1->inference-cli) (3.0.0)\n",
      "Requirement already satisfied: PrettyTable>=2.0.0 in c:\\users\\sriram\\anaconda3\\lib\\site-packages (from skypilot==0.4.1->inference-cli) (3.10.2)\n",
      "Requirement already satisfied: python-dotenv in c:\\users\\sriram\\anaconda3\\lib\\site-packages (from skypilot==0.4.1->inference-cli) (0.21.0)\n",
      "Requirement already satisfied: tabulate in c:\\users\\sriram\\anaconda3\\lib\\site-packages (from skypilot==0.4.1->inference-cli) (0.9.0)\n",
      "Requirement already satisfied: typing-extensions in c:\\users\\sriram\\anaconda3\\lib\\site-packages (from skypilot==0.4.1->inference-cli) (4.11.0)\n",
      "Requirement already satisfied: filelock>=3.6.0 in c:\\users\\sriram\\anaconda3\\lib\\site-packages (from skypilot==0.4.1->inference-cli) (3.13.1)\n",
      "Requirement already satisfied: psutil in c:\\users\\sriram\\anaconda3\\lib\\site-packages (from skypilot==0.4.1->inference-cli) (5.9.0)\n",
      "Requirement already satisfied: pulp in c:\\users\\sriram\\anaconda3\\lib\\site-packages (from skypilot==0.4.1->inference-cli) (2.9.0)\n",
      "Requirement already satisfied: awscli>=1.27.10 in c:\\users\\sriram\\anaconda3\\lib\\site-packages (from skypilot==0.4.1->inference-cli) (1.33.31)\n",
      "Requirement already satisfied: botocore>=1.29.10 in c:\\users\\sriram\\anaconda3\\lib\\site-packages (from skypilot==0.4.1->inference-cli) (1.34.149)\n",
      "Requirement already satisfied: boto3>=1.26.1 in c:\\users\\sriram\\anaconda3\\lib\\site-packages (from skypilot==0.4.1->inference-cli) (1.34.149)\n",
      "Requirement already satisfied: aiosignal>=1.1.2 in c:\\users\\sriram\\anaconda3\\lib\\site-packages (from aiohttp>=3.9.0->inference-cli) (1.2.0)\n",
      "Requirement already satisfied: attrs>=17.3.0 in c:\\users\\sriram\\anaconda3\\lib\\site-packages (from aiohttp>=3.9.0->inference-cli) (23.1.0)\n",
      "Requirement already satisfied: frozenlist>=1.1.1 in c:\\users\\sriram\\anaconda3\\lib\\site-packages (from aiohttp>=3.9.0->inference-cli) (1.4.0)\n",
      "Requirement already satisfied: multidict<7.0,>=4.5 in c:\\users\\sriram\\anaconda3\\lib\\site-packages (from aiohttp>=3.9.0->inference-cli) (6.0.4)\n",
      "Requirement already satisfied: yarl<2.0,>=1.0 in c:\\users\\sriram\\anaconda3\\lib\\site-packages (from aiohttp>=3.9.0->inference-cli) (1.9.3)\n",
      "Requirement already satisfied: marshmallow<4.0.0,>=3.18.0 in c:\\users\\sriram\\anaconda3\\lib\\site-packages (from dataclasses-json>=0.6.0->inference-cli) (3.21.3)\n",
      "Requirement already satisfied: typing-inspect<1,>=0.4.0 in c:\\users\\sriram\\anaconda3\\lib\\site-packages (from dataclasses-json>=0.6.0->inference-cli) (0.9.0)\n",
      "Requirement already satisfied: charset-normalizer<4,>=2 in c:\\users\\sriram\\anaconda3\\lib\\site-packages (from requests<=2.31.0->inference-cli) (2.0.4)\n",
      "Requirement already satisfied: idna<4,>=2.5 in c:\\users\\sriram\\anaconda3\\lib\\site-packages (from requests<=2.31.0->inference-cli) (3.7)\n",
      "Requirement already satisfied: certifi>=2017.4.17 in c:\\users\\sriram\\anaconda3\\lib\\site-packages (from requests<=2.31.0->inference-cli) (2024.7.4)\n",
      "Requirement already satisfied: markdown-it-py<3.0.0,>=2.2.0 in c:\\users\\sriram\\anaconda3\\lib\\site-packages (from rich<=13.5.2->inference-cli) (2.2.0)\n",
      "Requirement already satisfied: pygments<3.0.0,>=2.13.0 in c:\\users\\sriram\\anaconda3\\lib\\site-packages (from rich<=13.5.2->inference-cli) (2.15.1)\n",
      "Requirement already satisfied: defusedxml<0.8.0,>=0.7.1 in c:\\users\\sriram\\anaconda3\\lib\\site-packages (from supervision>=0.17.1->inference-cli) (0.7.1)\n",
      "Requirement already satisfied: matplotlib>=3.6.0 in c:\\users\\sriram\\anaconda3\\lib\\site-packages (from supervision>=0.17.1->inference-cli) (3.8.4)\n",
      "Requirement already satisfied: opencv-python-headless>=4.5.5.64 in c:\\users\\sriram\\anaconda3\\lib\\site-packages (from supervision>=0.17.1->inference-cli) (4.10.0.84)\n",
      "Requirement already satisfied: scipy<2.0.0,>=1.10.0 in c:\\users\\sriram\\anaconda3\\lib\\site-packages (from supervision>=0.17.1->inference-cli) (1.13.1)\n",
      "Requirement already satisfied: docutils<0.17,>=0.10 in c:\\users\\sriram\\anaconda3\\lib\\site-packages (from awscli>=1.27.10->skypilot==0.4.1->inference-cli) (0.16)\n",
      "Requirement already satisfied: s3transfer<0.11.0,>=0.10.0 in c:\\users\\sriram\\anaconda3\\lib\\site-packages (from awscli>=1.27.10->skypilot==0.4.1->inference-cli) (0.10.2)\n",
      "Requirement already satisfied: rsa<4.8,>=3.1.2 in c:\\users\\sriram\\anaconda3\\lib\\site-packages (from awscli>=1.27.10->skypilot==0.4.1->inference-cli) (4.7.2)\n",
      "Requirement already satisfied: jmespath<2.0.0,>=0.7.1 in c:\\users\\sriram\\anaconda3\\lib\\site-packages (from botocore>=1.29.10->skypilot==0.4.1->inference-cli) (1.0.1)\n",
      "Requirement already satisfied: python-dateutil<3.0.0,>=2.1 in c:\\users\\sriram\\anaconda3\\lib\\site-packages (from botocore>=1.29.10->skypilot==0.4.1->inference-cli) (2.9.0.post0)\n",
      "Requirement already satisfied: MarkupSafe>=2.0 in c:\\users\\sriram\\anaconda3\\lib\\site-packages (from jinja2>=3.0->skypilot==0.4.1->inference-cli) (2.1.3)\n",
      "Requirement already satisfied: mdurl~=0.1 in c:\\users\\sriram\\anaconda3\\lib\\site-packages (from markdown-it-py<3.0.0,>=2.2.0->rich<=13.5.2->inference-cli) (0.1.0)\n",
      "Requirement already satisfied: contourpy>=1.0.1 in c:\\users\\sriram\\anaconda3\\lib\\site-packages (from matplotlib>=3.6.0->supervision>=0.17.1->inference-cli) (1.2.0)\n",
      "Requirement already satisfied: cycler>=0.10 in c:\\users\\sriram\\anaconda3\\lib\\site-packages (from matplotlib>=3.6.0->supervision>=0.17.1->inference-cli) (0.11.0)\n",
      "Requirement already satisfied: fonttools>=4.22.0 in c:\\users\\sriram\\anaconda3\\lib\\site-packages (from matplotlib>=3.6.0->supervision>=0.17.1->inference-cli) (4.51.0)\n",
      "Requirement already satisfied: kiwisolver>=1.3.1 in c:\\users\\sriram\\anaconda3\\lib\\site-packages (from matplotlib>=3.6.0->supervision>=0.17.1->inference-cli) (1.4.4)\n",
      "Requirement already satisfied: pyparsing>=2.3.1 in c:\\users\\sriram\\anaconda3\\lib\\site-packages (from matplotlib>=3.6.0->supervision>=0.17.1->inference-cli) (3.0.9)\n",
      "Requirement already satisfied: pytz>=2020.1 in c:\\users\\sriram\\anaconda3\\lib\\site-packages (from pandas>=1.3.0->skypilot==0.4.1->inference-cli) (2024.1)\n",
      "Requirement already satisfied: tzdata>=2022.7 in c:\\users\\sriram\\anaconda3\\lib\\site-packages (from pandas>=1.3.0->skypilot==0.4.1->inference-cli) (2023.3)\n",
      "Requirement already satisfied: wcwidth in c:\\users\\sriram\\anaconda3\\lib\\site-packages (from PrettyTable>=2.0.0->skypilot==0.4.1->inference-cli) (0.2.5)\n",
      "Requirement already satisfied: mypy-extensions>=0.3.0 in c:\\users\\sriram\\anaconda3\\lib\\site-packages (from typing-inspect<1,>=0.4.0->dataclasses-json>=0.6.0->inference-cli) (1.0.0)\n",
      "Requirement already satisfied: cffi>=1.12 in c:\\users\\sriram\\anaconda3\\lib\\site-packages (from cryptography->skypilot==0.4.1->inference-cli) (1.16.0)\n",
      "Requirement already satisfied: jsonschema-specifications>=2023.03.6 in c:\\users\\sriram\\anaconda3\\lib\\site-packages (from jsonschema->skypilot==0.4.1->inference-cli) (2023.7.1)\n",
      "Requirement already satisfied: referencing>=0.28.4 in c:\\users\\sriram\\anaconda3\\lib\\site-packages (from jsonschema->skypilot==0.4.1->inference-cli) (0.30.2)\n",
      "Requirement already satisfied: rpds-py>=0.7.1 in c:\\users\\sriram\\anaconda3\\lib\\site-packages (from jsonschema->skypilot==0.4.1->inference-cli) (0.10.6)\n",
      "Requirement already satisfied: time-machine>=2.6.0 in c:\\users\\sriram\\anaconda3\\lib\\site-packages (from pendulum->skypilot==0.4.1->inference-cli) (2.14.2)\n",
      "Requirement already satisfied: pycparser in c:\\users\\sriram\\anaconda3\\lib\\site-packages (from cffi>=1.12->cryptography->skypilot==0.4.1->inference-cli) (2.21)\n",
      "Requirement already satisfied: six>=1.5 in c:\\users\\sriram\\anaconda3\\lib\\site-packages (from python-dateutil<3.0.0,>=2.1->botocore>=1.29.10->skypilot==0.4.1->inference-cli) (1.16.0)\n",
      "Requirement already satisfied: pyasn1>=0.1.3 in c:\\users\\sriram\\anaconda3\\lib\\site-packages (from rsa<4.8,>=3.1.2->awscli>=1.27.10->skypilot==0.4.1->inference-cli) (0.4.8)\n",
      "Command failed. Cause: Error connecting to Docker daemon. Is docker installed and running? See https://www.docker.com/get-started/ for installation instructions.\n"
     ]
    },
    {
     "name": "stderr",
     "output_type": "stream",
     "text": [
      "C:\\Users\\SRIRAM\\anaconda3\\Lib\\site-packages\\paramiko\\transport.py:219: CryptographyDeprecationWarning: Blowfish has been deprecated and will be removed in a future release\n",
      "  \"class\": algorithms.Blowfish,\n"
     ]
    }
   ],
   "source": [
    "!pip install inference-cli && inference server start"
   ]
  },
  {
   "cell_type": "code",
   "execution_count": 118,
   "id": "b2ef1ea2-07a8-4bca-b983-356408c8a5f6",
   "metadata": {},
   "outputs": [
    {
     "name": "stdout",
     "output_type": "stream",
     "text": [
      "Requirement already satisfied: opencv-python in c:\\users\\sriram\\anaconda3\\lib\\site-packages (4.10.0.84)\n",
      "Requirement already satisfied: numpy>=1.21.2 in c:\\users\\sriram\\anaconda3\\lib\\site-packages (from opencv-python) (1.26.4)\n"
     ]
    }
   ],
   "source": [
    "!pip install opencv-python"
   ]
  },
  {
   "cell_type": "code",
   "execution_count": 119,
   "id": "aef6088a-de65-4588-a690-c59db0920c39",
   "metadata": {},
   "outputs": [
    {
     "name": "stdout",
     "output_type": "stream",
     "text": [
      "Requirement already satisfied: opencv-python-headless in c:\\users\\sriram\\anaconda3\\lib\\site-packages (4.10.0.84)\n",
      "Requirement already satisfied: numpy>=1.21.2 in c:\\users\\sriram\\anaconda3\\lib\\site-packages (from opencv-python-headless) (1.26.4)\n"
     ]
    }
   ],
   "source": [
    "!pip install opencv-python-headless"
   ]
  },
  {
   "cell_type": "code",
   "execution_count": 120,
   "id": "be731661-a486-45ce-8887-b713c5c82818",
   "metadata": {},
   "outputs": [
    {
     "name": "stdout",
     "output_type": "stream",
     "text": [
      "Requirement already satisfied: opencv-contrib-python in c:\\users\\sriram\\anaconda3\\lib\\site-packages (4.10.0.84)\n",
      "Requirement already satisfied: numpy>=1.21.2 in c:\\users\\sriram\\anaconda3\\lib\\site-packages (from opencv-contrib-python) (1.26.4)\n"
     ]
    }
   ],
   "source": [
    "!pip install opencv-contrib-python"
   ]
  },
  {
   "cell_type": "code",
   "execution_count": 121,
   "id": "8c332b7e-1f22-4666-a2d0-0a3fb5cb6ea6",
   "metadata": {},
   "outputs": [
    {
     "name": "stderr",
     "output_type": "stream",
     "text": [
      "ERROR: Could not find a version that satisfies the requirement cv2 (from versions: none)\n",
      "ERROR: No matching distribution found for cv2\n"
     ]
    }
   ],
   "source": [
    "!pip install cv2"
   ]
  },
  {
   "cell_type": "code",
   "execution_count": 122,
   "id": "3dd3cb04-c23d-4d1a-a077-4e1c068a846c",
   "metadata": {},
   "outputs": [
    {
     "name": "stdout",
     "output_type": "stream",
     "text": [
      "Requirement already satisfied: pillow in c:\\users\\sriram\\anaconda3\\lib\\site-packages (10.3.0)\n"
     ]
    }
   ],
   "source": [
    "!pip install pillow"
   ]
  },
  {
   "cell_type": "code",
   "execution_count": 123,
   "id": "4110be90-f73e-4cfc-9fd8-94c0054c96a0",
   "metadata": {},
   "outputs": [
    {
     "name": "stdout",
     "output_type": "stream",
     "text": [
      "Loaded 2 Test image categories.\n",
      "Loaded 2 Train image categories.\n"
     ]
    }
   ],
   "source": [
    "import os\n",
    "import cv2\n",
    "\n",
    "def load_images_from_folder(folder):\n",
    "    images = []\n",
    "    for filename in os.listdir(folder):\n",
    "        if filename.endswith(('.png', '.jpg', '.jpeg')):\n",
    "            img_path = os.path.join(folder, filename)\n",
    "            #img = cv2.imread(img_path)\n",
    "            images.append(img_path)\n",
    "\n",
    "    return images\n",
    "\n",
    "def load_images_test_dataset(test_folder):\n",
    "    test_images = []  # Initialize the list\n",
    "    covid_folder = os.path.join(test_folder, 'covid')\n",
    "    normal_folder = os.path.join(test_folder, 'normal')\n",
    "    \n",
    "    test_images.append({\"category\": \"covid\", \"images\": load_images_from_folder(covid_folder)})  # Append images\n",
    "    test_images.append({\"category\": \"normal\", \"images\": load_images_from_folder(normal_folder)})  # Append images\n",
    "    \n",
    "    return test_images\n",
    "\n",
    "def load_images_train_dataset(train_folder):\n",
    "    train_images = []  # Initialize the list\n",
    "    covid_folder = os.path.join(train_folder, 'covid')\n",
    "    normal_folder = os.path.join(train_folder, 'normal')\n",
    "    \n",
    "    train_images.append({\"category\": \"covid\", \"images\": load_images_from_folder(covid_folder)})  # Append images\n",
    "    train_images.append({\"category\": \"normal\", \"images\": load_images_from_folder(normal_folder)})  # Append images\n",
    "    \n",
    "    return train_images\n",
    "\n",
    "def load_image_main_folder(main_folder):\n",
    "    test_folder = os.path.join(main_folder, 'test')\n",
    "    train_folder = os.path.join(main_folder, 'train')\n",
    "    \n",
    "    test_images = load_images_test_dataset(test_folder)\n",
    "    train_images = load_images_train_dataset(train_folder)\n",
    "    \n",
    "    return test_images, train_images\n",
    "\n",
    "# Example usage\n",
    "main_folder = 'C:\\\\Users\\\\SRIRAM\\\\Documents\\\\Image Classification'\n",
    "test_images, train_images = load_image_main_folder(main_folder)\n",
    "\n",
    "print(f\"Loaded {len(test_images)} Test image categories.\")\n",
    "print(f\"Loaded {len(train_images)} Train image categories.\")\n"
   ]
  },
  {
   "cell_type": "code",
   "execution_count": 124,
   "id": "69a5eded-018e-410c-9225-358796af6f87",
   "metadata": {
    "scrolled": true
   },
   "outputs": [
    {
     "name": "stdout",
     "output_type": "stream",
     "text": [
      "Loaded [{'category': 'covid', 'images': ['C:\\\\Users\\\\SRIRAM\\\\Documents\\\\Image Classification\\\\test\\\\covid\\\\0100.jpeg', 'C:\\\\Users\\\\SRIRAM\\\\Documents\\\\Image Classification\\\\test\\\\covid\\\\0102.jpeg', 'C:\\\\Users\\\\SRIRAM\\\\Documents\\\\Image Classification\\\\test\\\\covid\\\\0105.png', 'C:\\\\Users\\\\SRIRAM\\\\Documents\\\\Image Classification\\\\test\\\\covid\\\\0106.jpeg', 'C:\\\\Users\\\\SRIRAM\\\\Documents\\\\Image Classification\\\\test\\\\covid\\\\0108.jpeg', 'C:\\\\Users\\\\SRIRAM\\\\Documents\\\\Image Classification\\\\test\\\\covid\\\\0111.jpg', 'C:\\\\Users\\\\SRIRAM\\\\Documents\\\\Image Classification\\\\test\\\\covid\\\\0112.jpg', 'C:\\\\Users\\\\SRIRAM\\\\Documents\\\\Image Classification\\\\test\\\\covid\\\\0113.jpg', 'C:\\\\Users\\\\SRIRAM\\\\Documents\\\\Image Classification\\\\test\\\\covid\\\\0115.jpeg', 'C:\\\\Users\\\\SRIRAM\\\\Documents\\\\Image Classification\\\\test\\\\covid\\\\0118.jpeg', 'C:\\\\Users\\\\SRIRAM\\\\Documents\\\\Image Classification\\\\test\\\\covid\\\\0119.jpeg', 'C:\\\\Users\\\\SRIRAM\\\\Documents\\\\Image Classification\\\\test\\\\covid\\\\0120.jpg', 'C:\\\\Users\\\\SRIRAM\\\\Documents\\\\Image Classification\\\\test\\\\covid\\\\094.png', 'C:\\\\Users\\\\SRIRAM\\\\Documents\\\\Image Classification\\\\test\\\\covid\\\\096.png', 'C:\\\\Users\\\\SRIRAM\\\\Documents\\\\Image Classification\\\\test\\\\covid\\\\098.jpeg', 'C:\\\\Users\\\\SRIRAM\\\\Documents\\\\Image Classification\\\\test\\\\covid\\\\auntminnie-2020_01_31_20_24_2322_2020_01_31_x-ray_coronavirus_US.jpg', 'C:\\\\Users\\\\SRIRAM\\\\Documents\\\\Image Classification\\\\test\\\\covid\\\\auntminnie-a-2020_01_28_23_51_6665_2020_01_28_Vietnam_coronavirus.jpeg', 'C:\\\\Users\\\\SRIRAM\\\\Documents\\\\Image Classification\\\\test\\\\covid\\\\auntminnie-b-2020_01_28_23_51_6665_2020_01_28_Vietnam_coronavirus.jpeg', 'C:\\\\Users\\\\SRIRAM\\\\Documents\\\\Image Classification\\\\test\\\\covid\\\\auntminnie-c-2020_01_28_23_51_6665_2020_01_28_Vietnam_coronavirus.jpeg', 'C:\\\\Users\\\\SRIRAM\\\\Documents\\\\Image Classification\\\\test\\\\covid\\\\auntminnie-d-2020_01_28_23_51_6665_2020_01_28_Vietnam_coronavirus.jpeg', 'C:\\\\Users\\\\SRIRAM\\\\Documents\\\\Image Classification\\\\test\\\\covid\\\\COVID-00003b.jpg', 'C:\\\\Users\\\\SRIRAM\\\\Documents\\\\Image Classification\\\\test\\\\covid\\\\COVID-00012.jpg', 'C:\\\\Users\\\\SRIRAM\\\\Documents\\\\Image Classification\\\\test\\\\covid\\\\COVID-00022.jpg', 'C:\\\\Users\\\\SRIRAM\\\\Documents\\\\Image Classification\\\\test\\\\covid\\\\COVID-00033.jpg', 'C:\\\\Users\\\\SRIRAM\\\\Documents\\\\Image Classification\\\\test\\\\covid\\\\COVID-00037.jpg', 'C:\\\\Users\\\\SRIRAM\\\\Documents\\\\Image Classification\\\\test\\\\covid\\\\radiopaedia-2019-novel-coronavirus-infected-pneumonia.jpg']}, {'category': 'normal', 'images': ['C:\\\\Users\\\\SRIRAM\\\\Documents\\\\Image Classification\\\\test\\\\normal\\\\0101.jpeg', 'C:\\\\Users\\\\SRIRAM\\\\Documents\\\\Image Classification\\\\test\\\\normal\\\\0102.jpeg', 'C:\\\\Users\\\\SRIRAM\\\\Documents\\\\Image Classification\\\\test\\\\normal\\\\0103.jpeg', 'C:\\\\Users\\\\SRIRAM\\\\Documents\\\\Image Classification\\\\test\\\\normal\\\\0105.jpeg', 'C:\\\\Users\\\\SRIRAM\\\\Documents\\\\Image Classification\\\\test\\\\normal\\\\0106.jpeg', 'C:\\\\Users\\\\SRIRAM\\\\Documents\\\\Image Classification\\\\test\\\\normal\\\\0107.jpeg', 'C:\\\\Users\\\\SRIRAM\\\\Documents\\\\Image Classification\\\\test\\\\normal\\\\0108.jpeg', 'C:\\\\Users\\\\SRIRAM\\\\Documents\\\\Image Classification\\\\test\\\\normal\\\\0109.jpeg', 'C:\\\\Users\\\\SRIRAM\\\\Documents\\\\Image Classification\\\\test\\\\normal\\\\0110.jpeg', 'C:\\\\Users\\\\SRIRAM\\\\Documents\\\\Image Classification\\\\test\\\\normal\\\\0111.jpeg', 'C:\\\\Users\\\\SRIRAM\\\\Documents\\\\Image Classification\\\\test\\\\normal\\\\0112.jpeg', 'C:\\\\Users\\\\SRIRAM\\\\Documents\\\\Image Classification\\\\test\\\\normal\\\\0114.jpeg', 'C:\\\\Users\\\\SRIRAM\\\\Documents\\\\Image Classification\\\\test\\\\normal\\\\0115.jpeg', 'C:\\\\Users\\\\SRIRAM\\\\Documents\\\\Image Classification\\\\test\\\\normal\\\\0116.jpeg', 'C:\\\\Users\\\\SRIRAM\\\\Documents\\\\Image Classification\\\\test\\\\normal\\\\0117.jpeg', 'C:\\\\Users\\\\SRIRAM\\\\Documents\\\\Image Classification\\\\test\\\\normal\\\\0118.jpeg', 'C:\\\\Users\\\\SRIRAM\\\\Documents\\\\Image Classification\\\\test\\\\normal\\\\0119.jpeg', 'C:\\\\Users\\\\SRIRAM\\\\Documents\\\\Image Classification\\\\test\\\\normal\\\\0120.jpeg', 'C:\\\\Users\\\\SRIRAM\\\\Documents\\\\Image Classification\\\\test\\\\normal\\\\0121.jpeg', 'C:\\\\Users\\\\SRIRAM\\\\Documents\\\\Image Classification\\\\test\\\\normal\\\\0122.jpeg']}] Test image categories.\n",
      "Loaded [{'category': 'covid', 'images': ['C:\\\\Users\\\\SRIRAM\\\\Documents\\\\Image Classification\\\\train\\\\covid\\\\01.jpeg', 'C:\\\\Users\\\\SRIRAM\\\\Documents\\\\Image Classification\\\\train\\\\covid\\\\010.png', 'C:\\\\Users\\\\SRIRAM\\\\Documents\\\\Image Classification\\\\train\\\\covid\\\\012.jpeg', 'C:\\\\Users\\\\SRIRAM\\\\Documents\\\\Image Classification\\\\train\\\\covid\\\\015.jpg', 'C:\\\\Users\\\\SRIRAM\\\\Documents\\\\Image Classification\\\\train\\\\covid\\\\019.png', 'C:\\\\Users\\\\SRIRAM\\\\Documents\\\\Image Classification\\\\train\\\\covid\\\\02.jpeg', 'C:\\\\Users\\\\SRIRAM\\\\Documents\\\\Image Classification\\\\train\\\\covid\\\\020.jpg', 'C:\\\\Users\\\\SRIRAM\\\\Documents\\\\Image Classification\\\\train\\\\covid\\\\021.jpeg', 'C:\\\\Users\\\\SRIRAM\\\\Documents\\\\Image Classification\\\\train\\\\covid\\\\022.jpeg', 'C:\\\\Users\\\\SRIRAM\\\\Documents\\\\Image Classification\\\\train\\\\covid\\\\024.jpeg', 'C:\\\\Users\\\\SRIRAM\\\\Documents\\\\Image Classification\\\\train\\\\covid\\\\025.jpeg', 'C:\\\\Users\\\\SRIRAM\\\\Documents\\\\Image Classification\\\\train\\\\covid\\\\026.jpeg', 'C:\\\\Users\\\\SRIRAM\\\\Documents\\\\Image Classification\\\\train\\\\covid\\\\027.jpeg', 'C:\\\\Users\\\\SRIRAM\\\\Documents\\\\Image Classification\\\\train\\\\covid\\\\03.jpeg', 'C:\\\\Users\\\\SRIRAM\\\\Documents\\\\Image Classification\\\\train\\\\covid\\\\031.jpeg', 'C:\\\\Users\\\\SRIRAM\\\\Documents\\\\Image Classification\\\\train\\\\covid\\\\032.jpeg', 'C:\\\\Users\\\\SRIRAM\\\\Documents\\\\Image Classification\\\\train\\\\covid\\\\033.png', 'C:\\\\Users\\\\SRIRAM\\\\Documents\\\\Image Classification\\\\train\\\\covid\\\\039.jpeg', 'C:\\\\Users\\\\SRIRAM\\\\Documents\\\\Image Classification\\\\train\\\\covid\\\\04.png', 'C:\\\\Users\\\\SRIRAM\\\\Documents\\\\Image Classification\\\\train\\\\covid\\\\040.jpeg', 'C:\\\\Users\\\\SRIRAM\\\\Documents\\\\Image Classification\\\\train\\\\covid\\\\041.jpeg', 'C:\\\\Users\\\\SRIRAM\\\\Documents\\\\Image Classification\\\\train\\\\covid\\\\042.jpeg', 'C:\\\\Users\\\\SRIRAM\\\\Documents\\\\Image Classification\\\\train\\\\covid\\\\043.jpeg', 'C:\\\\Users\\\\SRIRAM\\\\Documents\\\\Image Classification\\\\train\\\\covid\\\\044.jpeg', 'C:\\\\Users\\\\SRIRAM\\\\Documents\\\\Image Classification\\\\train\\\\covid\\\\045.jpeg', 'C:\\\\Users\\\\SRIRAM\\\\Documents\\\\Image Classification\\\\train\\\\covid\\\\046.jpeg', 'C:\\\\Users\\\\SRIRAM\\\\Documents\\\\Image Classification\\\\train\\\\covid\\\\047.jpeg', 'C:\\\\Users\\\\SRIRAM\\\\Documents\\\\Image Classification\\\\train\\\\covid\\\\048.jpeg', 'C:\\\\Users\\\\SRIRAM\\\\Documents\\\\Image Classification\\\\train\\\\covid\\\\049.jpeg', 'C:\\\\Users\\\\SRIRAM\\\\Documents\\\\Image Classification\\\\train\\\\covid\\\\050.jpeg', 'C:\\\\Users\\\\SRIRAM\\\\Documents\\\\Image Classification\\\\train\\\\covid\\\\051.jpeg', 'C:\\\\Users\\\\SRIRAM\\\\Documents\\\\Image Classification\\\\train\\\\covid\\\\052.jpeg', 'C:\\\\Users\\\\SRIRAM\\\\Documents\\\\Image Classification\\\\train\\\\covid\\\\053.jpeg', 'C:\\\\Users\\\\SRIRAM\\\\Documents\\\\Image Classification\\\\train\\\\covid\\\\054.jpeg', 'C:\\\\Users\\\\SRIRAM\\\\Documents\\\\Image Classification\\\\train\\\\covid\\\\055.jpeg', 'C:\\\\Users\\\\SRIRAM\\\\Documents\\\\Image Classification\\\\train\\\\covid\\\\056.jpg', 'C:\\\\Users\\\\SRIRAM\\\\Documents\\\\Image Classification\\\\train\\\\covid\\\\057.jpeg', 'C:\\\\Users\\\\SRIRAM\\\\Documents\\\\Image Classification\\\\train\\\\covid\\\\058.jpeg', 'C:\\\\Users\\\\SRIRAM\\\\Documents\\\\Image Classification\\\\train\\\\covid\\\\059.jpeg', 'C:\\\\Users\\\\SRIRAM\\\\Documents\\\\Image Classification\\\\train\\\\covid\\\\06.jpeg', 'C:\\\\Users\\\\SRIRAM\\\\Documents\\\\Image Classification\\\\train\\\\covid\\\\060.jpeg', 'C:\\\\Users\\\\SRIRAM\\\\Documents\\\\Image Classification\\\\train\\\\covid\\\\061.jpg', 'C:\\\\Users\\\\SRIRAM\\\\Documents\\\\Image Classification\\\\train\\\\covid\\\\062.jpeg', 'C:\\\\Users\\\\SRIRAM\\\\Documents\\\\Image Classification\\\\train\\\\covid\\\\064.jpg', 'C:\\\\Users\\\\SRIRAM\\\\Documents\\\\Image Classification\\\\train\\\\covid\\\\065.jpeg', 'C:\\\\Users\\\\SRIRAM\\\\Documents\\\\Image Classification\\\\train\\\\covid\\\\067.jpg', 'C:\\\\Users\\\\SRIRAM\\\\Documents\\\\Image Classification\\\\train\\\\covid\\\\068.jpg', 'C:\\\\Users\\\\SRIRAM\\\\Documents\\\\Image Classification\\\\train\\\\covid\\\\069.jpg', 'C:\\\\Users\\\\SRIRAM\\\\Documents\\\\Image Classification\\\\train\\\\covid\\\\07.jpg', 'C:\\\\Users\\\\SRIRAM\\\\Documents\\\\Image Classification\\\\train\\\\covid\\\\071.jpg', 'C:\\\\Users\\\\SRIRAM\\\\Documents\\\\Image Classification\\\\train\\\\covid\\\\072.jpeg', 'C:\\\\Users\\\\SRIRAM\\\\Documents\\\\Image Classification\\\\train\\\\covid\\\\073.jpg', 'C:\\\\Users\\\\SRIRAM\\\\Documents\\\\Image Classification\\\\train\\\\covid\\\\074.jpg', 'C:\\\\Users\\\\SRIRAM\\\\Documents\\\\Image Classification\\\\train\\\\covid\\\\076.jpg', 'C:\\\\Users\\\\SRIRAM\\\\Documents\\\\Image Classification\\\\train\\\\covid\\\\078.jpeg', 'C:\\\\Users\\\\SRIRAM\\\\Documents\\\\Image Classification\\\\train\\\\covid\\\\079.jpeg', 'C:\\\\Users\\\\SRIRAM\\\\Documents\\\\Image Classification\\\\train\\\\covid\\\\08.jpeg', 'C:\\\\Users\\\\SRIRAM\\\\Documents\\\\Image Classification\\\\train\\\\covid\\\\080.jpg', 'C:\\\\Users\\\\SRIRAM\\\\Documents\\\\Image Classification\\\\train\\\\covid\\\\081.jpeg', 'C:\\\\Users\\\\SRIRAM\\\\Documents\\\\Image Classification\\\\train\\\\covid\\\\082.jpg', 'C:\\\\Users\\\\SRIRAM\\\\Documents\\\\Image Classification\\\\train\\\\covid\\\\083.jpeg', 'C:\\\\Users\\\\SRIRAM\\\\Documents\\\\Image Classification\\\\train\\\\covid\\\\084.jpeg', 'C:\\\\Users\\\\SRIRAM\\\\Documents\\\\Image Classification\\\\train\\\\covid\\\\085.jpeg', 'C:\\\\Users\\\\SRIRAM\\\\Documents\\\\Image Classification\\\\train\\\\covid\\\\086.jpg', 'C:\\\\Users\\\\SRIRAM\\\\Documents\\\\Image Classification\\\\train\\\\covid\\\\088.jpeg', 'C:\\\\Users\\\\SRIRAM\\\\Documents\\\\Image Classification\\\\train\\\\covid\\\\089.jpg', 'C:\\\\Users\\\\SRIRAM\\\\Documents\\\\Image Classification\\\\train\\\\covid\\\\09.png', 'C:\\\\Users\\\\SRIRAM\\\\Documents\\\\Image Classification\\\\train\\\\covid\\\\090.jpeg', 'C:\\\\Users\\\\SRIRAM\\\\Documents\\\\Image Classification\\\\train\\\\covid\\\\091.jpg', 'C:\\\\Users\\\\SRIRAM\\\\Documents\\\\Image Classification\\\\train\\\\covid\\\\092.png', 'C:\\\\Users\\\\SRIRAM\\\\Documents\\\\Image Classification\\\\train\\\\covid\\\\COVID-00001.jpg', 'C:\\\\Users\\\\SRIRAM\\\\Documents\\\\Image Classification\\\\train\\\\covid\\\\COVID-00002.jpg', 'C:\\\\Users\\\\SRIRAM\\\\Documents\\\\Image Classification\\\\train\\\\covid\\\\COVID-00003a.jpg', 'C:\\\\Users\\\\SRIRAM\\\\Documents\\\\Image Classification\\\\train\\\\covid\\\\COVID-00003b.jpg', 'C:\\\\Users\\\\SRIRAM\\\\Documents\\\\Image Classification\\\\train\\\\covid\\\\COVID-00004.jpg', 'C:\\\\Users\\\\SRIRAM\\\\Documents\\\\Image Classification\\\\train\\\\covid\\\\COVID-00005.jpg', 'C:\\\\Users\\\\SRIRAM\\\\Documents\\\\Image Classification\\\\train\\\\covid\\\\COVID-00006.jpg', 'C:\\\\Users\\\\SRIRAM\\\\Documents\\\\Image Classification\\\\train\\\\covid\\\\COVID-00007.jpg', 'C:\\\\Users\\\\SRIRAM\\\\Documents\\\\Image Classification\\\\train\\\\covid\\\\COVID-00008.jpg', 'C:\\\\Users\\\\SRIRAM\\\\Documents\\\\Image Classification\\\\train\\\\covid\\\\COVID-00009.jpg', 'C:\\\\Users\\\\SRIRAM\\\\Documents\\\\Image Classification\\\\train\\\\covid\\\\COVID-00010.jpg', 'C:\\\\Users\\\\SRIRAM\\\\Documents\\\\Image Classification\\\\train\\\\covid\\\\COVID-00011.jpg', 'C:\\\\Users\\\\SRIRAM\\\\Documents\\\\Image Classification\\\\train\\\\covid\\\\COVID-00012.jpg', 'C:\\\\Users\\\\SRIRAM\\\\Documents\\\\Image Classification\\\\train\\\\covid\\\\COVID-00013a.jpg', 'C:\\\\Users\\\\SRIRAM\\\\Documents\\\\Image Classification\\\\train\\\\covid\\\\COVID-00013b.jpg', 'C:\\\\Users\\\\SRIRAM\\\\Documents\\\\Image Classification\\\\train\\\\covid\\\\COVID-00014.jpg', 'C:\\\\Users\\\\SRIRAM\\\\Documents\\\\Image Classification\\\\train\\\\covid\\\\COVID-00015a.png', 'C:\\\\Users\\\\SRIRAM\\\\Documents\\\\Image Classification\\\\train\\\\covid\\\\COVID-00015b.png', 'C:\\\\Users\\\\SRIRAM\\\\Documents\\\\Image Classification\\\\train\\\\covid\\\\COVID-00016.jpg', 'C:\\\\Users\\\\SRIRAM\\\\Documents\\\\Image Classification\\\\train\\\\covid\\\\COVID-00017.jpg', 'C:\\\\Users\\\\SRIRAM\\\\Documents\\\\Image Classification\\\\train\\\\covid\\\\COVID-00018.jpg', 'C:\\\\Users\\\\SRIRAM\\\\Documents\\\\Image Classification\\\\train\\\\covid\\\\COVID-00019.jpg', 'C:\\\\Users\\\\SRIRAM\\\\Documents\\\\Image Classification\\\\train\\\\covid\\\\COVID-00020.jpg', 'C:\\\\Users\\\\SRIRAM\\\\Documents\\\\Image Classification\\\\train\\\\covid\\\\COVID-00021.jpg', 'C:\\\\Users\\\\SRIRAM\\\\Documents\\\\Image Classification\\\\train\\\\covid\\\\COVID-00022.jpg', 'C:\\\\Users\\\\SRIRAM\\\\Documents\\\\Image Classification\\\\train\\\\covid\\\\COVID-00023.jpg', 'C:\\\\Users\\\\SRIRAM\\\\Documents\\\\Image Classification\\\\train\\\\covid\\\\COVID-00024.jpg', 'C:\\\\Users\\\\SRIRAM\\\\Documents\\\\Image Classification\\\\train\\\\covid\\\\COVID-00025.jpg', 'C:\\\\Users\\\\SRIRAM\\\\Documents\\\\Image Classification\\\\train\\\\covid\\\\COVID-00026.jpg', 'C:\\\\Users\\\\SRIRAM\\\\Documents\\\\Image Classification\\\\train\\\\covid\\\\COVID-00027.jpg', 'C:\\\\Users\\\\SRIRAM\\\\Documents\\\\Image Classification\\\\train\\\\covid\\\\COVID-00028.jpg', 'C:\\\\Users\\\\SRIRAM\\\\Documents\\\\Image Classification\\\\train\\\\covid\\\\COVID-00029.jpg', 'C:\\\\Users\\\\SRIRAM\\\\Documents\\\\Image Classification\\\\train\\\\covid\\\\COVID-00030.jpg', 'C:\\\\Users\\\\SRIRAM\\\\Documents\\\\Image Classification\\\\train\\\\covid\\\\COVID-00031.jpg', 'C:\\\\Users\\\\SRIRAM\\\\Documents\\\\Image Classification\\\\train\\\\covid\\\\COVID-00032.jpg', 'C:\\\\Users\\\\SRIRAM\\\\Documents\\\\Image Classification\\\\train\\\\covid\\\\COVID-00033.jpg', 'C:\\\\Users\\\\SRIRAM\\\\Documents\\\\Image Classification\\\\train\\\\covid\\\\COVID-00034.jpg', 'C:\\\\Users\\\\SRIRAM\\\\Documents\\\\Image Classification\\\\train\\\\covid\\\\COVID-00035.jpg', 'C:\\\\Users\\\\SRIRAM\\\\Documents\\\\Image Classification\\\\train\\\\covid\\\\COVID-00036.jpg', 'C:\\\\Users\\\\SRIRAM\\\\Documents\\\\Image Classification\\\\train\\\\covid\\\\COVID-00037.jpg', 'C:\\\\Users\\\\SRIRAM\\\\Documents\\\\Image Classification\\\\train\\\\covid\\\\COVID-00038.jpg']}, {'category': 'normal', 'images': ['C:\\\\Users\\\\SRIRAM\\\\Documents\\\\Image Classification\\\\train\\\\normal\\\\01.jpeg', 'C:\\\\Users\\\\SRIRAM\\\\Documents\\\\Image Classification\\\\train\\\\normal\\\\010.jpeg', 'C:\\\\Users\\\\SRIRAM\\\\Documents\\\\Image Classification\\\\train\\\\normal\\\\011.jpeg', 'C:\\\\Users\\\\SRIRAM\\\\Documents\\\\Image Classification\\\\train\\\\normal\\\\012.jpeg', 'C:\\\\Users\\\\SRIRAM\\\\Documents\\\\Image Classification\\\\train\\\\normal\\\\013.jpeg', 'C:\\\\Users\\\\SRIRAM\\\\Documents\\\\Image Classification\\\\train\\\\normal\\\\014.jpeg', 'C:\\\\Users\\\\SRIRAM\\\\Documents\\\\Image Classification\\\\train\\\\normal\\\\015.jpeg', 'C:\\\\Users\\\\SRIRAM\\\\Documents\\\\Image Classification\\\\train\\\\normal\\\\016.jpeg', 'C:\\\\Users\\\\SRIRAM\\\\Documents\\\\Image Classification\\\\train\\\\normal\\\\017.jpeg', 'C:\\\\Users\\\\SRIRAM\\\\Documents\\\\Image Classification\\\\train\\\\normal\\\\018.jpeg', 'C:\\\\Users\\\\SRIRAM\\\\Documents\\\\Image Classification\\\\train\\\\normal\\\\019.jpeg', 'C:\\\\Users\\\\SRIRAM\\\\Documents\\\\Image Classification\\\\train\\\\normal\\\\02.jpeg', 'C:\\\\Users\\\\SRIRAM\\\\Documents\\\\Image Classification\\\\train\\\\normal\\\\020.jpeg', 'C:\\\\Users\\\\SRIRAM\\\\Documents\\\\Image Classification\\\\train\\\\normal\\\\021.jpeg', 'C:\\\\Users\\\\SRIRAM\\\\Documents\\\\Image Classification\\\\train\\\\normal\\\\022.jpeg', 'C:\\\\Users\\\\SRIRAM\\\\Documents\\\\Image Classification\\\\train\\\\normal\\\\023.jpeg', 'C:\\\\Users\\\\SRIRAM\\\\Documents\\\\Image Classification\\\\train\\\\normal\\\\024.jpeg', 'C:\\\\Users\\\\SRIRAM\\\\Documents\\\\Image Classification\\\\train\\\\normal\\\\025.jpeg', 'C:\\\\Users\\\\SRIRAM\\\\Documents\\\\Image Classification\\\\train\\\\normal\\\\03.jpeg', 'C:\\\\Users\\\\SRIRAM\\\\Documents\\\\Image Classification\\\\train\\\\normal\\\\04.jpeg', 'C:\\\\Users\\\\SRIRAM\\\\Documents\\\\Image Classification\\\\train\\\\normal\\\\05.jpeg', 'C:\\\\Users\\\\SRIRAM\\\\Documents\\\\Image Classification\\\\train\\\\normal\\\\050.jpeg', 'C:\\\\Users\\\\SRIRAM\\\\Documents\\\\Image Classification\\\\train\\\\normal\\\\051.jpeg', 'C:\\\\Users\\\\SRIRAM\\\\Documents\\\\Image Classification\\\\train\\\\normal\\\\052.jpeg', 'C:\\\\Users\\\\SRIRAM\\\\Documents\\\\Image Classification\\\\train\\\\normal\\\\053.jpeg', 'C:\\\\Users\\\\SRIRAM\\\\Documents\\\\Image Classification\\\\train\\\\normal\\\\054.jpeg', 'C:\\\\Users\\\\SRIRAM\\\\Documents\\\\Image Classification\\\\train\\\\normal\\\\055.jpeg', 'C:\\\\Users\\\\SRIRAM\\\\Documents\\\\Image Classification\\\\train\\\\normal\\\\056.jpeg', 'C:\\\\Users\\\\SRIRAM\\\\Documents\\\\Image Classification\\\\train\\\\normal\\\\057.jpeg', 'C:\\\\Users\\\\SRIRAM\\\\Documents\\\\Image Classification\\\\train\\\\normal\\\\058.jpeg', 'C:\\\\Users\\\\SRIRAM\\\\Documents\\\\Image Classification\\\\train\\\\normal\\\\059.jpeg', 'C:\\\\Users\\\\SRIRAM\\\\Documents\\\\Image Classification\\\\train\\\\normal\\\\06.jpeg', 'C:\\\\Users\\\\SRIRAM\\\\Documents\\\\Image Classification\\\\train\\\\normal\\\\060.jpeg', 'C:\\\\Users\\\\SRIRAM\\\\Documents\\\\Image Classification\\\\train\\\\normal\\\\061.jpeg', 'C:\\\\Users\\\\SRIRAM\\\\Documents\\\\Image Classification\\\\train\\\\normal\\\\062.jpeg', 'C:\\\\Users\\\\SRIRAM\\\\Documents\\\\Image Classification\\\\train\\\\normal\\\\063.jpeg', 'C:\\\\Users\\\\SRIRAM\\\\Documents\\\\Image Classification\\\\train\\\\normal\\\\064.jpeg', 'C:\\\\Users\\\\SRIRAM\\\\Documents\\\\Image Classification\\\\train\\\\normal\\\\065.jpeg', 'C:\\\\Users\\\\SRIRAM\\\\Documents\\\\Image Classification\\\\train\\\\normal\\\\066.jpeg', 'C:\\\\Users\\\\SRIRAM\\\\Documents\\\\Image Classification\\\\train\\\\normal\\\\067.jpeg', 'C:\\\\Users\\\\SRIRAM\\\\Documents\\\\Image Classification\\\\train\\\\normal\\\\068.jpeg', 'C:\\\\Users\\\\SRIRAM\\\\Documents\\\\Image Classification\\\\train\\\\normal\\\\069.jpeg', 'C:\\\\Users\\\\SRIRAM\\\\Documents\\\\Image Classification\\\\train\\\\normal\\\\07.jpeg', 'C:\\\\Users\\\\SRIRAM\\\\Documents\\\\Image Classification\\\\train\\\\normal\\\\070.jpeg', 'C:\\\\Users\\\\SRIRAM\\\\Documents\\\\Image Classification\\\\train\\\\normal\\\\071.jpeg', 'C:\\\\Users\\\\SRIRAM\\\\Documents\\\\Image Classification\\\\train\\\\normal\\\\072.jpeg', 'C:\\\\Users\\\\SRIRAM\\\\Documents\\\\Image Classification\\\\train\\\\normal\\\\073.jpeg', 'C:\\\\Users\\\\SRIRAM\\\\Documents\\\\Image Classification\\\\train\\\\normal\\\\074.jpeg', 'C:\\\\Users\\\\SRIRAM\\\\Documents\\\\Image Classification\\\\train\\\\normal\\\\075.jpeg', 'C:\\\\Users\\\\SRIRAM\\\\Documents\\\\Image Classification\\\\train\\\\normal\\\\076.jpeg', 'C:\\\\Users\\\\SRIRAM\\\\Documents\\\\Image Classification\\\\train\\\\normal\\\\077.jpeg', 'C:\\\\Users\\\\SRIRAM\\\\Documents\\\\Image Classification\\\\train\\\\normal\\\\079.jpeg', 'C:\\\\Users\\\\SRIRAM\\\\Documents\\\\Image Classification\\\\train\\\\normal\\\\08.jpeg', 'C:\\\\Users\\\\SRIRAM\\\\Documents\\\\Image Classification\\\\train\\\\normal\\\\080.jpeg', 'C:\\\\Users\\\\SRIRAM\\\\Documents\\\\Image Classification\\\\train\\\\normal\\\\081.jpeg', 'C:\\\\Users\\\\SRIRAM\\\\Documents\\\\Image Classification\\\\train\\\\normal\\\\082.jpeg', 'C:\\\\Users\\\\SRIRAM\\\\Documents\\\\Image Classification\\\\train\\\\normal\\\\083.jpeg', 'C:\\\\Users\\\\SRIRAM\\\\Documents\\\\Image Classification\\\\train\\\\normal\\\\084.jpeg', 'C:\\\\Users\\\\SRIRAM\\\\Documents\\\\Image Classification\\\\train\\\\normal\\\\085.jpeg', 'C:\\\\Users\\\\SRIRAM\\\\Documents\\\\Image Classification\\\\train\\\\normal\\\\086.jpeg', 'C:\\\\Users\\\\SRIRAM\\\\Documents\\\\Image Classification\\\\train\\\\normal\\\\087.jpeg', 'C:\\\\Users\\\\SRIRAM\\\\Documents\\\\Image Classification\\\\train\\\\normal\\\\088.jpeg', 'C:\\\\Users\\\\SRIRAM\\\\Documents\\\\Image Classification\\\\train\\\\normal\\\\09.jpeg', 'C:\\\\Users\\\\SRIRAM\\\\Documents\\\\Image Classification\\\\train\\\\normal\\\\091.jpeg', 'C:\\\\Users\\\\SRIRAM\\\\Documents\\\\Image Classification\\\\train\\\\normal\\\\092.jpeg', 'C:\\\\Users\\\\SRIRAM\\\\Documents\\\\Image Classification\\\\train\\\\normal\\\\093.jpeg', 'C:\\\\Users\\\\SRIRAM\\\\Documents\\\\Image Classification\\\\train\\\\normal\\\\094.jpeg', 'C:\\\\Users\\\\SRIRAM\\\\Documents\\\\Image Classification\\\\train\\\\normal\\\\095.jpeg', 'C:\\\\Users\\\\SRIRAM\\\\Documents\\\\Image Classification\\\\train\\\\normal\\\\096.jpeg', 'C:\\\\Users\\\\SRIRAM\\\\Documents\\\\Image Classification\\\\train\\\\normal\\\\097.jpeg']}] Train image categories.\n"
     ]
    }
   ],
   "source": [
    "print(f\"Loaded {test_images} Test image categories.\")\n",
    "print(f\"Loaded {train_images} Train image categories.\")"
   ]
  },
  {
   "cell_type": "code",
   "execution_count": 125,
   "id": "7cf78fe0-3cc3-406c-9d75-666ca3b8be9c",
   "metadata": {
    "scrolled": true
   },
   "outputs": [
    {
     "name": "stdout",
     "output_type": "stream",
     "text": [
      "Requirement already satisfied: tensorflow in c:\\users\\sriram\\anaconda3\\lib\\site-packages (2.17.0)\n",
      "Requirement already satisfied: tensorflow-intel==2.17.0 in c:\\users\\sriram\\anaconda3\\lib\\site-packages (from tensorflow) (2.17.0)\n",
      "Requirement already satisfied: absl-py>=1.0.0 in c:\\users\\sriram\\anaconda3\\lib\\site-packages (from tensorflow-intel==2.17.0->tensorflow) (2.1.0)\n",
      "Requirement already satisfied: astunparse>=1.6.0 in c:\\users\\sriram\\anaconda3\\lib\\site-packages (from tensorflow-intel==2.17.0->tensorflow) (1.6.3)\n",
      "Requirement already satisfied: flatbuffers>=24.3.25 in c:\\users\\sriram\\anaconda3\\lib\\site-packages (from tensorflow-intel==2.17.0->tensorflow) (24.3.25)\n",
      "Requirement already satisfied: gast!=0.5.0,!=0.5.1,!=0.5.2,>=0.2.1 in c:\\users\\sriram\\anaconda3\\lib\\site-packages (from tensorflow-intel==2.17.0->tensorflow) (0.6.0)\n",
      "Requirement already satisfied: google-pasta>=0.1.1 in c:\\users\\sriram\\anaconda3\\lib\\site-packages (from tensorflow-intel==2.17.0->tensorflow) (0.2.0)\n",
      "Requirement already satisfied: h5py>=3.10.0 in c:\\users\\sriram\\anaconda3\\lib\\site-packages (from tensorflow-intel==2.17.0->tensorflow) (3.11.0)\n",
      "Requirement already satisfied: libclang>=13.0.0 in c:\\users\\sriram\\anaconda3\\lib\\site-packages (from tensorflow-intel==2.17.0->tensorflow) (18.1.1)\n",
      "Requirement already satisfied: ml-dtypes<0.5.0,>=0.3.1 in c:\\users\\sriram\\anaconda3\\lib\\site-packages (from tensorflow-intel==2.17.0->tensorflow) (0.3.1)\n",
      "Requirement already satisfied: opt-einsum>=2.3.2 in c:\\users\\sriram\\anaconda3\\lib\\site-packages (from tensorflow-intel==2.17.0->tensorflow) (3.3.0)\n",
      "Requirement already satisfied: packaging in c:\\users\\sriram\\anaconda3\\lib\\site-packages (from tensorflow-intel==2.17.0->tensorflow) (23.2)\n",
      "Requirement already satisfied: protobuf!=4.21.0,!=4.21.1,!=4.21.2,!=4.21.3,!=4.21.4,!=4.21.5,<5.0.0dev,>=3.20.3 in c:\\users\\sriram\\anaconda3\\lib\\site-packages (from tensorflow-intel==2.17.0->tensorflow) (3.20.3)\n",
      "Requirement already satisfied: requests<3,>=2.21.0 in c:\\users\\sriram\\anaconda3\\lib\\site-packages (from tensorflow-intel==2.17.0->tensorflow) (2.31.0)\n",
      "Requirement already satisfied: setuptools in c:\\users\\sriram\\anaconda3\\lib\\site-packages (from tensorflow-intel==2.17.0->tensorflow) (69.5.1)\n",
      "Requirement already satisfied: six>=1.12.0 in c:\\users\\sriram\\anaconda3\\lib\\site-packages (from tensorflow-intel==2.17.0->tensorflow) (1.16.0)\n",
      "Requirement already satisfied: termcolor>=1.1.0 in c:\\users\\sriram\\anaconda3\\lib\\site-packages (from tensorflow-intel==2.17.0->tensorflow) (2.4.0)\n",
      "Requirement already satisfied: typing-extensions>=3.6.6 in c:\\users\\sriram\\anaconda3\\lib\\site-packages (from tensorflow-intel==2.17.0->tensorflow) (4.11.0)\n",
      "Requirement already satisfied: wrapt>=1.11.0 in c:\\users\\sriram\\anaconda3\\lib\\site-packages (from tensorflow-intel==2.17.0->tensorflow) (1.14.1)\n",
      "Requirement already satisfied: grpcio<2.0,>=1.24.3 in c:\\users\\sriram\\anaconda3\\lib\\site-packages (from tensorflow-intel==2.17.0->tensorflow) (1.65.1)\n",
      "Requirement already satisfied: tensorboard<2.18,>=2.17 in c:\\users\\sriram\\anaconda3\\lib\\site-packages (from tensorflow-intel==2.17.0->tensorflow) (2.17.0)\n",
      "Requirement already satisfied: keras>=3.2.0 in c:\\users\\sriram\\anaconda3\\lib\\site-packages (from tensorflow-intel==2.17.0->tensorflow) (3.4.1)\n",
      "Requirement already satisfied: numpy<2.0.0,>=1.26.0 in c:\\users\\sriram\\anaconda3\\lib\\site-packages (from tensorflow-intel==2.17.0->tensorflow) (1.26.4)\n",
      "Requirement already satisfied: wheel<1.0,>=0.23.0 in c:\\users\\sriram\\anaconda3\\lib\\site-packages (from astunparse>=1.6.0->tensorflow-intel==2.17.0->tensorflow) (0.43.0)\n",
      "Requirement already satisfied: rich in c:\\users\\sriram\\anaconda3\\lib\\site-packages (from keras>=3.2.0->tensorflow-intel==2.17.0->tensorflow) (13.3.5)\n",
      "Requirement already satisfied: namex in c:\\users\\sriram\\anaconda3\\lib\\site-packages (from keras>=3.2.0->tensorflow-intel==2.17.0->tensorflow) (0.0.7)\n",
      "Requirement already satisfied: optree in c:\\users\\sriram\\anaconda3\\lib\\site-packages (from keras>=3.2.0->tensorflow-intel==2.17.0->tensorflow) (0.12.1)\n",
      "Requirement already satisfied: charset-normalizer<4,>=2 in c:\\users\\sriram\\anaconda3\\lib\\site-packages (from requests<3,>=2.21.0->tensorflow-intel==2.17.0->tensorflow) (2.0.4)\n",
      "Requirement already satisfied: idna<4,>=2.5 in c:\\users\\sriram\\anaconda3\\lib\\site-packages (from requests<3,>=2.21.0->tensorflow-intel==2.17.0->tensorflow) (3.7)\n",
      "Requirement already satisfied: urllib3<3,>=1.21.1 in c:\\users\\sriram\\anaconda3\\lib\\site-packages (from requests<3,>=2.21.0->tensorflow-intel==2.17.0->tensorflow) (1.26.19)\n",
      "Requirement already satisfied: certifi>=2017.4.17 in c:\\users\\sriram\\anaconda3\\lib\\site-packages (from requests<3,>=2.21.0->tensorflow-intel==2.17.0->tensorflow) (2024.7.4)\n",
      "Requirement already satisfied: markdown>=2.6.8 in c:\\users\\sriram\\anaconda3\\lib\\site-packages (from tensorboard<2.18,>=2.17->tensorflow-intel==2.17.0->tensorflow) (3.4.1)\n",
      "Requirement already satisfied: tensorboard-data-server<0.8.0,>=0.7.0 in c:\\users\\sriram\\anaconda3\\lib\\site-packages (from tensorboard<2.18,>=2.17->tensorflow-intel==2.17.0->tensorflow) (0.7.2)\n",
      "Requirement already satisfied: werkzeug>=1.0.1 in c:\\users\\sriram\\anaconda3\\lib\\site-packages (from tensorboard<2.18,>=2.17->tensorflow-intel==2.17.0->tensorflow) (3.0.3)\n",
      "Requirement already satisfied: MarkupSafe>=2.1.1 in c:\\users\\sriram\\anaconda3\\lib\\site-packages (from werkzeug>=1.0.1->tensorboard<2.18,>=2.17->tensorflow-intel==2.17.0->tensorflow) (2.1.3)\n",
      "Requirement already satisfied: markdown-it-py<3.0.0,>=2.2.0 in c:\\users\\sriram\\anaconda3\\lib\\site-packages (from rich->keras>=3.2.0->tensorflow-intel==2.17.0->tensorflow) (2.2.0)\n",
      "Requirement already satisfied: pygments<3.0.0,>=2.13.0 in c:\\users\\sriram\\anaconda3\\lib\\site-packages (from rich->keras>=3.2.0->tensorflow-intel==2.17.0->tensorflow) (2.15.1)\n",
      "Requirement already satisfied: mdurl~=0.1 in c:\\users\\sriram\\anaconda3\\lib\\site-packages (from markdown-it-py<3.0.0,>=2.2.0->rich->keras>=3.2.0->tensorflow-intel==2.17.0->tensorflow) (0.1.0)\n",
      "Requirement already satisfied: efficientnet in c:\\users\\sriram\\anaconda3\\lib\\site-packages (1.1.1)\n",
      "Requirement already satisfied: keras-applications<=1.0.8,>=1.0.7 in c:\\users\\sriram\\anaconda3\\lib\\site-packages (from efficientnet) (1.0.8)\n",
      "Requirement already satisfied: scikit-image in c:\\users\\sriram\\anaconda3\\lib\\site-packages (from efficientnet) (0.23.2)\n",
      "Requirement already satisfied: numpy>=1.9.1 in c:\\users\\sriram\\anaconda3\\lib\\site-packages (from keras-applications<=1.0.8,>=1.0.7->efficientnet) (1.26.4)\n",
      "Requirement already satisfied: h5py in c:\\users\\sriram\\anaconda3\\lib\\site-packages (from keras-applications<=1.0.8,>=1.0.7->efficientnet) (3.11.0)\n",
      "Requirement already satisfied: scipy>=1.9 in c:\\users\\sriram\\anaconda3\\lib\\site-packages (from scikit-image->efficientnet) (1.13.1)\n",
      "Requirement already satisfied: networkx>=2.8 in c:\\users\\sriram\\anaconda3\\lib\\site-packages (from scikit-image->efficientnet) (3.2.1)\n",
      "Requirement already satisfied: pillow>=9.1 in c:\\users\\sriram\\anaconda3\\lib\\site-packages (from scikit-image->efficientnet) (10.3.0)\n",
      "Requirement already satisfied: imageio>=2.33 in c:\\users\\sriram\\anaconda3\\lib\\site-packages (from scikit-image->efficientnet) (2.33.1)\n",
      "Requirement already satisfied: tifffile>=2022.8.12 in c:\\users\\sriram\\anaconda3\\lib\\site-packages (from scikit-image->efficientnet) (2023.4.12)\n",
      "Requirement already satisfied: packaging>=21 in c:\\users\\sriram\\anaconda3\\lib\\site-packages (from scikit-image->efficientnet) (23.2)\n",
      "Requirement already satisfied: lazy-loader>=0.4 in c:\\users\\sriram\\anaconda3\\lib\\site-packages (from scikit-image->efficientnet) (0.4)\n"
     ]
    }
   ],
   "source": [
    "!pip install tensorflow\n",
    "!pip install -U efficientnet"
   ]
  },
  {
   "cell_type": "code",
   "execution_count": 126,
   "id": "12e76b83-a493-48fb-b66e-bd9dd5939991",
   "metadata": {},
   "outputs": [
    {
     "name": "stdout",
     "output_type": "stream",
     "text": [
      "   category                                              image\n",
      "0     covid  C:\\Users\\SRIRAM\\Documents\\Image Classification...\n",
      "1     covid  C:\\Users\\SRIRAM\\Documents\\Image Classification...\n",
      "2     covid  C:\\Users\\SRIRAM\\Documents\\Image Classification...\n",
      "3     covid  C:\\Users\\SRIRAM\\Documents\\Image Classification...\n",
      "4     covid  C:\\Users\\SRIRAM\\Documents\\Image Classification...\n",
      "5     covid  C:\\Users\\SRIRAM\\Documents\\Image Classification...\n",
      "6     covid  C:\\Users\\SRIRAM\\Documents\\Image Classification...\n",
      "7     covid  C:\\Users\\SRIRAM\\Documents\\Image Classification...\n",
      "8     covid  C:\\Users\\SRIRAM\\Documents\\Image Classification...\n",
      "9     covid  C:\\Users\\SRIRAM\\Documents\\Image Classification...\n",
      "10    covid  C:\\Users\\SRIRAM\\Documents\\Image Classification...\n",
      "11    covid  C:\\Users\\SRIRAM\\Documents\\Image Classification...\n",
      "12    covid  C:\\Users\\SRIRAM\\Documents\\Image Classification...\n",
      "13    covid  C:\\Users\\SRIRAM\\Documents\\Image Classification...\n",
      "14    covid  C:\\Users\\SRIRAM\\Documents\\Image Classification...\n",
      "15    covid  C:\\Users\\SRIRAM\\Documents\\Image Classification...\n",
      "16    covid  C:\\Users\\SRIRAM\\Documents\\Image Classification...\n",
      "17    covid  C:\\Users\\SRIRAM\\Documents\\Image Classification...\n",
      "18    covid  C:\\Users\\SRIRAM\\Documents\\Image Classification...\n",
      "19    covid  C:\\Users\\SRIRAM\\Documents\\Image Classification...\n",
      "20    covid  C:\\Users\\SRIRAM\\Documents\\Image Classification...\n",
      "21    covid  C:\\Users\\SRIRAM\\Documents\\Image Classification...\n",
      "22    covid  C:\\Users\\SRIRAM\\Documents\\Image Classification...\n",
      "23    covid  C:\\Users\\SRIRAM\\Documents\\Image Classification...\n",
      "24    covid  C:\\Users\\SRIRAM\\Documents\\Image Classification...\n",
      "25    covid  C:\\Users\\SRIRAM\\Documents\\Image Classification...\n",
      "26   normal  C:\\Users\\SRIRAM\\Documents\\Image Classification...\n",
      "27   normal  C:\\Users\\SRIRAM\\Documents\\Image Classification...\n",
      "28   normal  C:\\Users\\SRIRAM\\Documents\\Image Classification...\n",
      "29   normal  C:\\Users\\SRIRAM\\Documents\\Image Classification...\n",
      "30   normal  C:\\Users\\SRIRAM\\Documents\\Image Classification...\n",
      "31   normal  C:\\Users\\SRIRAM\\Documents\\Image Classification...\n",
      "32   normal  C:\\Users\\SRIRAM\\Documents\\Image Classification...\n",
      "33   normal  C:\\Users\\SRIRAM\\Documents\\Image Classification...\n",
      "34   normal  C:\\Users\\SRIRAM\\Documents\\Image Classification...\n",
      "35   normal  C:\\Users\\SRIRAM\\Documents\\Image Classification...\n",
      "36   normal  C:\\Users\\SRIRAM\\Documents\\Image Classification...\n",
      "37   normal  C:\\Users\\SRIRAM\\Documents\\Image Classification...\n",
      "38   normal  C:\\Users\\SRIRAM\\Documents\\Image Classification...\n",
      "39   normal  C:\\Users\\SRIRAM\\Documents\\Image Classification...\n",
      "40   normal  C:\\Users\\SRIRAM\\Documents\\Image Classification...\n",
      "41   normal  C:\\Users\\SRIRAM\\Documents\\Image Classification...\n",
      "42   normal  C:\\Users\\SRIRAM\\Documents\\Image Classification...\n",
      "43   normal  C:\\Users\\SRIRAM\\Documents\\Image Classification...\n",
      "44   normal  C:\\Users\\SRIRAM\\Documents\\Image Classification...\n",
      "45   normal  C:\\Users\\SRIRAM\\Documents\\Image Classification...\n"
     ]
    }
   ],
   "source": [
    "import pandas as pd\n",
    "flattened_data = []\n",
    "for entry in test_images:\n",
    "    category = entry['category']\n",
    "    for img in entry['images']:\n",
    "        flattened_data.append({'category': category, 'image': img})\n",
    "\n",
    "# Convert to DataFrame\n",
    "test_dataset = pd.DataFrame(flattened_data)\n",
    "\n",
    "# Display the DataFrame\n",
    "print(test_dataset)"
   ]
  },
  {
   "cell_type": "code",
   "execution_count": 127,
   "id": "92d0b06d-ff58-4ce0-abe7-0a882e80193b",
   "metadata": {},
   "outputs": [],
   "source": [
    "test_dataset_f = test_dataset.sample(frac=1).reset_index(drop=True)\n"
   ]
  },
  {
   "cell_type": "code",
   "execution_count": 128,
   "id": "f0235ada-4c31-43a0-8aa9-8c787ed83d74",
   "metadata": {},
   "outputs": [
    {
     "name": "stdout",
     "output_type": "stream",
     "text": [
      "    category                                              image\n",
      "0      covid  C:\\Users\\SRIRAM\\Documents\\Image Classification...\n",
      "1      covid  C:\\Users\\SRIRAM\\Documents\\Image Classification...\n",
      "2      covid  C:\\Users\\SRIRAM\\Documents\\Image Classification...\n",
      "3      covid  C:\\Users\\SRIRAM\\Documents\\Image Classification...\n",
      "4      covid  C:\\Users\\SRIRAM\\Documents\\Image Classification...\n",
      "..       ...                                                ...\n",
      "176   normal  C:\\Users\\SRIRAM\\Documents\\Image Classification...\n",
      "177   normal  C:\\Users\\SRIRAM\\Documents\\Image Classification...\n",
      "178   normal  C:\\Users\\SRIRAM\\Documents\\Image Classification...\n",
      "179   normal  C:\\Users\\SRIRAM\\Documents\\Image Classification...\n",
      "180   normal  C:\\Users\\SRIRAM\\Documents\\Image Classification...\n",
      "\n",
      "[181 rows x 2 columns]\n"
     ]
    }
   ],
   "source": [
    "import pandas as pd\n",
    "flattened_data = []\n",
    "for entry in train_images:\n",
    "    category = entry['category']\n",
    "    for img in entry['images']:\n",
    "        flattened_data.append({'category': category, 'image': img})\n",
    "\n",
    "# Convert to DataFrame\n",
    "train_dataset = pd.DataFrame(flattened_data)\n",
    "\n",
    "# Display the DataFrame\n",
    "print(train_dataset)"
   ]
  },
  {
   "cell_type": "code",
   "execution_count": 129,
   "id": "065acc51-35c1-4b94-8802-107166db0d16",
   "metadata": {},
   "outputs": [],
   "source": [
    "train_dataset_f = train_dataset.sample(frac=1).reset_index(drop=True)"
   ]
  },
  {
   "cell_type": "code",
   "execution_count": 130,
   "id": "bf88bf4e-6877-47f6-b7fe-8f9fb274aab9",
   "metadata": {},
   "outputs": [
    {
     "name": "stdout",
     "output_type": "stream",
     "text": [
      "Label to Integer Mapping:\n",
      "covid: 0\n",
      "normal: 1\n"
     ]
    }
   ],
   "source": [
    "from sklearn.preprocessing import LabelEncoder\n",
    "# Initialize the LabelEncoder\n",
    "label_encoder = LabelEncoder()\n",
    "\n",
    "# Fit and transform the 'category' column\n",
    "train_dataset_f['category_encoded'] = label_encoder.fit_transform(train_dataset_f['category'])\n",
    "\n",
    "# Print the DataFrame with encoded labels\n",
    "#print(train_dataset_f)\n",
    "\n",
    "# Retrieve and print the mapping of labels to integers\n",
    "classes_tra = label_encoder.classes_\n",
    "print(\"Label to Integer Mapping:\")\n",
    "for idx, label in enumerate(classes_tra):\n",
    "    print(f\"{label}: {idx}\")\n",
    "\n"
   ]
  },
  {
   "cell_type": "code",
   "execution_count": 131,
   "id": "8fb6150f-fbd3-4168-b5ee-5a58bd0646ee",
   "metadata": {},
   "outputs": [
    {
     "name": "stdout",
     "output_type": "stream",
     "text": [
      "Label to Integer Mapping:\n",
      "covid: 0\n",
      "normal: 1\n"
     ]
    }
   ],
   "source": [
    "# Initialize the LabelEncoder\n",
    "label_encoder = LabelEncoder()\n",
    "\n",
    "# Fit and transform the 'category' column\n",
    "test_dataset_f['category_encoded'] = label_encoder.fit_transform(test_dataset_f['category'])\n",
    "\n",
    "# Print the DataFrame with encoded labels\n",
    "#print(df)\n",
    "\n",
    "# Retrieve and print the mapping of labels to integers\n",
    "classes_tes = label_encoder.classes_\n",
    "print(\"Label to Integer Mapping:\")\n",
    "for idx, label in enumerate(classes_tes):\n",
    "    print(f\"{label}: {idx}\")\n",
    "\n"
   ]
  },
  {
   "cell_type": "code",
   "execution_count": 132,
   "id": "19f1af79-4f25-4a3e-a1b4-20ac7c88c35b",
   "metadata": {},
   "outputs": [
    {
     "name": "stdout",
     "output_type": "stream",
     "text": [
      "Found 181 validated image filenames belonging to 2 classes.\n",
      "Found 46 validated image filenames belonging to 2 classes.\n"
     ]
    },
    {
     "name": "stderr",
     "output_type": "stream",
     "text": [
      "C:\\Users\\SRIRAM\\anaconda3\\Lib\\site-packages\\keras\\src\\layers\\convolutional\\base_conv.py:107: UserWarning: Do not pass an `input_shape`/`input_dim` argument to a layer. When using Sequential models, prefer using an `Input(shape)` object as the first layer in the model instead.\n",
      "  super().__init__(activity_regularizer=activity_regularizer, **kwargs)\n"
     ]
    },
    {
     "name": "stdout",
     "output_type": "stream",
     "text": [
      "Epoch 1/10\n"
     ]
    },
    {
     "name": "stderr",
     "output_type": "stream",
     "text": [
      "C:\\Users\\SRIRAM\\anaconda3\\Lib\\site-packages\\keras\\src\\trainers\\data_adapters\\py_dataset_adapter.py:121: UserWarning: Your `PyDataset` class should call `super().__init__(**kwargs)` in its constructor. `**kwargs` can include `workers`, `use_multiprocessing`, `max_queue_size`. Do not pass these arguments to `fit()`, as they will be ignored.\n",
      "  self._warn_if_super_not_called()\n"
     ]
    },
    {
     "name": "stdout",
     "output_type": "stream",
     "text": [
      "\u001b[1m6/6\u001b[0m \u001b[32m━━━━━━━━━━━━━━━━━━━━\u001b[0m\u001b[37m\u001b[0m \u001b[1m21s\u001b[0m 1s/step - accuracy: 0.5845 - loss: 1.0365 - val_accuracy: 0.7609 - val_loss: 0.5667\n",
      "Epoch 2/10\n",
      "\u001b[1m6/6\u001b[0m \u001b[32m━━━━━━━━━━━━━━━━━━━━\u001b[0m\u001b[37m\u001b[0m \u001b[1m15s\u001b[0m 1s/step - accuracy: 0.6288 - loss: 0.6295 - val_accuracy: 1.0000 - val_loss: 0.3036\n",
      "Epoch 3/10\n",
      "\u001b[1m6/6\u001b[0m \u001b[32m━━━━━━━━━━━━━━━━━━━━\u001b[0m\u001b[37m\u001b[0m \u001b[1m15s\u001b[0m 1s/step - accuracy: 0.8163 - loss: 0.4323 - val_accuracy: 0.9783 - val_loss: 0.1009\n",
      "Epoch 4/10\n",
      "\u001b[1m6/6\u001b[0m \u001b[32m━━━━━━━━━━━━━━━━━━━━\u001b[0m\u001b[37m\u001b[0m \u001b[1m16s\u001b[0m 1s/step - accuracy: 0.8915 - loss: 0.3276 - val_accuracy: 0.9565 - val_loss: 0.1115\n",
      "Epoch 5/10\n",
      "\u001b[1m6/6\u001b[0m \u001b[32m━━━━━━━━━━━━━━━━━━━━\u001b[0m\u001b[37m\u001b[0m \u001b[1m15s\u001b[0m 1s/step - accuracy: 0.9033 - loss: 0.2269 - val_accuracy: 0.9783 - val_loss: 0.0649\n",
      "Epoch 6/10\n",
      "\u001b[1m6/6\u001b[0m \u001b[32m━━━━━━━━━━━━━━━━━━━━\u001b[0m\u001b[37m\u001b[0m \u001b[1m16s\u001b[0m 1s/step - accuracy: 0.9366 - loss: 0.1879 - val_accuracy: 0.9348 - val_loss: 0.1560\n",
      "Epoch 7/10\n",
      "\u001b[1m6/6\u001b[0m \u001b[32m━━━━━━━━━━━━━━━━━━━━\u001b[0m\u001b[37m\u001b[0m \u001b[1m15s\u001b[0m 962ms/step - accuracy: 0.9407 - loss: 0.1750 - val_accuracy: 0.8478 - val_loss: 0.2651\n",
      "Epoch 8/10\n",
      "\u001b[1m6/6\u001b[0m \u001b[32m━━━━━━━━━━━━━━━━━━━━\u001b[0m\u001b[37m\u001b[0m \u001b[1m15s\u001b[0m 940ms/step - accuracy: 0.9259 - loss: 0.2437 - val_accuracy: 1.0000 - val_loss: 0.0302\n",
      "Epoch 9/10\n",
      "\u001b[1m6/6\u001b[0m \u001b[32m━━━━━━━━━━━━━━━━━━━━\u001b[0m\u001b[37m\u001b[0m \u001b[1m15s\u001b[0m 921ms/step - accuracy: 0.9082 - loss: 0.2199 - val_accuracy: 0.9783 - val_loss: 0.0554\n",
      "Epoch 10/10\n",
      "\u001b[1m6/6\u001b[0m \u001b[32m━━━━━━━━━━━━━━━━━━━━\u001b[0m\u001b[37m\u001b[0m \u001b[1m16s\u001b[0m 911ms/step - accuracy: 0.9267 - loss: 0.1895 - val_accuracy: 0.9348 - val_loss: 0.1632\n",
      "\u001b[1m2/2\u001b[0m \u001b[32m━━━━━━━━━━━━━━━━━━━━\u001b[0m\u001b[37m\u001b[0m \u001b[1m2s\u001b[0m 518ms/step - accuracy: 0.9357 - loss: 0.1640\n"
     ]
    },
    {
     "name": "stderr",
     "output_type": "stream",
     "text": [
      "WARNING:absl:You are saving your model as an HDF5 file via `model.save()` or `keras.saving.save_model(model)`. This file format is considered legacy. We recommend using instead the native Keras format, e.g. `model.save('my_model.keras')` or `keras.saving.save_model(model, 'my_model.keras')`. \n"
     ]
    },
    {
     "name": "stdout",
     "output_type": "stream",
     "text": [
      "Validation accuracy: 0.9347826242446899\n"
     ]
    }
   ],
   "source": [
    "import pandas as pd\n",
    "from tensorflow.keras.preprocessing.image import ImageDataGenerator\n",
    "from tensorflow.keras.models import Sequential\n",
    "from tensorflow.keras.layers import Conv2D, MaxPooling2D, Flatten, Dense, Dropout\n",
    "\n",
    "\n",
    "# Label Encoding\n",
    "\n",
    "# Create ImageDataGenerators\n",
    "train_datagen = ImageDataGenerator(\n",
    "    rescale=1./255, \n",
    "    rotation_range=20, \n",
    "    zoom_range=0.2, \n",
    "    horizontal_flip=True\n",
    ")\n",
    "\n",
    "val_datagen = ImageDataGenerator(rescale=1./255)\n",
    "\n",
    "# Create data generators using flow_from_dataframe\n",
    "train_generator = train_datagen.flow_from_dataframe(\n",
    "    dataframe=train_dataset_f,\n",
    "    x_col='image',\n",
    "    y_col='category',\n",
    "    target_size=(150, 150),\n",
    "    batch_size=32,\n",
    "    class_mode='binary'  # Change to 'categorical' if you have more than 2 classes\n",
    ")\n",
    "\n",
    "val_generator = val_datagen.flow_from_dataframe(\n",
    "    dataframe=test_dataset_f,\n",
    "    x_col='image',\n",
    "    y_col='category',\n",
    "    target_size=(150, 150),\n",
    "    batch_size=32,\n",
    "    class_mode='binary'\n",
    ")\n",
    "\n",
    "# Model selection and architecture\n",
    "model = Sequential([\n",
    "    Conv2D(32, (3, 3), activation='relu', input_shape=(150, 150, 3)),\n",
    "    MaxPooling2D((2, 2)),\n",
    "    Conv2D(64, (3, 3), activation='relu'),\n",
    "    MaxPooling2D((2, 2)),\n",
    "    Conv2D(128, (3, 3), activation='relu'),\n",
    "    MaxPooling2D((2, 2)),\n",
    "    Flatten(),\n",
    "    Dense(512, activation='relu'),\n",
    "    Dropout(0.5),\n",
    "    Dense(1, activation='sigmoid')  # Change to match the number of classes\n",
    "])\n",
    "\n",
    "# Compile and train the model\n",
    "model.compile(optimizer='adam', loss='binary_crossentropy', metrics=['accuracy'])\n",
    "\n",
    "history = model.fit(train_generator, epochs=10, validation_data=val_generator)\n",
    "\n",
    "# Evaluate the model\n",
    "test_loss, test_acc = model.evaluate(val_generator)\n",
    "print('Validation accuracy:', test_acc)\n",
    "\n",
    "# Save the model\n",
    "model.save('my_model.h5')"
   ]
  },
  {
   "cell_type": "code",
   "execution_count": 133,
   "id": "f3803ea5-7091-49e3-bd89-c06a9e8f2459",
   "metadata": {},
   "outputs": [
    {
     "name": "stdout",
     "output_type": "stream",
     "text": [
      "\u001b[1m1/1\u001b[0m \u001b[32m━━━━━━━━━━━━━━━━━━━━\u001b[0m\u001b[37m\u001b[0m \u001b[1m0s\u001b[0m 131ms/step\n",
      "The predicted class is: covid\n"
     ]
    }
   ],
   "source": [
    "\n",
    "# Example usage\n",
    "image_path_axby = 'C:\\\\Users\\\\SRIRAM\\\\Documents\\\\Image Classification\\\\covid.jpg'\n",
    "\n",
    "\n",
    "# Load the image using OpenCV\n",
    "image_pred = cv2.imread(image_path_axby)\n",
    "\n",
    "# Resize the image to match the input shape of the model (150x150)\n",
    "image_pred = cv2.resize(image_pred, (150, 150))\n",
    "\n",
    "# Convert the image to a numpy array\n",
    "image_pred = np.array(image_pred)\n",
    "\n",
    "# Rescale the image (if the model was trained with rescaling)\n",
    "image_pred = image_pred / 255.0\n",
    "\n",
    "# Add an extra dimension to match the input shape (1, 150, 150, 3)\n",
    "image_pred = np.expand_dims(image_pred, axis=0)\n",
    "\n",
    "# Predict using the model\n",
    "prediction = model.predict(image_pred)\n",
    "\n",
    "# Decode the prediction\n",
    "predicted_class = 'normal' if prediction[0][0] > 1 else 'covid'\n",
    "\n",
    "# Print the predicted class\n",
    "print(f'The predicted class is: {predicted_class}')"
   ]
  },
  {
   "cell_type": "code",
   "execution_count": 134,
   "id": "09d1577d-65ad-4f57-a84f-18e184bdf39d",
   "metadata": {},
   "outputs": [],
   "source": [
    "model.save('my_model.keras')\n"
   ]
  },
  {
   "cell_type": "code",
   "execution_count": 135,
   "id": "9904cecb-cdff-41b1-8fc5-ba057858049d",
   "metadata": {},
   "outputs": [
    {
     "name": "stdout",
     "output_type": "stream",
     "text": [
      "Shape of the preprocessed image: (1, 150, 150, 3)\n",
      "\u001b[1m1/1\u001b[0m \u001b[32m━━━━━━━━━━━━━━━━━━━━\u001b[0m\u001b[37m\u001b[0m \u001b[1m0s\u001b[0m 37ms/step\n",
      "The predicted class is: normal\n",
      "[[0.9978219]]\n"
     ]
    }
   ],
   "source": [
    "# Example usage\n",
    "image_path_axby_o = 'C:\\\\Users\\\\SRIRAM\\\\Documents\\\\Image Classification\\\\0103.jpeg'\n",
    "\n",
    "\n",
    "# Load the image using OpenCV\n",
    "image_pred = cv2.imread(image_path_axby_o)\n",
    "\n",
    "if image_pred is None:\n",
    "    print(f\"Error: Unable to load image at {image_path}\")\n",
    "else:\n",
    "    # Resize the image to match the input shape of the model (150x150)\n",
    "    image_pred = cv2.resize(image_pred, (150, 150))\n",
    "\n",
    "    # Convert the image to a numpy array\n",
    "    image_pred = np.array(image_pred)\n",
    "\n",
    "    # Rescale the image (if the model was trained with rescaling)\n",
    "    image_pred = image_pred / 255.0\n",
    "\n",
    "    # Add an extra dimension to match the input shape (1, 150, 150, 3)\n",
    "    image_pred = np.expand_dims(image_pred, axis=0)\n",
    "\n",
    "    # Print the shape of the preprocessed image\n",
    "    print(\"Shape of the preprocessed image:\", image_pred.shape)\n",
    "\n",
    "    # Predict using the model\n",
    "    prediction = model.predict(image_pred)\n",
    "\n",
    "    # Decode the prediction\n",
    "    predicted_class = 'normal' if round(prediction[0][0]) == 1 else 'covid'\n",
    "\n",
    "    # Print the predicted class\n",
    "    print(f'The predicted class is: {predicted_class}')\n",
    "    print(prediction)"
   ]
  },
  {
   "cell_type": "code",
   "execution_count": 136,
   "id": "735e7600-8ada-41c2-986f-6b29c9bdf231",
   "metadata": {},
   "outputs": [
    {
     "data": {
      "text/html": [
       "<pre style=\"white-space:pre;overflow-x:auto;line-height:normal;font-family:Menlo,'DejaVu Sans Mono',consolas,'Courier New',monospace\"><span style=\"font-weight: bold\">Model: \"sequential_3\"</span>\n",
       "</pre>\n"
      ],
      "text/plain": [
       "\u001b[1mModel: \"sequential_3\"\u001b[0m\n"
      ]
     },
     "metadata": {},
     "output_type": "display_data"
    },
    {
     "data": {
      "text/html": [
       "<pre style=\"white-space:pre;overflow-x:auto;line-height:normal;font-family:Menlo,'DejaVu Sans Mono',consolas,'Courier New',monospace\">┏━━━━━━━━━━━━━━━━━━━━━━━━━━━━━━━━━┳━━━━━━━━━━━━━━━━━━━━━━━━┳━━━━━━━━━━━━━━━┓\n",
       "┃<span style=\"font-weight: bold\"> Layer (type)                    </span>┃<span style=\"font-weight: bold\"> Output Shape           </span>┃<span style=\"font-weight: bold\">       Param # </span>┃\n",
       "┡━━━━━━━━━━━━━━━━━━━━━━━━━━━━━━━━━╇━━━━━━━━━━━━━━━━━━━━━━━━╇━━━━━━━━━━━━━━━┩\n",
       "│ conv2d_9 (<span style=\"color: #0087ff; text-decoration-color: #0087ff\">Conv2D</span>)               │ (<span style=\"color: #00d7ff; text-decoration-color: #00d7ff\">None</span>, <span style=\"color: #00af00; text-decoration-color: #00af00\">148</span>, <span style=\"color: #00af00; text-decoration-color: #00af00\">148</span>, <span style=\"color: #00af00; text-decoration-color: #00af00\">32</span>)   │           <span style=\"color: #00af00; text-decoration-color: #00af00\">896</span> │\n",
       "├─────────────────────────────────┼────────────────────────┼───────────────┤\n",
       "│ max_pooling2d_9 (<span style=\"color: #0087ff; text-decoration-color: #0087ff\">MaxPooling2D</span>)  │ (<span style=\"color: #00d7ff; text-decoration-color: #00d7ff\">None</span>, <span style=\"color: #00af00; text-decoration-color: #00af00\">74</span>, <span style=\"color: #00af00; text-decoration-color: #00af00\">74</span>, <span style=\"color: #00af00; text-decoration-color: #00af00\">32</span>)     │             <span style=\"color: #00af00; text-decoration-color: #00af00\">0</span> │\n",
       "├─────────────────────────────────┼────────────────────────┼───────────────┤\n",
       "│ conv2d_10 (<span style=\"color: #0087ff; text-decoration-color: #0087ff\">Conv2D</span>)              │ (<span style=\"color: #00d7ff; text-decoration-color: #00d7ff\">None</span>, <span style=\"color: #00af00; text-decoration-color: #00af00\">72</span>, <span style=\"color: #00af00; text-decoration-color: #00af00\">72</span>, <span style=\"color: #00af00; text-decoration-color: #00af00\">64</span>)     │        <span style=\"color: #00af00; text-decoration-color: #00af00\">18,496</span> │\n",
       "├─────────────────────────────────┼────────────────────────┼───────────────┤\n",
       "│ max_pooling2d_10 (<span style=\"color: #0087ff; text-decoration-color: #0087ff\">MaxPooling2D</span>) │ (<span style=\"color: #00d7ff; text-decoration-color: #00d7ff\">None</span>, <span style=\"color: #00af00; text-decoration-color: #00af00\">36</span>, <span style=\"color: #00af00; text-decoration-color: #00af00\">36</span>, <span style=\"color: #00af00; text-decoration-color: #00af00\">64</span>)     │             <span style=\"color: #00af00; text-decoration-color: #00af00\">0</span> │\n",
       "├─────────────────────────────────┼────────────────────────┼───────────────┤\n",
       "│ conv2d_11 (<span style=\"color: #0087ff; text-decoration-color: #0087ff\">Conv2D</span>)              │ (<span style=\"color: #00d7ff; text-decoration-color: #00d7ff\">None</span>, <span style=\"color: #00af00; text-decoration-color: #00af00\">34</span>, <span style=\"color: #00af00; text-decoration-color: #00af00\">34</span>, <span style=\"color: #00af00; text-decoration-color: #00af00\">128</span>)    │        <span style=\"color: #00af00; text-decoration-color: #00af00\">73,856</span> │\n",
       "├─────────────────────────────────┼────────────────────────┼───────────────┤\n",
       "│ max_pooling2d_11 (<span style=\"color: #0087ff; text-decoration-color: #0087ff\">MaxPooling2D</span>) │ (<span style=\"color: #00d7ff; text-decoration-color: #00d7ff\">None</span>, <span style=\"color: #00af00; text-decoration-color: #00af00\">17</span>, <span style=\"color: #00af00; text-decoration-color: #00af00\">17</span>, <span style=\"color: #00af00; text-decoration-color: #00af00\">128</span>)    │             <span style=\"color: #00af00; text-decoration-color: #00af00\">0</span> │\n",
       "├─────────────────────────────────┼────────────────────────┼───────────────┤\n",
       "│ flatten_3 (<span style=\"color: #0087ff; text-decoration-color: #0087ff\">Flatten</span>)             │ (<span style=\"color: #00d7ff; text-decoration-color: #00d7ff\">None</span>, <span style=\"color: #00af00; text-decoration-color: #00af00\">36992</span>)          │             <span style=\"color: #00af00; text-decoration-color: #00af00\">0</span> │\n",
       "├─────────────────────────────────┼────────────────────────┼───────────────┤\n",
       "│ dense_6 (<span style=\"color: #0087ff; text-decoration-color: #0087ff\">Dense</span>)                 │ (<span style=\"color: #00d7ff; text-decoration-color: #00d7ff\">None</span>, <span style=\"color: #00af00; text-decoration-color: #00af00\">512</span>)            │    <span style=\"color: #00af00; text-decoration-color: #00af00\">18,940,416</span> │\n",
       "├─────────────────────────────────┼────────────────────────┼───────────────┤\n",
       "│ dropout_3 (<span style=\"color: #0087ff; text-decoration-color: #0087ff\">Dropout</span>)             │ (<span style=\"color: #00d7ff; text-decoration-color: #00d7ff\">None</span>, <span style=\"color: #00af00; text-decoration-color: #00af00\">512</span>)            │             <span style=\"color: #00af00; text-decoration-color: #00af00\">0</span> │\n",
       "├─────────────────────────────────┼────────────────────────┼───────────────┤\n",
       "│ dense_7 (<span style=\"color: #0087ff; text-decoration-color: #0087ff\">Dense</span>)                 │ (<span style=\"color: #00d7ff; text-decoration-color: #00d7ff\">None</span>, <span style=\"color: #00af00; text-decoration-color: #00af00\">1</span>)              │           <span style=\"color: #00af00; text-decoration-color: #00af00\">513</span> │\n",
       "└─────────────────────────────────┴────────────────────────┴───────────────┘\n",
       "</pre>\n"
      ],
      "text/plain": [
       "┏━━━━━━━━━━━━━━━━━━━━━━━━━━━━━━━━━┳━━━━━━━━━━━━━━━━━━━━━━━━┳━━━━━━━━━━━━━━━┓\n",
       "┃\u001b[1m \u001b[0m\u001b[1mLayer (type)                   \u001b[0m\u001b[1m \u001b[0m┃\u001b[1m \u001b[0m\u001b[1mOutput Shape          \u001b[0m\u001b[1m \u001b[0m┃\u001b[1m \u001b[0m\u001b[1m      Param #\u001b[0m\u001b[1m \u001b[0m┃\n",
       "┡━━━━━━━━━━━━━━━━━━━━━━━━━━━━━━━━━╇━━━━━━━━━━━━━━━━━━━━━━━━╇━━━━━━━━━━━━━━━┩\n",
       "│ conv2d_9 (\u001b[38;5;33mConv2D\u001b[0m)               │ (\u001b[38;5;45mNone\u001b[0m, \u001b[38;5;34m148\u001b[0m, \u001b[38;5;34m148\u001b[0m, \u001b[38;5;34m32\u001b[0m)   │           \u001b[38;5;34m896\u001b[0m │\n",
       "├─────────────────────────────────┼────────────────────────┼───────────────┤\n",
       "│ max_pooling2d_9 (\u001b[38;5;33mMaxPooling2D\u001b[0m)  │ (\u001b[38;5;45mNone\u001b[0m, \u001b[38;5;34m74\u001b[0m, \u001b[38;5;34m74\u001b[0m, \u001b[38;5;34m32\u001b[0m)     │             \u001b[38;5;34m0\u001b[0m │\n",
       "├─────────────────────────────────┼────────────────────────┼───────────────┤\n",
       "│ conv2d_10 (\u001b[38;5;33mConv2D\u001b[0m)              │ (\u001b[38;5;45mNone\u001b[0m, \u001b[38;5;34m72\u001b[0m, \u001b[38;5;34m72\u001b[0m, \u001b[38;5;34m64\u001b[0m)     │        \u001b[38;5;34m18,496\u001b[0m │\n",
       "├─────────────────────────────────┼────────────────────────┼───────────────┤\n",
       "│ max_pooling2d_10 (\u001b[38;5;33mMaxPooling2D\u001b[0m) │ (\u001b[38;5;45mNone\u001b[0m, \u001b[38;5;34m36\u001b[0m, \u001b[38;5;34m36\u001b[0m, \u001b[38;5;34m64\u001b[0m)     │             \u001b[38;5;34m0\u001b[0m │\n",
       "├─────────────────────────────────┼────────────────────────┼───────────────┤\n",
       "│ conv2d_11 (\u001b[38;5;33mConv2D\u001b[0m)              │ (\u001b[38;5;45mNone\u001b[0m, \u001b[38;5;34m34\u001b[0m, \u001b[38;5;34m34\u001b[0m, \u001b[38;5;34m128\u001b[0m)    │        \u001b[38;5;34m73,856\u001b[0m │\n",
       "├─────────────────────────────────┼────────────────────────┼───────────────┤\n",
       "│ max_pooling2d_11 (\u001b[38;5;33mMaxPooling2D\u001b[0m) │ (\u001b[38;5;45mNone\u001b[0m, \u001b[38;5;34m17\u001b[0m, \u001b[38;5;34m17\u001b[0m, \u001b[38;5;34m128\u001b[0m)    │             \u001b[38;5;34m0\u001b[0m │\n",
       "├─────────────────────────────────┼────────────────────────┼───────────────┤\n",
       "│ flatten_3 (\u001b[38;5;33mFlatten\u001b[0m)             │ (\u001b[38;5;45mNone\u001b[0m, \u001b[38;5;34m36992\u001b[0m)          │             \u001b[38;5;34m0\u001b[0m │\n",
       "├─────────────────────────────────┼────────────────────────┼───────────────┤\n",
       "│ dense_6 (\u001b[38;5;33mDense\u001b[0m)                 │ (\u001b[38;5;45mNone\u001b[0m, \u001b[38;5;34m512\u001b[0m)            │    \u001b[38;5;34m18,940,416\u001b[0m │\n",
       "├─────────────────────────────────┼────────────────────────┼───────────────┤\n",
       "│ dropout_3 (\u001b[38;5;33mDropout\u001b[0m)             │ (\u001b[38;5;45mNone\u001b[0m, \u001b[38;5;34m512\u001b[0m)            │             \u001b[38;5;34m0\u001b[0m │\n",
       "├─────────────────────────────────┼────────────────────────┼───────────────┤\n",
       "│ dense_7 (\u001b[38;5;33mDense\u001b[0m)                 │ (\u001b[38;5;45mNone\u001b[0m, \u001b[38;5;34m1\u001b[0m)              │           \u001b[38;5;34m513\u001b[0m │\n",
       "└─────────────────────────────────┴────────────────────────┴───────────────┘\n"
      ]
     },
     "metadata": {},
     "output_type": "display_data"
    },
    {
     "data": {
      "text/html": [
       "<pre style=\"white-space:pre;overflow-x:auto;line-height:normal;font-family:Menlo,'DejaVu Sans Mono',consolas,'Courier New',monospace\"><span style=\"font-weight: bold\"> Total params: </span><span style=\"color: #00af00; text-decoration-color: #00af00\">57,102,533</span> (217.83 MB)\n",
       "</pre>\n"
      ],
      "text/plain": [
       "\u001b[1m Total params: \u001b[0m\u001b[38;5;34m57,102,533\u001b[0m (217.83 MB)\n"
      ]
     },
     "metadata": {},
     "output_type": "display_data"
    },
    {
     "data": {
      "text/html": [
       "<pre style=\"white-space:pre;overflow-x:auto;line-height:normal;font-family:Menlo,'DejaVu Sans Mono',consolas,'Courier New',monospace\"><span style=\"font-weight: bold\"> Trainable params: </span><span style=\"color: #00af00; text-decoration-color: #00af00\">19,034,177</span> (72.61 MB)\n",
       "</pre>\n"
      ],
      "text/plain": [
       "\u001b[1m Trainable params: \u001b[0m\u001b[38;5;34m19,034,177\u001b[0m (72.61 MB)\n"
      ]
     },
     "metadata": {},
     "output_type": "display_data"
    },
    {
     "data": {
      "text/html": [
       "<pre style=\"white-space:pre;overflow-x:auto;line-height:normal;font-family:Menlo,'DejaVu Sans Mono',consolas,'Courier New',monospace\"><span style=\"font-weight: bold\"> Non-trainable params: </span><span style=\"color: #00af00; text-decoration-color: #00af00\">0</span> (0.00 B)\n",
       "</pre>\n"
      ],
      "text/plain": [
       "\u001b[1m Non-trainable params: \u001b[0m\u001b[38;5;34m0\u001b[0m (0.00 B)\n"
      ]
     },
     "metadata": {},
     "output_type": "display_data"
    },
    {
     "data": {
      "text/html": [
       "<pre style=\"white-space:pre;overflow-x:auto;line-height:normal;font-family:Menlo,'DejaVu Sans Mono',consolas,'Courier New',monospace\"><span style=\"font-weight: bold\"> Optimizer params: </span><span style=\"color: #00af00; text-decoration-color: #00af00\">38,068,356</span> (145.22 MB)\n",
       "</pre>\n"
      ],
      "text/plain": [
       "\u001b[1m Optimizer params: \u001b[0m\u001b[38;5;34m38,068,356\u001b[0m (145.22 MB)\n"
      ]
     },
     "metadata": {},
     "output_type": "display_data"
    }
   ],
   "source": [
    "model.summary()"
   ]
  },
  {
   "cell_type": "code",
   "execution_count": 159,
   "id": "5780902b-0d79-4275-9480-9a4c936e33db",
   "metadata": {},
   "outputs": [
    {
     "name": "stdout",
     "output_type": "stream",
     "text": [
      "Shape of the preprocessed image: (1, 150, 150, 3)\n",
      "\u001b[1m1/1\u001b[0m \u001b[32m━━━━━━━━━━━━━━━━━━━━\u001b[0m\u001b[37m\u001b[0m \u001b[1m0s\u001b[0m 43ms/step\n",
      "The predicted class is: covid\n",
      "[[0.06223935]]\n"
     ]
    }
   ],
   "source": [
    "# Example usage\n",
    "image_path_axby_o = 'C:\\\\Users\\\\SRIRAM\\\\Documents\\\\Image Classification\\\\covid_from_website.png'\n",
    "\n",
    "\n",
    "# Load the image using OpenCV\n",
    "image_pred = cv2.imread(image_path_axby_o)\n",
    "\n",
    "if image_pred is None:\n",
    "    print(f\"Error: Unable to load image at {image_path}\")\n",
    "else:\n",
    "    # Resize the image to match the input shape of the model (150x150)\n",
    "    image_pred = cv2.resize(image_pred, (150, 150))\n",
    "\n",
    "    # Convert the image to a numpy array\n",
    "    image_pred = np.array(image_pred)\n",
    "\n",
    "    # Rescale the image (if the model was trained with rescaling)\n",
    "    image_pred = image_pred / 255.0\n",
    "\n",
    "    # Add an extra dimension to match the input shape (1, 150, 150, 3)\n",
    "    image_pred = np.expand_dims(image_pred, axis=0)\n",
    "\n",
    "    # Print the shape of the preprocessed image\n",
    "    print(\"Shape of the preprocessed image:\", image_pred.shape)\n",
    "\n",
    "    # Predict using the model\n",
    "    prediction = model.predict(image_pred)\n",
    "\n",
    "    # Decode the prediction\n",
    "    predicted_class = 'normal' if round(prediction[0][0]) == 1 else 'covid'\n",
    "\n",
    "    # Print the predicted class\n",
    "    print(f'The predicted class is: {predicted_class}')\n",
    "    print(prediction)"
   ]
  },
  {
   "cell_type": "code",
   "execution_count": null,
   "id": "a860aa80-5c3a-4523-958a-5e60a9bf0fcc",
   "metadata": {},
   "outputs": [],
   "source": []
  }
 ],
 "metadata": {
  "kernelspec": {
   "display_name": "Python 3 (ipykernel)",
   "language": "python",
   "name": "python3"
  },
  "language_info": {
   "codemirror_mode": {
    "name": "ipython",
    "version": 3
   },
   "file_extension": ".py",
   "mimetype": "text/x-python",
   "name": "python",
   "nbconvert_exporter": "python",
   "pygments_lexer": "ipython3",
   "version": "3.12.4"
  }
 },
 "nbformat": 4,
 "nbformat_minor": 5
}
