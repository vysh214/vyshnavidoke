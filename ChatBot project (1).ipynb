{
 "cells": [
  {
   "cell_type": "code",
   "execution_count": 3,
   "id": "bd08ed44",
   "metadata": {},
   "outputs": [
    {
     "data": {
      "text/plain": [
       "'C:\\\\Users\\\\Admin'"
      ]
     },
     "execution_count": 3,
     "metadata": {},
     "output_type": "execute_result"
    }
   ],
   "source": [
    "pwd"
   ]
  },
  {
   "cell_type": "code",
   "execution_count": 4,
   "id": "b02e2c40",
   "metadata": {},
   "outputs": [],
   "source": [
    "import numpy as np\n",
    "import nltk\n",
    "import string\n",
    "import random"
   ]
  },
  {
   "cell_type": "code",
   "execution_count": 5,
   "id": "29c4fb83",
   "metadata": {},
   "outputs": [
    {
     "name": "stderr",
     "output_type": "stream",
     "text": [
      "[nltk_data] Downloading package punkt to\n",
      "[nltk_data]     C:\\Users\\Admin\\AppData\\Roaming\\nltk_data...\n",
      "[nltk_data]   Package punkt is already up-to-date!\n",
      "[nltk_data] Downloading package wordnet to\n",
      "[nltk_data]     C:\\Users\\Admin\\AppData\\Roaming\\nltk_data...\n",
      "[nltk_data]   Package wordnet is already up-to-date!\n"
     ]
    }
   ],
   "source": [
    "f=open('chatbot.txt','r',errors = 'ignore')\n",
    "raw_doc=f.read()\n",
    "raw_doc = raw_doc.lower()\n",
    "nltk.download(\"punkt\")\n",
    "nltk.download(\"wordnet\")\n",
    "sent_tokens = nltk.sent_tokenize(raw_doc)\n",
    "word_tokens = nltk.word_tokenize(raw_doc)"
   ]
  },
  {
   "cell_type": "code",
   "execution_count": 6,
   "id": "7f7a9e18",
   "metadata": {},
   "outputs": [
    {
     "data": {
      "text/plain": [
       "['data science is an interdisciplinary field that uses scientific methods, processes, algorithms and systems to extract knowledge and insights from noisy, structured and unstructured data,[1][2] and apply knowledge and actionable insights from data across a broad range of application domains.',\n",
       " 'data science is related to data mining, machine learning and big data.']"
      ]
     },
     "execution_count": 6,
     "metadata": {},
     "output_type": "execute_result"
    }
   ],
   "source": [
    "sent_tokens[:2]"
   ]
  },
  {
   "cell_type": "code",
   "execution_count": 7,
   "id": "a33f2e6d",
   "metadata": {},
   "outputs": [
    {
     "data": {
      "text/plain": [
       "['data', 'science']"
      ]
     },
     "execution_count": 7,
     "metadata": {},
     "output_type": "execute_result"
    }
   ],
   "source": [
    "word_tokens[:2]"
   ]
  },
  {
   "cell_type": "code",
   "execution_count": 8,
   "id": "cde7d93e",
   "metadata": {},
   "outputs": [
    {
     "name": "stdout",
     "output_type": "stream",
     "text": [
      "['hello', 'world', 'my', 'name', 'is', 'bob', 'and', 'i', 'own', 'a', 'dog', 'a', 'cat', 'and', 'a', 'chicken']\n"
     ]
    }
   ],
   "source": [
    "text = \"Hello World! My name is bob and i own a dog, a cat and a chicken.\"\n",
    "lemmer = nltk.stem.WordNetLemmatizer()\n",
    "\n",
    "def LemTokens(tokens):\n",
    "    return [lemmer.lemmatize(token) for token in tokens]\n",
    "\n",
    "remove_punct_dict = dict((ord(punct), None) for punct in string.punctuation)\n",
    "\n",
    "def LemNormalize(text):\n",
    "    return LemTokens(nltk.word_tokenize(text.lower().translate(remove_punct_dict)))\n",
    "\n",
    "print(LemNormalize(text))"
   ]
  },
  {
   "cell_type": "code",
   "execution_count": 9,
   "id": "bcdd13a2",
   "metadata": {},
   "outputs": [],
   "source": [
    "Greet_inputs = [\"hello\",\"hi\",\"greeting\",\"sup\",\"what's up\",\"hey\"]\n",
    "Greet_responses = [\"hi\",\"hey\",\"*nods*\",\"hi there\",\"hello\",\"i am glad!you are talking to me\"]\n",
    "def greet(sentence):\n",
    "    for word in sentence.split():\n",
    "      if word.lower() in Greet_inputs:\n",
    "            return random.choice(Greet_responses)"
   ]
  },
  {
   "cell_type": "code",
   "execution_count": 10,
   "id": "6ecac8c7",
   "metadata": {},
   "outputs": [],
   "source": [
    "from sklearn.feature_extraction.text import TfidfVectorizer\n"
   ]
  },
  {
   "cell_type": "code",
   "execution_count": 11,
   "id": "be38f15d",
   "metadata": {},
   "outputs": [],
   "source": [
    "from sklearn.metrics.pairwise import cosine_similarity"
   ]
  },
  {
   "cell_type": "code",
   "execution_count": 16,
   "id": "e9e1787e",
   "metadata": {},
   "outputs": [],
   "source": [
    "\n",
    "def response(user_response):\n",
    "    robo1_response = \" \"\n",
    "    TfidVec = TfidfVectorizer(tokenizer = LemNormalize,stop_words='english')\n",
    "    tfidf = TfidVec.fit_transform(sent_tokens)\n",
    "    vals = cosine_similarity(tfidf[-1],tfidf)\n",
    "    idx = vals.argsort()[0][-2]\n",
    "    flat = vals.flatten()\n",
    "    flat.sort()\n",
    "    req_tfidf = flat[-2]\n",
    "    if(req_tfidf == 0):\n",
    "     robo1_response = robo1_respone+\"i am sorry!i don't understand you\"\n",
    "     return robo1_response\n",
    "    else:\n",
    "      robo1_response = robo1_response+sent_tokens[idx]\n",
    "      return robo1_response"
   ]
  },
  {
   "cell_type": "code",
   "execution_count": null,
   "id": "0b1ef42e",
   "metadata": {},
   "outputs": [
    {
     "name": "stdout",
     "output_type": "stream",
     "text": [
      "Bot:My name is stark.let's have a conversation!also,if you want to exit any time,just type bye!\n",
      "hi\n",
      "Bot: hi\n",
      "hello\n",
      "Bot: hi there\n",
      "data science\n",
      "bot:   however, data science is different from computer science and information science.\n"
     ]
    }
   ],
   "source": [
    "flag = True\n",
    "print(\"Bot:My name is stark.let's have a conversation!also,if you want to exit any time,just type bye!\")\n",
    "while(flag == True):\n",
    "    user_response = input()\n",
    "    user_response = user_response.lower()\n",
    "    if(user_response!='bye'):\n",
    "        if(user_response == \"thanks\" or user_response == \"thank you!\"):\n",
    "          flag = False\n",
    "          print(\"Bot: you are welcome\")\n",
    "        else:\n",
    "          if(greet(user_response)!=None):\n",
    "            print(\"Bot: \"+greet(user_response))\n",
    "          else:\n",
    "           sent_tokens.append(user_response)\n",
    "           word_tokens = word_tokens + nltk.word_tokenize(user_response)\n",
    "           final_words = list(set(word_tokens))\n",
    "           print(\"bot: \",end = \" \")\n",
    "           print(response(user_response))\n",
    "           sent_tokens.remove(user_response)\n",
    "    else:\n",
    "         flag = False\n",
    "         print(\"Bot: GoodBye! Takecare <3\")"
   ]
  },
  {
   "cell_type": "code",
   "execution_count": null,
   "id": "f50698bd",
   "metadata": {},
   "outputs": [],
   "source": []
  },
  {
   "cell_type": "code",
   "execution_count": null,
   "id": "dd89d8d4",
   "metadata": {},
   "outputs": [],
   "source": []
  },
  {
   "cell_type": "code",
   "execution_count": null,
   "id": "efc2db44",
   "metadata": {},
   "outputs": [],
   "source": []
  }
 ],
 "metadata": {
  "kernelspec": {
   "display_name": "Python 3",
   "language": "python",
   "name": "python3"
  },
  "language_info": {
   "codemirror_mode": {
    "name": "ipython",
    "version": 3
   },
   "file_extension": ".py",
   "mimetype": "text/x-python",
   "name": "python",
   "nbconvert_exporter": "python",
   "pygments_lexer": "ipython3",
   "version": "3.8.8"
  }
 },
 "nbformat": 4,
 "nbformat_minor": 5
}
